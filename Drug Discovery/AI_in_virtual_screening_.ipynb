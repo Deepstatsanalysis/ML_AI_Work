{
  "nbformat": 4,
  "nbformat_minor": 0,
  "metadata": {
    "colab": {
      "name": "AI in virtual screening .ipynb",
      "provenance": [],
      "collapsed_sections": []
    },
    "kernelspec": {
      "display_name": "Python 3",
      "name": "python3"
    }
  },
  "cells": [
    {
      "cell_type": "code",
      "metadata": {
        "id": "vxpVK-eNlVu-"
      },
      "source": [
        "#Generate linux environment"
      ],
      "execution_count": null,
      "outputs": []
    },
    {
      "cell_type": "code",
      "metadata": {
        "colab": {
          "base_uri": "https://localhost:8080/",
          "height": 562
        },
        "id": "ig8zMCDDEa2V",
        "outputId": "2c8602fe-2ba9-461a-b576-2409eb2f4630"
      },
      "source": [
        "!curl -Lo conda_installer.py https://raw.githubusercontent.com/deepchem/deepchem/master/scripts/colab_install.py\n",
        "import conda_installer\n",
        "conda_installer.install()\n",
        "!/root/miniconda/bin/conda info -e\n",
        "!pip install --pre deepchem\n",
        "import deepchem\n",
        "deepchem.__version__"
      ],
      "execution_count": null,
      "outputs": [
        {
          "output_type": "stream",
          "text": [
            "  % Total    % Received % Xferd  Average Speed   Time    Time     Time  Current\n",
            "                                 Dload  Upload   Total   Spent    Left  Speed\n",
            "100  3490  100  3490    0     0  13960      0 --:--:-- --:--:-- --:--:-- 13960\n"
          ],
          "name": "stdout"
        },
        {
          "output_type": "stream",
          "text": [
            "add /root/miniconda/lib/python3.6/site-packages to PYTHONPATH\n",
            "python version: 3.6.9\n",
            "fetching installer from https://repo.continuum.io/miniconda/Miniconda3-latest-Linux-x86_64.sh\n",
            "done\n",
            "installing miniconda to /root/miniconda\n",
            "done\n",
            "installing rdkit, openmm, pdbfixer\n",
            "added omnia to channels\n",
            "added conda-forge to channels\n",
            "done\n",
            "conda packages installation finished!\n"
          ],
          "name": "stderr"
        },
        {
          "output_type": "stream",
          "text": [
            "# conda environments:\n",
            "#\n",
            "base                  *  /root/miniconda\n",
            "\n",
            "Collecting deepchem\n",
            "\u001b[?25l  Downloading https://files.pythonhosted.org/packages/f5/93/d18eb84013aaa7bae8cf39acaf07f0aae696da0a0bbd0b98154a07ee3c4c/deepchem-2.4.0rc1.dev20201229035111-py3-none-any.whl (530kB)\n",
            "\u001b[K     |████████████████████████████████| 532kB 6.8MB/s \n",
            "\u001b[?25hRequirement already satisfied: scikit-learn in /usr/local/lib/python3.6/dist-packages (from deepchem) (0.22.2.post1)\n",
            "Requirement already satisfied: scipy in /usr/local/lib/python3.6/dist-packages (from deepchem) (1.4.1)\n",
            "Requirement already satisfied: pandas in /usr/local/lib/python3.6/dist-packages (from deepchem) (1.1.5)\n",
            "Requirement already satisfied: joblib in /usr/local/lib/python3.6/dist-packages (from deepchem) (1.0.0)\n",
            "Requirement already satisfied: numpy in /usr/local/lib/python3.6/dist-packages (from deepchem) (1.19.4)\n",
            "Requirement already satisfied: python-dateutil>=2.7.3 in /usr/local/lib/python3.6/dist-packages (from pandas->deepchem) (2.8.1)\n",
            "Requirement already satisfied: pytz>=2017.2 in /usr/local/lib/python3.6/dist-packages (from pandas->deepchem) (2018.9)\n",
            "Requirement already satisfied: six>=1.5 in /usr/local/lib/python3.6/dist-packages (from python-dateutil>=2.7.3->pandas->deepchem) (1.15.0)\n",
            "Installing collected packages: deepchem\n",
            "Successfully installed deepchem-2.4.0rc1.dev20201229035111\n"
          ],
          "name": "stdout"
        },
        {
          "output_type": "execute_result",
          "data": {
            "application/vnd.google.colaboratory.intrinsic+json": {
              "type": "string"
            },
            "text/plain": [
              "'2.4.0-rc1.dev'"
            ]
          },
          "metadata": {
            "tags": []
          },
          "execution_count": 1
        }
      ]
    },
    {
      "cell_type": "code",
      "metadata": {
        "id": "eIG6235mKTLb"
      },
      "source": [
        "# deepchem library which will use in developing deep learning model for virtual screening\r\n",
        "import deepchem as dch"
      ],
      "execution_count": null,
      "outputs": []
    },
    {
      "cell_type": "markdown",
      "metadata": {
        "id": "REd_WDC5LKUb"
      },
      "source": [
        "ChEMBL is a manually curated database of bioactive molecules with drug-like properties."
      ]
    },
    {
      "cell_type": "markdown",
      "metadata": {
        "id": "gEe8RpRVLEAz"
      },
      "source": [
        "The Delaney(ESOL) dataset a regression dataset containing structures and water solubility data for 1128 compounds. The dataset is widely used to validate machine learning models on estimating solubility directly from molecular structures (as encoded in SMILES strings).\n",
        "\n",
        "\"Compound ID\" - Name of the compound.\n",
        "\n",
        "\"smiles\" - SMILES representation of the molecular structure.\n",
        "\n",
        "\"measured log solubility in mols per litre\" - Log-scale water solubility of the compound, used as label.\n",
        "\n",
        "https://deepchem.readthedocs.io/en/latest/moleculenet.html"
      ]
    },
    {
      "cell_type": "code",
      "metadata": {
        "colab": {
          "base_uri": "https://localhost:8080/"
        },
        "id": "MwX-HWipKYxm",
        "outputId": "e7c00e22-34d2-40c2-dca1-b113989b02b8"
      },
      "source": [
        "delaney_tasks, delaney_datasets, transformers = dch.molnet.load_delaney(create_dataset='GraphConv', split='index')                       \n",
        "train_dataset, valid_dataset, test_dataset = delaney_datasets"
      ],
      "execution_count": null,
      "outputs": [
        {
          "output_type": "stream",
          "text": [
            "'split' is deprecated.  Use 'splitter' instead.\n"
          ],
          "name": "stderr"
        }
      ]
    },
    {
      "cell_type": "code",
      "metadata": {
        "colab": {
          "base_uri": "https://localhost:8080/"
        },
        "id": "wAcJfCC1Kwg4",
        "outputId": "ea8783e6-f2b8-4629-fc6d-ad8ab6e04bf1"
      },
      "source": [
        "valid_dataset.get_shape"
      ],
      "execution_count": null,
      "outputs": [
        {
          "output_type": "execute_result",
          "data": {
            "text/plain": [
              "<bound method DiskDataset.get_shape of <DiskDataset X.shape: (113, 1024), y.shape: (113, 1), w.shape: (113, 1), ids: ['COC(C)(C)CCCC(C)CC=CC(C)=CC(=O)OC(C)C' 'CCOC(=O)CC'\n",
              " 'CSc1nc(NC(C)C)nc(NC(C)C)n1' ... 'BrCCBr' 'CNC(=O)Oc1ccccc1C(C)C'\n",
              " 'O=C1NCCN1c2ncc(s2)N(=O)=O'], task_names: ['measured log solubility in mols per litre']>>"
            ]
          },
          "metadata": {
            "tags": []
          },
          "execution_count": 4
        }
      ]
    },
    {
      "cell_type": "code",
      "metadata": {
        "id": "AhswslAwcqmP"
      },
      "source": [
        "import numpy as np\n",
        "# RDKit libraries for chemistry functions\n",
        "from rdkit import Chem\n",
        "# Drawing chemical structures\n",
        "from rdkit.Chem import Draw\n",
        "from rdkit.Chem.Draw import IPythonConsole\n",
        "import pandas as pd\n",
        "# Manipulating chemical data\n",
        "from rdkit.Chem import PandasTools\n",
        "# Calculating molecular descriptors\n",
        "from rdkit.Chem import Descriptors\n",
        "# Additional molecular properties\n",
        "from rdkit.Chem import rdmolops\n",
        "import seaborn as sns                   "
      ],
      "execution_count": null,
      "outputs": []
    },
    {
      "cell_type": "code",
      "metadata": {
        "id": "bPX050jkeP1P"
      },
      "source": [
        "import warnings\n",
        "warnings.filterwarnings('ignore')"
      ],
      "execution_count": null,
      "outputs": []
    },
    {
      "cell_type": "code",
      "metadata": {
        "id": "m84sEUVWLZu6"
      },
      "source": [
        "#active molecules \n",
        "active_molecules = pd.read_csv(\"data/actives_final.ism\",header=None,sep=\" \")\n",
        "active_rows,active_cols = active_molecules.shape\n",
        "active_molecules.columns = [\"SMILES\",\"ID\",\"ChEMBL_ID\"]\n",
        "active_molecules[\"label\"] = [\"Active\"]*active_rows\n",
        "PandasTools.AddMoleculeColumnToFrame(active_molecules,\"SMILES\",\"Mol\")"
      ],
      "execution_count": null,
      "outputs": []
    },
    {
      "cell_type": "code",
      "metadata": {
        "colab": {
          "base_uri": "https://localhost:8080/",
          "height": 1000
        },
        "id": "w6yArdFALlN7",
        "outputId": "4bdd2215-d4cd-4c84-c72b-4e20d1ddbbf9"
      },
      "source": [
        "active_molecules.head(5)\n",
        "#ChEMBL is a manually curated database of bioactive molecules with drug-like properties. \n",
        "#It brings together chemical, bioactivity and genomic data to aid the translation of genomic information into effective \n",
        "#new drugs.\n",
        "# molecular structure , Id , Chembl_d (ChEMBLdb is a manually curated chemical database Id), Active , Molecture Diagram "
      ],
      "execution_count": null,
      "outputs": [
        {
          "output_type": "execute_result",
          "data": {
            "text/html": [
              "<div>\n",
              "<style scoped>\n",
              "    .dataframe tbody tr th:only-of-type {\n",
              "        vertical-align: middle;\n",
              "    }\n",
              "\n",
              "    .dataframe tbody tr th {\n",
              "        vertical-align: top;\n",
              "    }\n",
              "\n",
              "    .dataframe thead th {\n",
              "        text-align: right;\n",
              "    }\n",
              "</style>\n",
              "<table border=\"1\" class=\"dataframe\">\n",
              "  <thead>\n",
              "    <tr style=\"text-align: right;\">\n",
              "      <th></th>\n",
              "      <th>SMILES</th>\n",
              "      <th>ID</th>\n",
              "      <th>ChEMBL_ID</th>\n",
              "      <th>label</th>\n",
              "      <th>Mol</th>\n",
              "    </tr>\n",
              "  </thead>\n",
              "  <tbody>\n",
              "    <tr>\n",
              "      <th>0</th>\n",
              "      <td>Cc4cc(c1cc(O)ccc1Cl)cc5nnc(Nc3ccc(CCCN2CCCC2)c...</td>\n",
              "      <td>416908</td>\n",
              "      <td>CHEMBL250213</td>\n",
              "      <td>Active</td>\n",
              "      <td><img data-content=\"rdkit/molecule\" src=\"data:image/png;base64,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\" alt=\"Mol\"/></td>\n",
              "    </tr>\n",
              "    <tr>\n",
              "      <th>1</th>\n",
              "      <td>CN(CCN1CCCC1)S(=O)(=O)c5ccc(Nc4nnc3cc(c2cc(O)c...</td>\n",
              "      <td>416918</td>\n",
              "      <td>CHEMBL250019</td>\n",
              "      <td>Active</td>\n",
              "      <td><img data-content=\"rdkit/molecule\" src=\"data:image/png;base64,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\" alt=\"Mol\"/></td>\n",
              "    </tr>\n",
              "    <tr>\n",
              "      <th>2</th>\n",
              "      <td>CN5CCN(Cc4ccc(NC(=O)c3ccc(C)c(C#Cc1cnc2cccnn12...</td>\n",
              "      <td>649637</td>\n",
              "      <td>CHEMBL1171837</td>\n",
              "      <td>Active</td>\n",
              "      <td><img data-content=\"rdkit/molecule\" src=\"data:image/png;base64,iVBORw0KGgoAAAANSUhEUgAAAMgAAADICAIAAAAiOjnJAAAABmJLR0QA/wD/AP+gvaeTAAAacElEQVR4nO2daVRUR9qA397Y9x2NgEYUwWUMIiKJxAQlDmggm5oI6sl8qIkfeEIUZvSzmeOMC0YlY0xEMAkoybhABFlF0IgGQiRoJGLGuJAoiCDIJk033e/3o7QPQwS6b1PQDfX8mGN6blXXpZ97q27VW+/lISIwGAMNf6gbwBieMLEYVGBiMajAxGJQgYnFoAITi0EFJhaDCkwsBhWYWAwqMLEYVGBiMajAxGJQgYnFoAITi0EFJhaDCkwsBhWYWAwqMLEYVGBiMajAxGJQgYnFoAITi0EFJhaDCkwsBhWYWAwqMLEYVGBiMajAxGJQgYnFoAITi0EFJhaDCkwsBhWYWAwqMLEYVGBiMajAxGJQgYnFoAITi0EFJhaDCkwsBhWYWAwqMLEYVGBiMajAxGJQgYnFoAITi0EFJhaDCkwsBhWYWAwqMLEYVGBiMajAxGJQgYnFoIJwqBtAhYqKigsXLpSVlQUHBwcHB/P57PoZdHB4IZfLd+7cqaenp5TJ1dV1//79jx49GuqmjSy0VKzExMTvv/9e3VL37t1bsGABAPB4vHfffTcxMXHixIlEL1tbW7FYXF9fT6O1jD+ijWLV1dUZGhoCgK+v79GjR7u6ulQplZ6ebm1tTRw6cuTI1atXEVEul2dmZvr4+BC99PX1Q0NDr127RvkMGFop1oMHD2JiYiwsLIgN7u7uBw8elEgkvR3/6NGjiIgIcvC8efNycnJcXV3Hjh3b3NysPKa4uDgoKIjH4wEAn88PCgr67rvvBuVsRijaKBahtbU1Pj7e2dmZGGNnZycWix88eNDjsB9++GHChAkAYGBgsHXr1r///e9CoRAApk+ffvv27R4HV1ZWrly5Uk9Pj9T54osv/vrrr4N1QiML7RWLQPqymTNnEhVMTEwiIiKIMQqFIj4+nlji4eGRl5c3Z84cMsCKiIjo4w537949sVhsZWVlaGi4adOmQTybEYS2i6Xk1KlT8+fPJ3oJhcKQkBBiG4/HW7duXWpqqqWlJQDY29vn5OSoUmFLSwsZyT18+JB240cgOiMW4fLly6GhoSKRCACMjIxsbW2PHTu2bNkyItxrr73W0NDQbyVNTU1lZWXXr193dXUFADaWp4GOiUWorq4ePXo0ABQUFLS1tU2cONHQ0DA+Pl7F4nv37gWANWvWvPDCCwBw5swZmo0doejkzLuTk9PUqVPv3r3b2dlpbGx85MgRQ0NDMoRXBUdHRwC4d++e8h8U2zpS0UmxAMDBwQGeODFt2jRuZb28vACgtraWQgNHOrq6iEbk4OaEsiz5R11d3cC2jQG6Lha3XkzZA2piJ6NvdFUsTYZHRkZGZmZmEonEzMyMcyWMvtHtMRbnm42Dg0NLSwuJgND0jtXaComJIJXCihXg4KBRVcMIXb1jadIVKosjoiaVPGbTJli6FN57DzZu1Kie4YWuikW6Qs43G1IcEYVCYUNDg0wmU7uKmhrYvx8AoLMTHB3BzAyeLEEyQHfFMjExMTEx6ejoaGlp4VA8MTFRKpW+/vrrtra2iKj2g+GJEzBtGrz3HuTmAiJIpY//l/EEXRUL/nuYVVJSUl5ernpZU1NTkUh05syZR48e2dra/vnPf05JSZHL5f2X7OiAyEgICYGGBvD3B4UCVq6E2FjYtAlWr+Z6KsORIZ751wCyIHP27FlEnDVrFgD4+vpmZmYqFIp+y3Z2dm7YsIEM3slSNAC4ubkdOHCgj7CIH3744bdFixAADQzw449xzx4UiTAgAFX4xpGGror14MEDZ2dnY2PjmTNnnjt3bv369ebm5sSPyZMnf/nll52dnb2Vraqqeu655wBAKBRGR0c3NTUlJCQoV4RI4FePxWy5XL5t2zaRSORmbS3x88P8fHz+eQRAPh8//BBlMvpnrGPopFiFhYXPPPMMABgbGxMb5s6dm5aWtmfPnjFjxpBP7O3txWJxY2Njj7LJycmklIuLS3FxsfJzEvjl7e1NihsbG4eHh//yyy+I+Ntvv7344osAwOPxwsPD81NT0cICAXD0aDx9elDPXHfQMbFkMplYLCZdmLe3d0lJiVgsJpFYAODq6rpr166kpKQpU6aQTxwcHJS3rvr6+ldffZV8/uabbzY1NT31K3oEMQcGBo4bN45UlZ6eHh4eDgCX/PwwJARVCNEZseiSWD26MKlUSj5vaWmJj493cnLqfq/KyckJCgp6//33yTGnT58mkTbm5uaHDx/u97suX74cFhZGAr8AwMPDIysra+zYseRmlnzwIMXzHBbojFi9dWFKpFLp0aNHScACAJiamkZERNy4cUMikURHR5ObnI+Pz40bN1T/0traWrFYbGhoOH78eFKDl5cX6R8ZfaMDYqnYhREUCkVubu7LL79MjheJRGRWQiQSbd26VcWdZD1YsWIFADg5OUVERPTxTMDojtaJ1dra2v0/1e3ClFy6dCk0NFQoFC5YsGDs2LEXLlzg3KSNGzcCwObNmznXMALRLrGKioqeeeaZ1NRURJRIJFFRUWQQ7efnV11dzaHCW7dutbS09JBVXZShzJpUMvzoe75QW2bepVJpdHS0v7//nTt3UlNTq6qqfHx8Ll68KBAIxGJxYWGhcmyuFi4uLqampiYmJpq0TcMF7+GHQqH4+OOPg4KCFApFb8doRdjMtWvX3nnnnR9//FEoFK5fv97R0dHT07Ojo8PNza2kpGTGjBlD27zRoyfOnv22qan30DZDS6iurg4NDS0uLubxeMXFxX5+fk8/btDunL2hfNxzdnY+efLkwoULScNCQ0M17MIGil9/RQB0cRnqdgwQpaWly5cvDwoKioiI+P3339Uqe+zYMSsrK1Bh/+ZQitXjcS89PZ1Es1hYWHzxxRdr1qwpKSkZwuYpaW9/vDyo63R1dW3ZsoWkICDo6+u/++67JIFK3zQ3Y1iYYvLk/wGAkJCQfvdvDqVYu3fvJhodOnRIOdX00ksv5ebmurm5AYCHh4dcLh/CFioxM0MA7HOiQ9uprq7unoKguLj49ddfJ39zPp+/dm3auXO9lr1wAceORQCcOLHzwIFEVb5uKMWSy+VRUVEFBQVk/5ZIJNq8efOePXv09fUBwN3dvaKiYgib150JExAAVbiwtZSjR48+NQXBzZs3IyIi7O0dzMweAuBzz2Fy8n8tqctkuH07ikQIgJ6eqPqm8aEUS6FQJCQkGBkZAYCbm1tBQcErr7wCT9Z629vbh7BtPZgzB/X18WkT/mqQlZVVXFycnp4+mLfh5uZmsr7ZRxdWX98pFqONDQIgAI4fj//3f1hQgIgYFfU4hmPDBlRrbnjIxKqpqSEz2gCwevXqr7/+mqRNs7OzO3ny5FC1qjtJSYiId+5gWhp+8AEiYm4u1tZyqaqlpYX8uiQr07hx4+Lj4wfhyiktLR0/fjwAqJKCQCLB5GR0c0MAXLUKV67E9naMjMS//hWLitT+6qERKy8vz8HBYdSoUc8++2xGRsYXX3xBDAsMDKyrqxuSJv2RtWsREauqcNs2nDMH09Nx7168fl3tekpLS5999lkAMDIyWrJkCVnJJpfQli1bVMliwgGZTLZ9+3ayiD5jxgzV1zflcjxzBmNjsaICY2MxMpJjAwZbrPb29lWrVpG/bEBAQG1tLSK2tbVNmTIlPj5eleDPQcPfH//xD1y3Drdtw61bcc0a3L4dCwsxK0vViNGuri7lrzt58mSSQ5AEfpGQV3iSvXJgF7bv379PsmPy+fyYmBhlGIjqxMZiczNu345LlnBsA0ex2traZOqHTV65coVESunr62/fvr37UINDbbTpfsfauhVv3kRXV1y8+PEoJD4eOzr6Kt7jKSw1NdXKyqqoW6fyx+yVAzW9UlRU5OLi4ujoyDmRzunT2NiIV6/ivn0c28BFrE2bNq1evdrKyio0NDQzM1OVC4Jk3yOPe5MmTdKex70+OH4cEbGuDvPyMDcXETElBbdtwzFjHg9yR43CnTulT4226P4UduzYscWLF5P707p163oceeXKleXLlyuzV86dO7eADJs1YOnSpQCwf/9+TSpZtQoB8NNPORZXW6zDhw+TqQHlJJutre3q1asLCwt7C0q5d++e1j7ucUAux8xM9PJCAJwzp5Jkr1Sukfd4CsvNzSUBqKampgkJCb3VSbJXEheXLFly8+ZNTVr4wQcfAMDOnTs1qUQsRgDkHNKhnljXr18n+Q6SkpKuXLkiFosnTZqkNMza2prcw7r3a8os2drzuDdQ5Ofj0qV/I+cuEomWLVt26NAh5VPY7t27xWKxQCAAAC8vr//85z/9Vtjc3Ozv7w8AYrFYk4bFxcUBQFRUlCaVfPYZAmB4OMfiaoglkUimT58OAG+99RYiJiYmuru7i8XirKwssVhM5sq7G3b8+PG1a9eST+bPn19TU8OxjdpNRUXFO++8Q9ZJyFU3Y8aMwsJCX19fABAIBN2jqPumvb193759ALBq1SpNmpSSkgIAb7/9tiaVfPMNAuDChRyLqyHW3/5WP2bMHFdX15aWFkQMDg5WmuTp6bljx478/HyxWKx8GQTB0NBw7969WvW4R4Pq6mrS3U+dOlUqlUZGRkLvUdRPhSzu/vvf/waAV199VZPGFBQUCAR6ixat0KSS0lIEQC8vjsVVFev4cQRAOztFRcXjW7pEIsnIyFi2bBm5TAleXl5xcXG5ubnR0dHkYaeyspJj03SN/Px8APD390fE9vb29evXq5WPmWxcS09PBwBvb29NWlJZ2cXno7u7JnVgdfWDGTMWzJ49j1txlcSqrkYrKwTAvXuf8v9KJJLMzMzQ0FClYQcPHpRKpWTkwa1Zusjly5fJfBW34mQbSFpaGgA4OTlp0pL6egRAS0tN6kCJRMLj8UQiEbcFqP7FkkrRxwcBMCion4nBjo6O9PT0pUuXNjQ0dHR0AIDBMIg1URmSWcTa2ppb8UWLFgHA0aNHAUBPT0+TwYNCgXp6CNDPTFu/kN6Z25ut+g9NvnoVfvkFXFwgJQV4vL6ONDAwCAkJ+eqrr6ytrUnQ6oh6UaCNjY1IJGpsbJRySjtDAqAbGhosLCykUmlTUxPnlvB4YG8PAKBhdlVNstv1+sO3tQFZevntN8jOhm++gSf7jVWCZG4hD9sjBD6fb2dnhxySIgHAk1+xrq5uQDKjktSCGuYqtLW1Ba7B/r2KJZPBzZuQmgp37oCFBfzpT+rVi2jg53dt1qxSDm3SXTTZdtEjl7Mmezc6O2HxYjhxAoRCaGvjWElBQUFFRUVAQICdnR2H4n11VX5+UFYGzc1cmtXVJfr224nl5e5cCussmtxsBvC1Bs3NsG8feHhASQmX3lAikURGRgYEBLS0tFhaWqqbRp/QzxgoOho+/5xDtUD2BY2kIRaAZrmclTeqAekKw8Lgo48AACQS6OhQo+DVq1dnzZr1r3/9i2y8S01N5daAXn95AwOYPRtGjYKdO6GiAoqKoKsLYmNBLFapXpIcbyQNsQA06wo9PDzy8/NTUlI07ApzcuDGDTAwgMBAOHECDh8GJyeIiel/vIWIBw4c8PLyunz5spub2/fffx8bG8v98avf58a8POTxcNQozMtDgQAFAuwj6l5JTQ0CoKMjhwdVHeaTTz6Bbnumf/75Z3VrUCgUYWFhAoFg9OjRGRkZas0hdXRgdDTy+Th1Kn70ESLiG29gQMDjWAwjI3z/feztvZ91dXWBgYFEidDQ0La2NnVb3oP+xZLLce5cBMDgYNy4EQHQ2Rmbmvo54fp6fP55XLBAw+bpGMePHweAkJAQRDx//jyok70Su/26JL4IANzc3BITE/vIXqnk559x2jQEQKEQxWLsHmhy5gwGBiKPhwA4ffqZN998s6ysrHvZvLw80onb2NicOHFCvXPuBZVm3n///fHM+2ef4QsvdPj5Rb/xxpt9F1m2DCsqsKGBe0CPLkJkcnBwKC8vT0lJUS5FTJkyJTk5ue+l6FOnTpFf19zc/PPPP09ISCCvU4TeX1tMUCgUSUlnDAzI9iy8ePHp9VdW4sqVOGvW4/3Afn5+WVlZ5HXaJNjw5ZdfvnPnjuZ/BIKqa4Vff40AOGXKT/n5BSQVQnJycm8Hd3ZiZCSGh2NtLf7znwPUUl2gvb19165d5Jfz9fU9cuRI9+yVDg4OT81e2dHR0X1bpXJ3co/slSYmJuHh4T3Cb8hNjsfjeXmdDA3FfreO3717Nzo6WvkidxIBpq+vv3v37oENFFAjuiE6Ot/AwMDT0zMhIQEAzMzM7t692/2AW7cwPh79/dHTEz/4AM+fxy1bRpZYiHjnzp0PP/xQea+aOnXqwYMHDx48OHnyZPKJubl5Wlqa8vjKykrltkqxWPzUQdUfg5hLS0sRMTMzk8xh2tjYZGRkq95I8iJ3JyenFStWuLu7//jjj5qfeA/UEKu1tZXcnGNiYsLCwj777DPyeXl5eVxc3ZQpjweJZDf66tWIiGvX4ubNuGEDPno04C3Xakj2yh73KpK9ks/nky3tPbZVlpeX911n99cWA8C4ceOIavPmzetxhauIVCptb2/nloyuX9SLIC0rKxOJRHw+//Tp08XFxdHR0SSLtZ9fGgAaG2NQECYnY3MzXrqEiPjgAb7yCgLgCy/o9v50bkil0uTkZOW9imSvJBFanJ/CSPZKCwsLb29vIyOjHntStAe1Y95jY2MBQK/be2NGjRq1fv2uU6fwqWPTqip0ckIA9PDAgRsa6hIKhSInJ2fu3Lnkz6Wnpzdv3jwSrm1ra5uRkcGhzocPH964cUN79mD+EbXFkslkdnZ21tbWzs7O5Prr94q5exdJRzl2LKoQ+T1sqaioINkrjY2N+Xy+v78/ty5MJ+AhokoTqU+4f/++vb29iYnJw4cPVQ9eaGyEoCAoKQF7e8jLU3tJezhRVVXl7u4uEokkEskwDitS+8S+++47APD29lYrJMbKCk6dAn9/qKuDuXPh1i11v3b4MGnSJHNzc5lM1sxteV9HUFuskpISACA7uNXCxASys2HxYli8GBYuhOZmyMyEkhJ1qxkOjIR3UQ+eWACgpwdffQX79sG0abBjB0il0NXFoRqdR/PAGO1HPbFkMll5eTmPx5s5cybH7+ODQACOjmBvDxUV3OrQedgdqyeXL19+9OjRhAkTbGxsNPzi99+HwkIN69BVRkJ+b/XScWvSD3ZHLodvv4WUFLCy0rAmnYSJ1RMNxdqzB9zcYNw4iI+Hr77SdA+J7jISxliDJ1ZDA0RFgZERfPIJAMDs2RzqGCaMhDGWGmLV1dXdvn3b1NTU3Z3LFomSEkAELy8oKwMA0Lg71WFU7woP1tYiwCQjI98nLybWFdQQq8fUaFtbm1rvqCFTVj4+kJf3+B8jln67wna5vF4m4wE0dnWtfxIioVuoIdbFixcBgISCHDp0KCYmJjc3d+rUqSoW/+WX/509e8LMmYHZ2bZGRqaenhxaq+0oALoQAUDE62vTuIWFhVAobGxs/OabbxobG2tqau7fv98hEilWrXogkzXIZJ0KBQDMNjPrREysrfUzN59gZDRYJzEwqLFWWFtb6+np2dzcnJ6eHhcXV1RUZGVllZ2drczT2gdyudzCwqK9vT09PT0kJMTb+/nS0mLNWq6NfPvw4YXm5mcMDF62sJAhNnZ1NUilD7q6GmSy+xkZP2RmEofu37+PiEKhsKvbBLGxpaVbQQH5tyGfbysS/cnU1JDPH/53LDs7u8DAwKSkpEWLFiUlJVlaWqalpfn7+x87dmzBggV9l/3pp5/a2trGjx9fVVUFADNnTteo1VqMs4HBRCOjnMbGhJqa7p87NjWRPEcAwOfzhUKhTCabPXv2hAkTRo0aZW9v7+jo6DphgpWenq1IZPhkcTq9vn6wT2CAUEMsgUBw4MABKyuruLi45cuX79y509LSMikpKTg4ODk5ecmSJX2Ura6uNjY2njVr1kDNhGktPB5PwOM56uk56etbiUTWIpGNSGQtFNrMn79m+nTikJ2dXXBwcFZW1oYNG5SvqXoqr9naDlrLBxgOoTbx8fFkCBEdHU0SrPF4vF27dvVdSiaTNTQ0kBjtW7ducfhe7edsU9P3LS2qHPmXv/wFNE5srM1wiQeKjIz88ssvhULhjh07Wltb9+zZAwBRUVExMTG9FVEoFBcvXty0aVNDQ4O9vb2Liwunq0DbmW5q6qHaKHvYz5FyDDQLCwtLT083NDT89NNPz507l5CQIBQKr127RrIXKZHL5efPn4+MjHRycvLx8dm/f/+YMWOys7MHouXaiJlAYKxamNrwX9XR5HZ39uxZc3NzAHjppZeys7M7niSQa2lpOXLkyNKlS827Teu5uLisW7fu7Nmzwz7RrSoU3b79RlnZxqqqoW4ILTR6J7Sfn9/58+cDAgKKiopaW1vHjx9fWlqalZWVk5PT3t5OjnF3d1+4cGFQUJCvr2+fkzsjC2tr61sNDcZD3Qx6qB3z/keuX78eEBBw69YtPp9PMkQKBAJfX9/g4ODg4GDly64Y3anp7FxUWemop3dyypShbgsVBuAt9q6urufPn4+Li6usrOTxeEFBQW+99RYZnDJ6w0YkAoAHMhkCDMvb+ADcsZQgIuvsVOfFS5fa5PKiadPMhANweWsbA3lKzCq1CLSykgO0KxRm/R+rewzbfW3aT51M5mZkdKezc6gbQgUm1pAh5PHMhEKHbskKhhNMrCHDiM931tc3G6Z5WofhsFFXMBQInjU0HOpW0GIgnwoZatHY1WU1HJ8HCUwsBhXYGItBBSYWgwpMLAYVmFgMKjCxGFRgYjGowMRiUIGJxaACE4tBBSYWgwpMLAYVmFgMKjCxGFRgYjGowMRiUIGJxaACE4tBBSYWgwpMLAYVmFgMKjCxGFRgYjGowMRiUIGJxaACE4tBBSYWgwpMLAYVmFgMKjCxGFRgYjGowMRiUIGJxaACE4tBBSYWgwpMLAYVmFgMKjCxGFRgYjGowMRiUIGJxaACE4tBBSYWgwpMLAYVmFgMKjCxGFRgYjGowMRiUIGJxaACE4tBBSYWgwpMLAYVmFgMKjCxGFT4f5S7Cbi1LUppAAACq3pUWHRyZGtpdFBLTCByZGtpdCAyMDIwLjA5LjEAAHice79v7T0GIOABYkYGCFAHYm0gbmBkY0gAiTOzMygAaWYIl4kJRqMLO2iAuCxsDhkgmpkRiQGRYWcACzABDYYIcEBoIrTCnILgg2gmBI1uAjtEgBmf0WhKEVpwuwLkYxZOMMWISqGHDjcwQBmZGJiYgfoYWFgZWNkY2NgzmNg5Ejg4M5g4uRS4uBW4eTSYuHkVePkymPj4E/gFMpgEBBkEhBKEhBWERTSYRUQVRMUymMTEE8QlMpgkJBMkpTKYpKQTpGUymGRkE4TkgObIJ8grZDApKDIoKjEoKjMoqjCwqDKoqjHIiibISiTI8SYosCWoMTKIsLIxqqmyAIOanYNTXoGNjY9fQEiOl1VMVFZCnE1SSloGSMNSAIP6+T06jhfnPrEHcUL0JR1Z+7LAbKFoZsfpQkfBbL3Z9x0mlWuD2Xs1njiYnA3aD2If593rkLH3BpjtnDrR4crHDjB7y/UeB9tDN+xA7Lg4JweVP61gvU8CXtiv1TIFi7vufmZ35aEPWDzs0Vy75SeFHEDs3CeH7flKvcDsOs32/YXrrcDsnfEz9wcq9ILZzxhUDpgJLwSzL5kVHWi2bQWz3x1eciDDYCaYvUU688CVl1pg9oUVsw/cqnkGtuvY4UMHxH3ywOzd914eWP680hbEfrOe++D2y5xg8fzfkgd9FmiB/TJVgOfg390fwew4D8GDipPCDoDYUab/D+zf3w1mp2VdPLB9RxWYfeXXsQNTWGTBbPOwVwcK9HaA9a46JXiAi4UZ7B6F9l/2vLUrwOIzp4Q4LPL4AWZvXx/r0LQ1Gqz36qk0h6jFc8HskgXzHFJmBYHZPLZ/7BdcSAGzF75gd9Q32gnWK1Mm7XhwmzCYLQYAXqjEJfvjcwwAAAKKelRYdE1PTCByZGtpdCAyMDIwLjA5LjEAAHicnVbLbhsxDLz7K/QDJviQSPHcpJeiKdBD/6H3/j9KrTbMGmgBh4YRDKFoPBrOUntr6/Pz5dvvPy0//HK7NfHWpTX859fd2y9GxFv8OyGYK62dBDY3QohVbF/a/yiu38XSHIb1c6+T8oXl7XmWCYxuW8sQ15oWBZ9me6+qzxqLAUnsaO2OMFl67UQDHM0XC4G6SE1Lh9FFNwuqe5WlI50K+uOJPsEigGK4e4Rdi+4STBq495Jp8URxjoFnSibi1d1P9AhBcB5uMLBLMXUrsdi3Q6QP7v54mmX1dyhuLU6GJS3BQj757Dkh11gYhrLuFKMUfblLTJWuW0v4UsvLfQD16ZvFphVPJKAR/O2uGo4aS4epvZ8pRrQaiwIGzTkxI4A1Fsvsxl6lYl4m2JldjBTP2mS4OyiL74mpqld3n38al5bRcad4zlnskYe7R+6j5zK42CMDtyG756LV1GlM735qiWe6eCIFpkn7ueyjeB+tvLCc7naZXmOJOWkT93OE3YrvDAQ+Dk9Di8RoqLFEf5nOu9HFa50Olr5nU/Soy+FQiUXxeIOKvDg/vAV9fZ6lL19oa2F/mC+fYAk37Lgbg2XYKGqZ0L3LmZfybe9gu78xGYbVbrUwhI+/qwgkWQTqWQQaWQTSLAJZFoHmQbOKQJ4r3tYU3SuBiN5XAlEqCLRepTiLVBCIRq6MRqkgEFmuWKOZK1GkgkCM70UgpuOIq6DGqSAQp4JAnAoCcSoIxKkgEKeCQJwKArHnijfBixyhiyGSCgJJKggkqSCQjGuh18Iu/ZFUEEjSg/j5j5Ou4oONLl6vn0828Y+EfG/t9e3l9he8LQeJteXAqAAAAcF6VFh0U01JTEVTIHJka2l0IDIwMjAuMDkuMQAAeJwlkkuKIzEQRK8y0BsXyCL/H8ysCnrpOUTtfYI+fEfWgBfiVVgZEanz4uu6Hufj77/jfcl9fut5vh/ncZ56zKfvA7/v45Ljuvj8OvGXzy39fFj+/DyevtmqZdnOSo71eipOFgAcmgNke4j78k2qA3hzlygkxsR9E3JvX7Kbo6GhrVQaCSKtDsLblYyXzr3aIzGnsFy0i0iFR1NsPYQzeohiZhIvDLAYN5hJrAqJiarnEDcNXmMiumq9fDdl65BoFZDcLI2Ln5glambrFbsLQ3BRRI/6VVuoU9c47QDo7WkUkCAV8r6YdnaMm6ygHAU6U5t7PZMG1bY26RluFmWTAeHgFKS1U4ZYaPlC16aC3kCCgmHZdktMpzh4Uo9GmtAk2umkCaoY5ref0YjPzQofci9LMrvRO1my3PsMVCUgkeRDbFegMsRA8TH7i01AExRrsyE5C7RBGEl8b7l2YoUO5lpasPTsjWKqp4CIcKr/Mje6XVUVHs7IqIhzrKvLhMGARoiYxHgn98sLbNLERtWct9XYwoUYyGWOom9joiR3vzov9/j5Bacqnyh+XBA3AAAAAElFTkSuQmCC\" alt=\"Mol\"/></td>\n",
              "    </tr>\n",
              "    <tr>\n",
              "      <th>3</th>\n",
              "      <td>COc4cc(Nc2c(C#N)cnc3cc(\\C=C\\CCN1CCN(C)CC1)c(OC...</td>\n",
              "      <td>629071</td>\n",
              "      <td>CHEMBL1088240</td>\n",
              "      <td>Active</td>\n",
              "      <td><img data-content=\"rdkit/molecule\" src=\"data:image/png;base64,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\" alt=\"Mol\"/></td>\n",
              "    </tr>\n",
              "    <tr>\n",
              "      <th>4</th>\n",
              "      <td>COc5cc(Nc3c(C#N)cnc4cc(c2coc(CN1CCN(C)CC1)c2)c...</td>\n",
              "      <td>365326</td>\n",
              "      <td>CHEMBL219557</td>\n",
              "      <td>Active</td>\n",
              "      <td><img data-content=\"rdkit/molecule\" src=\"data:image/png;base64,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\" alt=\"Mol\"/></td>\n",
              "    </tr>\n",
              "  </tbody>\n",
              "</table>\n",
              "</div>"
            ],
            "text/plain": [
              "                                              SMILES  ...                                                Mol\n",
              "0  Cc4cc(c1cc(O)ccc1Cl)cc5nnc(Nc3ccc(CCCN2CCCC2)c...  ...  <img data-content=\"rdkit/molecule\" src=\"data:i...\n",
              "1  CN(CCN1CCCC1)S(=O)(=O)c5ccc(Nc4nnc3cc(c2cc(O)c...  ...  <img data-content=\"rdkit/molecule\" src=\"data:i...\n",
              "2  CN5CCN(Cc4ccc(NC(=O)c3ccc(C)c(C#Cc1cnc2cccnn12...  ...  <img data-content=\"rdkit/molecule\" src=\"data:i...\n",
              "3  COc4cc(Nc2c(C#N)cnc3cc(\\C=C\\CCN1CCN(C)CC1)c(OC...  ...  <img data-content=\"rdkit/molecule\" src=\"data:i...\n",
              "4  COc5cc(Nc3c(C#N)cnc4cc(c2coc(CN1CCN(C)CC1)c2)c...  ...  <img data-content=\"rdkit/molecule\" src=\"data:i...\n",
              "\n",
              "[5 rows x 5 columns]"
            ]
          },
          "metadata": {
            "tags": []
          },
          "execution_count": 8
        }
      ]
    },
    {
      "cell_type": "markdown",
      "metadata": {
        "id": "ryJSHQMNNEyL"
      },
      "source": [
        "Adding properties of molecules in each rows\n"
      ]
    },
    {
      "cell_type": "code",
      "metadata": {
        "id": "-eU0ByUIM9zL"
      },
      "source": [
        "\n",
        "def add_property_columns_in_df(df_in):\n",
        "    #molecular wt of the compund\n",
        "    df_in[\"mw\"] = [Descriptors.MolWt(mol) for mol in df_in.Mol]\n",
        "    # Octanol-water partition coefficient \n",
        "    # a partition coefficient (P) or distribution coefficient (D) is the ratio of \n",
        "    # concentrations of a compound in a mixture of two immiscible solvents at equilibrium.\n",
        "    # https://books.google.ie/books?id=yt7pBwAAQBAJ&pg=PA44&redir_esc=y#v=onepage&q&f=false\n",
        "    df_in[\"logP\"] = [Descriptors.MolLogP(mol) for mol in df_in.Mol]\n",
        "    # formal charge on the molecule\n",
        "    df_in[\"charge\"] = [rdmolops.GetFormalCharge(mol) for mol in df_in.Mol]"
      ],
      "execution_count": null,
      "outputs": []
    },
    {
      "cell_type": "code",
      "metadata": {
        "id": "kUUSjU0GOvCg"
      },
      "source": [
        "add_property_columns_in_df(active_molecules)"
      ],
      "execution_count": null,
      "outputs": []
    },
    {
      "cell_type": "code",
      "metadata": {
        "colab": {
          "base_uri": "https://localhost:8080/",
          "height": 1000
        },
        "id": "pZbQJjiSNd9i",
        "outputId": "51ada8c7-ab34-4791-ae03-a7d295eb442a"
      },
      "source": [
        "active_molecules.head(100)"
      ],
      "execution_count": null,
      "outputs": [
        {
          "output_type": "execute_result",
          "data": {
            "text/html": [
              "<div>\n",
              "<style scoped>\n",
              "    .dataframe tbody tr th:only-of-type {\n",
              "        vertical-align: middle;\n",
              "    }\n",
              "\n",
              "    .dataframe tbody tr th {\n",
              "        vertical-align: top;\n",
              "    }\n",
              "\n",
              "    .dataframe thead th {\n",
              "        text-align: right;\n",
              "    }\n",
              "</style>\n",
              "<table border=\"1\" class=\"dataframe\">\n",
              "  <thead>\n",
              "    <tr style=\"text-align: right;\">\n",
              "      <th></th>\n",
              "      <th>SMILES</th>\n",
              "      <th>ID</th>\n",
              "      <th>ChEMBL_ID</th>\n",
              "      <th>label</th>\n",
              "      <th>Mol</th>\n",
              "      <th>mw</th>\n",
              "      <th>logP</th>\n",
              "      <th>charge</th>\n",
              "    </tr>\n",
              "  </thead>\n",
              "  <tbody>\n",
              "    <tr>\n",
              "      <th>0</th>\n",
              "      <td>Cc4cc(c1cc(O)ccc1Cl)cc5nnc(Nc3ccc(CCCN2CCCC2)c...</td>\n",
              "      <td>416908</td>\n",
              "      <td>CHEMBL250213</td>\n",
              "      <td>Active</td>\n",
              "      <td><img data-content=\"rdkit/molecule\" src=\"data:image/png;base64,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\" alt=\"Mol\"/></td>\n",
              "      <td>474.008</td>\n",
              "      <td>6.13122</td>\n",
              "      <td>0</td>\n",
              "    </tr>\n",
              "    <tr>\n",
              "      <th>1</th>\n",
              "      <td>CN(CCN1CCCC1)S(=O)(=O)c5ccc(Nc4nnc3cc(c2cc(O)c...</td>\n",
              "      <td>416918</td>\n",
              "      <td>CHEMBL250019</td>\n",
              "      <td>Active</td>\n",
              "      <td><img data-content=\"rdkit/molecule\" src=\"data:image/png;base64,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\" alt=\"Mol\"/></td>\n",
              "      <td>553.088</td>\n",
              "      <td>4.81912</td>\n",
              "      <td>0</td>\n",
              "    </tr>\n",
              "    <tr>\n",
              "      <th>2</th>\n",
              "      <td>CN5CCN(Cc4ccc(NC(=O)c3ccc(C)c(C#Cc1cnc2cccnn12...</td>\n",
              "      <td>649637</td>\n",
              "      <td>CHEMBL1171837</td>\n",
              "      <td>Active</td>\n",
              "      <td><img data-content=\"rdkit/molecule\" src=\"data:image/png;base64,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\" alt=\"Mol\"/></td>\n",
              "      <td>532.570</td>\n",
              "      <td>4.45602</td>\n",
              "      <td>0</td>\n",
              "    </tr>\n",
              "    <tr>\n",
              "      <th>3</th>\n",
              "      <td>COc4cc(Nc2c(C#N)cnc3cc(\\C=C\\CCN1CCN(C)CC1)c(OC...</td>\n",
              "      <td>629071</td>\n",
              "      <td>CHEMBL1088240</td>\n",
              "      <td>Active</td>\n",
              "      <td><img data-content=\"rdkit/molecule\" src=\"data:image/png;base64,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\" alt=\"Mol\"/></td>\n",
              "      <td>526.468</td>\n",
              "      <td>5.82478</td>\n",
              "      <td>0</td>\n",
              "    </tr>\n",
              "    <tr>\n",
              "      <th>4</th>\n",
              "      <td>COc5cc(Nc3c(C#N)cnc4cc(c2coc(CN1CCN(C)CC1)c2)c...</td>\n",
              "      <td>365326</td>\n",
              "      <td>CHEMBL219557</td>\n",
              "      <td>Active</td>\n",
              "      <td><img data-content=\"rdkit/molecule\" src=\"data:image/png;base64,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\" alt=\"Mol\"/></td>\n",
              "      <td>552.462</td>\n",
              "      <td>6.18148</td>\n",
              "      <td>0</td>\n",
              "    </tr>\n",
              "    <tr>\n",
              "      <th>...</th>\n",
              "      <td>...</td>\n",
              "      <td>...</td>\n",
              "      <td>...</td>\n",
              "      <td>...</td>\n",
              "      <td>...</td>\n",
              "      <td>...</td>\n",
              "      <td>...</td>\n",
              "      <td>...</td>\n",
              "    </tr>\n",
              "    <tr>\n",
              "      <th>95</th>\n",
              "      <td>Cc2ccc(C(=O)Nc1cc(C(F)(F)F)ccn1)cc2\\C=C\\n3cnc4...</td>\n",
              "      <td>563166</td>\n",
              "      <td>CHEMBL550281</td>\n",
              "      <td>Active</td>\n",
              "      <td><img data-content=\"rdkit/molecule\" src=\"data:image/png;base64,iVBORw0KGgoAAAANSUhEUgAAAMgAAADICAIAAAAiOjnJAAAABmJLR0QA/wD/AP+gvaeTAAAf/UlEQVR4nO2de1xU1fr/PzMDwyAMgogoAipeAiFFIE3BvKR5Ny+hpk3HrCg9/dDT+RZ+tdeB6uX5ki/7RnlK8WhfITXBvKSVJlqZWmiApgcxr1xCLoJyiWFuzPP7Y+E4oSLM7A3MsN4v/4A9e69nDfvjftZeaz3PIyEicDhCI23vDnDsEy4sjihwYXFEgQuLIwpcWBxR4MLiiAIXFkcUuLA4osCFxREFLiyOKHBhcUSBC4sjClxYHFHgwuKIAhcWRxS4sDiiwIXFEQUuLI4ocGFxRIELiyMKXFgcUeDC4ogCFxZHFLiwOKLAhcURBS4sjihwYXFEgQuLIwqdXVhEVFdX1969sEM6tbBSU1PHjh0bFBQ0ceLEAwcO8MQ7QkKdkurq6gULFrC/gKOjI/shODg4OTm5rq6uvXtnD3RGYWVnZw8YMACAUqncvn377du3k5KS/P39mby6du0aGxubn5/f3t20bTqusOrr641Go+DNpqSkODs7Axg2bNilS5dMxw0Gw/79+ydMmMDkJZVKp0+fnpGRIXgHOgkdV1ivv/76oEGDkpKS/vjjD0EarK6unjdvHtONSqVSq9X3PS0rKysmJkahULAzhw0blpyc/KCTOQ+igwrLaDQOHjyY3dpu3brFxcUVFBRY0+Avv/wSEBAAwM3NbefOnexgSkrK1KlTDQbDveeXlpYmJib27t2b9aFHjx5xcXGFhYXW9KFT0UGFRcL5JqPRmJSUJJfLAURERFy5coWIamtrn3vuOdbynj17HnStVqtNT09//PHH2ZlyuTw6OvrEiRNWfbHOQccVlglrfNPNmzenTZsGQCKRxMbGarVaIsrNzQ0ODgbg7Oy8adOmlrRz7NixuXPnymQy1oeRI0c2I0cO2YSwGBb4pszMzL59+wLw9PRk01RElJKS0qVLFwCDBw8+f/58q/pw48aN+Ph4T09PALNmzfrPf/5j+fexd2xGWIwW+ibm/tgE1fDhw69fv05E1dXVzz77rGnwbvF8VV1dXXR0NIDly5db+XXsGBsTlomsrCyVSuXg4MCEEh4enpKSotPpiKi8vHzy5Mkm98cOms9d7dixw0rru3btAjB79mwBvomdYqvCYhQUFLz55pvdunVj8urdu/eLL77o7e0NwNvb+/Dhw+y05ORkJycnAGFhYZcvX7be7qlTp5iarW/KXrFtYTE0Gk1KSsqjjz4KwMXFBcDYsWOLi4uJqKqqirktADExMRqNxmIrpaWlUVFRTzzxBBGVlJSwcZ5g38HusAdhMYxGY1paGluTaWhoYAfZK6GHh8fevXutbF+tVkskEicnJ6PRaDQanZycJBIJnzh9EPYjLCK6937n5eVNmDBBqIU/Ly8vACUlJUTUv39/AOaLQhxz7GrbjEQi8fX1JaKioiJ2JDAwMCMjo0+fPoK07+fnB4A1zn4uLCwUpGX7w66EBYBtUhDpfps3LqohO8A+hWV6YonRuLmwRDJkB9ibsET1UPe6Qi6sB2GfwmqDJxYfYzWPvQlL1KGPuWr5GKt57FNYbfDEYm+abSQsnQ6FhTAY2sKWQNinsES637169ZLL5WVlZVqt1tXV1d3dXa1WV1ZWimHrLl98gRkzsHEjJk3CDz+Ia0tA2nsiTXg8PDwAVFRUiNE424fDdgsOGTIEQE5OjhiGGtHpKCKC9HoioqoqevxxEW0Jir09sSDysLrtZhwuXQKAoiL06we2iaNrV0gk0GpFMSc0diisNhu/i6Xg+nosX46QEGRmwt0dVVV3P9LpIJcLbE4c7FZYIj1IVq1alZ2dPXv2bIg0tZGbi4gIfPQRHB1RVIRu3aBQ4MgRNDRg2zZEREAiEdKcaDi0dweER9SpLFPsEO4o+Nq1a4K1npqKZctQV4fAQKSlYcgQ6HTYsQPvv4/UVISGYv16wWyJTXsP8oRn27ZtABYsWCCqFb1e/9JLL3Xv3t3R0VGlUp09e9aq5mpqaNEiAggglYpYKOX16zRiBG3YIEiH2xg7FNaPP/4IYNSoUaYjv/3224YNG4QKfCWi69evs333MplMKm0cTowdO3bPnj33jVJsnpycHM3IkQSQUknbtjUe/fxzcnMjgIKDG98KbQo7FFZ+fj4APz8/05FXX30VgJubW2xsLAussIZ9+/axzdB+fn4nTpy4evVqXFwcm+MA4OPjEx8f3/LJDhY19P+GDjU++iixsJ/6eoqNbXx6zZ5Nt25Z2eF2wQ6FpdPpZDKZTCZjYRREtGfPnlGjRrEbL5PJ5s6de+zYMQta1mg0sbGxEokEwMyZMysrK00f1dTUJCcnm0ZgCoVCpVI1H152+/btuXPnsvOXLl2qqa8nIsrLoyFDCCCFgpKSLOhkB8EOhXX06FE3NzcPD48RI0akp6fr7/iR7Oxs88DX0NDQViUtMrk/R0fHxMTE+yYsaWhoyMjImD59uuTOu1tkZGR6evq9/jErK4vtQXVzc/v888/ZwVs7dpCLCwEUGEi//mrpH6BDYFfC0uv1q1atYoMeFpYDoF+/fuvWrbt9+zY7p0ngq5eXV0uSMuzevdvd3R1Anz59fv7554f25NKlS7GxsSyyA0D//v0TExNZH8xD/sPDw1nUkFqtjomJGdy9e4O3N6lUVFtr9R+jnbEfYRUVFY0ePZo5u/j4+KqqquTk5KCgIHPfZIpdZoE9YWFh7FO5XL5w4cLTp0/f22x9fX1sbCw7bc6cOSaBtoTq6uqkpCS2CgRAqVTGxMRs2rQJgEQi+dvf/sZC/s+dOxcYGAjAxcXle6tjHjsIdiKsjIwMFk7o6+v7448/mo4/1DexwFcWM/3yyy83afbixYtDhw5lukyydMRjMBh27949ZswY1gGpVBoQELB27Vr2qSnkPygo6Ny5c5aZ6IDYvLD0en18fDxzfxMmTCgtLb3vaU1804ABA0y+iYgKCgri4uKajLVTUlJcXV0BPPLII9ZOUxER0ZkzZ2JiYpiMVqxYkZeXt3DhQtYfa0L+Oya2LayCggL2uufg4BAfH28KJ3wQ9/VNeXl5TU5jIx7TLa8VdMRTXl4+bNgw9nCFQCH/HRAbFpZpPsnf3//kyZMtv7ChoaFJ5q0JEybs37+fvehduHAhJCQEgLOzs8Xur3lWrVoFYMaMGU3SVdoTNiks8/mkp59+2nw+qVXk5OQsXrzY9P4YEhLy/PPPswylISEhFy5cELbbJjZs2MCGdGzwbpfYnrCuX78+YsQINqGQlJRkfQLc8vLyxMREtnTN1pVVKpWA6z/38vXXXwOYNGmSeCbaHRsTlmk+qW/fvi2ZT2o5Op1ux44dR48e/eqrrwRs9r6cP3+evQaKbagdsRlhWTOf1NGoqakB4Orq2t4dERHbENbFixfZBnNr5pM6FF27dgVg8eiw42MbO0izs7MvXLjwyCOPZGZmLl++vL27IwB3trmWtHdHxMI2hLVs2TKDwXDkyBE2D24HhISccnKiwsLg9u6IWNiGsNj/74qKivbuiGB07eqs1cKO46htSVhsG/vmzZunTp3K3thtFz8/ALDjlCK2ISzzQKvLly8fPHjw3Llz7d0pq2C1xvgTq52xv/xBTFht8CUKCsDqe/7xB2pqRDdnwjaEZX+p9JgrbIMvMWIEtm4FgAMHsH276OZM2JKw7OmJ5esLmQzFxaKnkAkKwo4dEDtxyb3YhrDMx1j28cRydIS3NxoaUCLyTJZUivh4xMU1/tpmZa9tQ1i+vr4ymay4uNhgMHh6erq6ulZVVdW05ZDBaioqYDQ2/lxejspKJCRg+3a4u+PGDVEsGo2NMoqKgtGI06fR0ICQECxfjoICUSz+ifae+m8pPj4+AFjUA9shblvFt2bMoJs3iYgaGigyklasoMmTGz964gnhzZWX0+TJ9OGHNH48EVFZGXl709KljdGKDg4UHU3Hjwtv14RtPLFgj+N3d3ekp4vS8pEjGDIEhw5h3To89RQA9OiBTz7B/PnIykJMDBwcsGsXRo9GWBg2bUJ9vfB9sGFh2dz4/dVXsWgRVKrGX19/HevXCzwF0NCAhARMnozSUowdi8zMu6OrOXMwZgzCw5GcjKtX8dZb6NEDZ87glVcQEIB//nNDiaDDPRsTlk2/GG7ciO3b8dlnjb8qFPjv/8Y77wDA3/6GGTNw5IhV7ZeVYcoUvP02AMTH48gR+Pg0PYcIV67AxwfvvouiIqSn4/HH4eNTuXr1sr59+86bN+/kyZNWdeIONiMsuyw3MnUqiothNOKzz/DVV5g4ERERSE21JGvfwYMUEoKMDPTujaNHkZCAO3WG/0RGBgYNwsSJOHAAjo6IjsbPP+PDD0vmzp3b0NCwa9euqKioUaNG7dy5U6/XW/XdRBy/CcqePXsAzJw5k4iOHDkCYOzYse3dqVawYUNjbiKjkdato7Q0+v13IqKCAlq7lkpKKDGRevduHFz36EFxcfSw8OxGWADcqFH/C9CTT1JJSXMnf/wxOTs3WgkMpI8/vht0nZ+f36T445o1ayzelW8zwsrKygIQGhpKRJcuXQIQEBDQ3p0SmPp6+vRTGjas8cbL5fTGG/vvG59tIj8/f+TIkQAcHBw++eRySwIAKiooMZH8/BqtTJ78zd///vdr166xT82LP/bt2/fbb7+17LvYjLDKy8sBeHp6EpFGo0lNTW1VyJdtkZVFKhU5O+t79fLFnwsTm/Pll1+aJ1RqlQm9ntLT6cknDUplbwAymWzWrFnfffcd+9RoNCYnJwMIDg627CvYjLCMRiMLzBI2fLQjU1BQ8+abb5oybzHfdPPmTSLS6XRxcXH3TajUWrKzs//yl7+YYuBCQ0NZtcfbt28DUCqVljVrM8IiokGDBgG4N3DZvqmrq9u4caN55q158+axkFq5XC5IABwRlZWVJSYm+vr6Tps2zXTQzc0NgGVxKzYjrLy8PC8vr8cee8y2JtwF5Pjx49HR0TKZjMnL399f2AA4ItJqtTdu3DD9GhwcDOBXizJ12YawNm/ezHJpiJ2ytuNz6dKlnj17Avjpp5/EtjVlyhQAlgVadvR5rNra2ueee+6ll15Sq9UqlWrz5s3t3aN2ZuDAgaGhoQBu3bolti1r5gs7tLByc3NHjhy5fft2V1fXbdu2paammvIQdWbMFyHS0tLGjx+/ZcsWMQxZs8LRcQsIpKamLl26VK1WBwcHp6WlMX/PwZ/vd1lZ2ffff29e1kBArFnsF0ZY1dXVLLRXEGpqEBODoqJa5v42btzIBlgcRptte7SmcWtdYV5e3sqVK318fIKDgxMSEi5cuGBlg6dPIzQUaWkoLFy6e/eB1NRUrqomtNlGD6sW+615a9BqtSw5HcvhyQgMDFy5cmVmZmZr51eMRkpKIrmcAAoPpytXrOmaPXPlyhUAffv2pTsLEt26dRPDkFarlUqljo6OFpTbsEpYb7zxBoCAgIDS0tK9e/cuXrzY09PTpDAfH5/4+MPffkstWcesqqJnniGAJBKKjW3RJZ0WjUYjkUhM95s90UVakOjVqxeA39mCeWuwXFjHjh2TyWQODg7mEyoGg+H48eNxcXFslrxv398A6tKFpk+nlBSqqrp7uenn+no6eZL69SOAunalXbss7lEngk1lsfvN/tQi5R8cPnw4LJozs1BYt2/fZt79nXfeIaLi4uJ78wqfPfuf+HgKDW1cRQfIyYmmTKHkZCooIKmU2LLpe+9RTAwBNHw43Vli5zwEdr/ZzDtLpnro0CExDD3zzDMAdu7c2doLLRy8v/rqq4WFhZGRkatWrSKiF154YcSIEXv37jU/Z+jQ4IQEnDmD/HwkJ2P6dBiNOHgQr7yCt9/GyJH4xz/ANpPNmIHUVJw8iX79LOtOp8P8xVDU/bQWvxxYIqzt2w+npaW5ubl99tlnMpnsgw8+OHz4sFKpZKVm7qVPH8TE4MAB3LiBTz/F009jzhy4uWHRInzwQeM5KlVj4WNOS+j4L4atFtaVK1i27KkxY0598snGfv365ebmrl69GsCWLVvYQK8ZunfHCy9g3z6wTNgvvIAjR8SKqrNv2myjtsWNt05YBgNUKtTUwMtr+KJFz2o0moULF2o0mqVLl86cObO1tiUSrF2LTz9t7XWcPz2lBH9iHTp0qIkhS1TbqhHZW28RQL6+xDaWvf66/okndgQFDW5tuQ6djtasafz5/fcpO7tVV3Po1KlTAMLDw4koLy8PwMCBA61vtrq6ev78+QC2bNnCjpSWlgLw8vJqbVOtENaJEySTkVRKbP/qN9+QREJyOZ09a2ERmClTKCCALl607OpODYsBZPe7rq4OgEKhsHLHX2ZmJisG07Vr1y+++IId3Lp1q4uLy+zZsx9aTqYJLRVWVRX17UsArV5NRFReTj17EkB3ilhZwtChBJAQ5Y86HUaj0cnJSSKRsG3Ee/fu/emnnywW1n1LKNbW1j7//PPMrW3atKm1bbZUWKzEeng4abVkNNKMGQTQE09Q6+f67xIWRgD3gxbCCrT+9ttvVrZTUVExffp0ABKJJDY2lsV75ebmWllQqEXCUqtp4kRydSVWUCgjgwDq1o2KiiyweJeICALol1+saqTTMm7cOAAWh2cxzN1feno6O2heQrH5stbN0JywXnqpcSr85Ek6eJDMTaSl0b59llm8y4gRBFBmprXtdE5WrVrVv3//Xr16JSYmWhClw9wf2z0wfPhwFldYU1Pz7LPPMvdnZQnF5oT16KM0Zw4R0c6d9K9/WWzigYwaRQDZb3Sg6ERFRTERuLq6Llu2rOXxS+Xl5ZMnTza5PxaxmJ2dPWDAAABKpXL79u1W9q05YY0fT//4B6WniyWs0aMJILNCu5zW8dDCxPfl+++/Z2vYPXr0MK0wJicns9DCsLAwNni3kocIS62mqCjavFkUYY0ZQwD98IPwLXc2mi9M3AS2LWXMmDHFxcVEVFVVNW/ePJP7Y6+Z1vMQYRHRgQM0eLAownr55c/HjEk8dixf+KY7JS0sTExEP/zwA3uqnT59OiAgAICbm1taWpqAnXm4sIho5kz6179IiIDbPzFx4kQAhw8fFrjdzk3zhYlNmM9dRUREXL16VdhuNCesmprGH7RaOnSIIiIas2gKxaRJkwAcPHhQyEY5dzhz5kxMTAxLeAFg0KBBSUlJrHLszZs3p02b1mTuSlhaNI9lNFJUFAE0Y4aQz62pU6cC+PrrrwVrkXMPZWVl7777rs+d3H6enp6LFi1i+1C6d+8u3h+/pTPvRUXUvTsB9P77gtmeMWMGgP379wvWIucB6HS69PT0yMhINpkukUhGjBhx/fp18Sy2YhH6669JIiFHRxIqacCsWbMA7N27V5jmOC3g+PHjEonEwcFBDPdnTiv2Y02dihUroNdjwQIIkjdAKpUCaGhoEKAtTsuIiory8vIyGAyVIldBad1Gv/few8iRKCzE4sUCFM9gGXmMpoINnDahbbLkt05Yjo6NVTqyswu3bNltsdXc3NyEhISMjAxnZ+fvvvvO4nY4FtBGWfItcJ9fflnq4dHNyckpu5VbXnJzc+Pj44OCgkzW2TzK6tWrBUlLx2kJrFr7+wK+hd0PC+MKly5dCqB///7V1dUPPfnatWtJSUnslYTh4eGhUqn279+/efNmtsCuUqnEHk5yGOvWrQOwYsUKUa1YKCyNRsOyNsybN+9B5+Tn5z9IT+YJgDMyMliuy/Hjx1eZx0pzxCE9PR3AHLZxRTQsD7G/fPkyE0STfasFBQVMT6Yld3d3d6ane59J7Mi5c+d8fX0BhISEFLYwbT7HUjIzMwE89thjolqxKinIzp07ASgUirNnzxYWFjbRU5cuXaKjo/fv36/RaO57+Y4dOwYOHMg2aVy/fp2Nvfz9/XNzH+5eORZTXFwMwNvbW1Qr1ia3XbJkCQBXV1eTnpRK5aJFi/bt2/cgPTEMBkNERASAXr16sZeAW7dujRkzZuzYd5RKEicRAYeIqKGhQS6XSySS+vp68axYK6y6ujo/Pz8fHx+FQjF9+vSUlBS2zNkSamtrWV5eFxcXlpq3vl47b15j+hCr9zByHki/fv0ACLKh70FYKyydTqdQKCQSiXl+8FZdzmKMHBwctm07SERGI8XHNybKio+3snec+zNmzBgAR48eFc+EtcLKyckBMGjQIItbMBqN8fHxQUHhLi61cXGNuyc+/JCkUgLoxRdJr7eyj5ymqFQqAFu3bhXPhLU5SLOzswGw0ZJlFe4kEklCQsJ//dcJrdb1vffw4ovQ6xEbi9274eyMLVswdy7Uaiu7yfkTbVDwURhhhYeHA1i7dq23tzerGtValixRfPMN3Nzwf/+HKVNQU4NZs5CRAU9P/PAD1qzBiRMAUFGBrVut7DLHqpRaF+rqdpSX7ygv31tR0cxp1gqLlRFkwsrKyiovL1cqlZY1NXEijh6FtzeOHsWLLwJAZCROnsS+fTh3Dm+9BY0GNTU4dszKLnOsWofOrKmRAENcXIKazWZtlbB0Ot358+elUimbhTcXmWVEROCnnxAVhf/5n8YjjzyCceMAYMkS/POf1nSWcxcL1qHrjcZrGk1WbS0Ab7m8n0IRoFA0c75VWfTOnz+v1WoDAwPd3NzKysp+//13pVI5cOBAa9oMCMDx4/c5/swzmD8fZutDHMt50BPLYDDcuHGjsLDwj6CgMr2+TKcrZf/0+hqDAYBMIonp2XPfzZs/VVeHurpON0uS3QSrhGU+cjcNttj2PTF4/32oVBCnukfnQq/Xu7q6/vHHH2vXrq2srCwqKiosLCwoKCgpKWH7Lp/Myan68z45J6m0p1zuLZfriBZ4e49yc2vehADCMg2wYJ0ffCiDBuGpp/D77+JZsCX2VVT8WF2tkErdZLKV/v73nqAzGkt1uutnz16/eLGgoKDoDgUFBWq1GoBCoYiLizO/RCqV9u7du0+fPuPkcteuXb3l8l5yubdc7i2Xe9xJEftpSUlLumeVsMzFZC4ywXnnHaxfj3HjkJAAjUYMC7bHTb1+npfX425uAK5pNFfr602eq0ynK9PpbhkMANy2bfv+44+bXOvu7t7Q0MBWPkaPHu3n59enTx9/f38fHx/zIiP3ZbKnp0sLnJLlwtLpdLm5uVKplJXPM3eLgnPyJFauxAsv4NNPwQvLmfixurpIqw1QKPZXVn59zx52uUTSQy4PiIjwe/55f39/Pz8/Pz8/f39/f39/pVK5dOnSjRs3Tps27a9//WurjPrI5S05zXJhnTt3TqvVDh48WKlUlpWVFRcXd+3alWUDE5zsbAAQ083aJD5yeX+Foruj41AXl3qjsaejY08np56Ojsx5eTo6SgCEhGDx4nuvFTU7PKwRFvOD7BH1yy+/AAgLCxNp5M6EJc7T0IYZ4OwcplQC8Fco5nh5tepasUMqLNeB+aBKVD+oViMvDw4OGDJEjOZtlS5SqfzOViULEFtY1j6x2mDkfvYsDAYMHYo7WQg4ALDI29uay8V2hRY+sTQaTW5urkwmYyN3UecauB8UA19fX5lMVlxcbDAYxGjfQmGdO3dOr9cHBQW5uLjU1ta6uLi4u7vzkbsN4ejo2LNnT6PRWFJaKkb7FrpC80eUUqm8fPlyXV2dxAqX3wxq9dU+ffzDwhwAUdrvtMw5fDhLo7nl7u4nQuMWPrFyc3MBmNdTdRFnfkmtVu/dG3jjhsvQoVox2u/MuCgUOqJSnU6Mxi0U1ptvvunh4bFx48YDBw4I26Em5OTkGAyGkJAQRbNr6RwL6CmXA+hYwvL19Z0/f75arZ49e/bH96wYCIioExmdHG+5HEBZhxKWTCbbsGFDUlKS0Wh87bXXli9fLlLSGFEnMjo5jU8sizaUPxSrJsqXL1++detWR0fHjz76aP78+Rrr1oc1Gs2XX365aNGiVatWmQ62waaJTou3mK7Q2igdIvr222/ZduTx48dXVbU6BlKr1R44cEClUrnd2eLj4+PDks/U1tbKZDK5XN587CvHMm7p9eFZWePEKb8mQB3mp5566uTJk9OmTdPrl0RGKr75BvfbHdSUhgb8/DN27cKJE/k5OTPYwcGDB0dHRy9cuJDNXOTk5DQ0NISGhrKiCRxh8XBwUEilNQaD2mjsIvgir1AKLSgoCQkxsvqrv/76wNMaGujgQVqyhDw8CGj8N3XqgjVr1pgH5lZWVqakpAwbNkwul8fExAjVSY45BqMxpaQkvaysqL5eJ3R+MsGERUS3b9PYsQSQqys9KHm70dhYUBOgwYMpPp7MKydUVFRs2rRpwoQJLIskgAULFjyodAfHSq6q1c/m5n5YVPRhUVGJ0MnJhBQWEWm1tHAhAeTgQA+qypmURAkJdOHC3SOVlcYtW7ZMmjTJ4c7+V7lcPm3atJSUFJ4xSzyuqtVr8sWqNyOwsKg1yRdu36aUFJo+neRyCgwMAyCTySIjI5OSksrLywXvGKcJV9Xqp8+fX3n16tsiyEt4YTHWryeZjJycaO1aYnnqS0vpyBEioqoqSk1t1BPziQ4O9Mor6f/+978rKipE6g/nXkR9YgnwVnhfXnsNvr7QaLBxI06dwhdfoLgY6elYvx6HDkGrBQCZDE8+iehozJ2L7t2jReoJp10QS1gAZs0CgM2bMXQo0tIwcCAUCvz8M/R6REYiOhrz5qFXL/Hscx6Cm4NDmKX5EB6KiMIy8cYbmDgR774LqRQ7dyIoCD17toFZzkPo7ug4uVs3kRoXK2rZHIUCq1Y1Zl4YN46rqlPQFsICMGUKXF3bxhSnQyAh62viNEtODsLCAKCiArduYdAgUa1xOgqiC4vTOWkjV8jpbHBhcUSBC4sjClxYHFHgwuKIAhcWRxS4sDiiwIXFEQUuLI4ocGFxRIELiyMKXFgcUeDC4ogCFxZHFLiwOKLAhcURBS4sjihwYXFEgQuLIwpcWBxR4MLiiAIXFkcUuLA4osCFxREFLiyOKHBhcUSBC4sjClxYHFHgwuKIwv8HE+qqYRyRMIUAAAI6elRYdHJka2l0UEtMIHJka2l0IDIwMjAuMDkuMQAAeJx7v2/tPQYg4AFiRgYIkAdiJSBuYGRjSACJM7M5aABpZhY2hwwQzcyIxIDKMEBoDgjNxM4AVsDEiEUrTIcCkGbhBFOMqBSmPewQXcxYjIEJMOBSihBAcwpBldzAMGFkymBiYk5gZslgYmFVYGXTYGJlV2DnUODgzGDi5Erg4mbg5mHg5mXg5mPg4s9g4hdIEBAEKhVKEBLOYBIWUWEWEdViYmYSFhMVU2EWE08Ql8hgkpBMkJTKYJKSTpCWyWCSkU2QlctgEuRIEGZMkBNLkJNMEGFhYxQWYmFmYuPk4hcQ5GAVF5OTlGCTkpaRlZMUh0UUg3ylY9KB0zvnOoA4qipcBxav6QKzf4eX7F/tuxzMXm11w67JYQqYzR0lYb9YxRPMXpf+xz6ISxnM/ufo7ZDoEwNmszhzOjyKbrcHsSMTEh3+z3ljB2K35ec4NE1s3g9i57otclA5dh7MZjm33KHY3v0AiD0rdK3DK9/JYPZy+wKHhX5BYLZJzXUHNwMbMLvh7AkH7hYrsN5XrocdKt86ge1yMJ/uEL96LZjdf096/5RH/GD3fND8t//pH1MwW17Z58Dq0p9gNR+FHQ8s+fwK7DYewfYDN2Xu7wOxd93fcmBzircNiO22+sKB9x9nge2y49pyQK5dCuyGO817D/QurgCzwxpmHmjnnQNmp7FFHBDY3QNmawu7HtgUaQ1mS/e2HUg88h1sjhgAu9GbJtqbGu8AAAITelRYdE1PTCByZGtpdCAyMDIwLjA5LjEAAHicnVZLrtwgENzPKbjAoP4Cvc68bKK8SFnkDtnn/kphbORIiZTXlmVVq6GmKJpmHmU+319ffv4q+5HX41GUi1op9Nc3IsoPIaIHhj+1urrMmVZDRkxEFVkqn8q/KO7vwSKVffhiUdWWY6EabgeLV5EhKRbMMBFdWppKbkWY4eE8kVa2LAvX6HzMlerWPccCBd1jIcPibizf/p8Fe2TWlyryP7S8f0SLC59zrQlnV9TC5h49oUV60l2v1JkXSxNN1gtqzTTWWWDOsxi36e4TVUeqN5bPH/Gl+6VFRqMcS6tdF4vUMLIsi/TjBOBcdojJ+dIqk5xu9MaWYzEocF+1q95GqnaxjkbjPI1iyf6CWovhfbEMy/Y61NqIdvYIy/ZdrcSXG+ZZFkO3pbEcMvWku16bXztNLLmdfjb0F4rlszDlutTUIk3XCTC2XN8FS6ybBD6P4ZR1t0eLhUY/ekRiRVq1uy0WjT5yWlAvPU5fQrrmtKBe6LhJ5llQ7xktaCxyfGcApMd3BkC2M0C+M0BtZ4D6ziAYOwMUO4jCdA0DmtfFygDxVgDEeg/sHvh9TttsrXDfmV543ITyVgAkWwGQbAVA8y4/M1JkKwCSrQBItgdAsj0Aku0BkGwPgOZfljMTRenKACnvJdytOlWew/gmZwbXj34t5e399fgNKXye0rF3ftoAAAFwelRYdFNNSUxFUyByZGtpdCAyMDIwLjA5LjEAAHicJZFJagMxFESvkqUNsvzngcYrg5fJIXrvE/jwKcnQiOb9QVWl58nneV6el8ff9feU/fu64ntdz/MtOPj+fDzvbz7fKL/XyT+fy02nq4sPmy3VOo6bTPayAFFVTxCa7WaRw6dICZpomojiz2aoVC7i7Sw2dLJJxTh4dnLzkOmWPg4U0ht1M2HUcY9ZyuBJntarwYWdB5aHsO6RaFMeN/RIVo3DJyVvEPt+ADHtAR/MCh8AxpB6gzJSibUkXTGLFugitMRMVSiD1TayTSSdsIZmSnnmQkxwCzUZbIpFhppDKE/1yN7BBFWFw6NYCQhMl29Qhi4QCKsOw1Rb9QbEUbZsem1iiJVK1+0YyliZ+wwXXWEQUmVjsEBA1Nu9MDl/2yRgG1bQ5Js0nsaX3Srr2vuzo2VlUhnhW4QilV5IO0u/urKldyqSK/4ljNYTLVtwU+P6+QcyAX77F98YCAAAAABJRU5ErkJggg==\" alt=\"Mol\"/></td>\n",
              "      <td>424.386</td>\n",
              "      <td>4.42872</td>\n",
              "      <td>0</td>\n",
              "    </tr>\n",
              "    <tr>\n",
              "      <th>96</th>\n",
              "      <td>CC(C)COC(=O)Nc5ccc(c4cnc3c(c2ccc(N1CCN(C)CC1)c...</td>\n",
              "      <td>633172</td>\n",
              "      <td>CHEMBL1085511</td>\n",
              "      <td>Active</td>\n",
              "      <td><img data-content=\"rdkit/molecule\" src=\"data:image/png;base64,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\" alt=\"Mol\"/></td>\n",
              "      <td>499.619</td>\n",
              "      <td>4.60180</td>\n",
              "      <td>0</td>\n",
              "    </tr>\n",
              "    <tr>\n",
              "      <th>97</th>\n",
              "      <td>CCSc4nc(Nc1cccc(Cl)c1)c3cnn(CC(Cl)c2ccccc2)c3n4</td>\n",
              "      <td>402629</td>\n",
              "      <td>CHEMBL428029</td>\n",
              "      <td>Active</td>\n",
              "      <td><img data-content=\"rdkit/molecule\" src=\"data:image/png;base64,iVBORw0KGgoAAAANSUhEUgAAAMgAAADICAIAAAAiOjnJAAAABmJLR0QA/wD/AP+gvaeTAAAaXElEQVR4nO2deVTTV/bAbxLWsCqKgBtaUaeorWAHlSqCuNVlOiqtaFOVI7RuuLRjztgOzKjtQatVR+0Ri51KR6s4FcelxgZ3gbqg0opQQVSQRZQtLGEJub8/nqYMCmR7hvi7n9PTAzHfm0v45H3fdh8CRASCMDZCUydAvJyQWAQXSCyCCyQWwQUSi+ACiUVwgcQiuEBiEVwgsQgukFgEF0gsggskFsEFEovgAolFcIHEIrhAYhFcILEILpBYBBdILIILJBbBBRKL4AKJRXCBxCK4QGIRXCCxCC6QWAQXSCyCCyQWwQUSi+ACiUVwgcQiuEBiEVwgsQgukFgEF0gsggskFsEFEovgAolFcIHEIrhAYhFcILEILpBYBBdILIILJBbBBRKL4AKJRXCBxCK4QGIRXCCxCC6QWAQXSCyCCyQWwQUSi+ACiUVwgcQiuGBh6gQIfVi3bh0AhIWFeXh4mDqX5yNARFPnQOiGWq12d3cvKSnJzMwcOHCgqdN5PnQrND+uXbtWUlLi6enZYa0CEssckclkADBhwgRTJ9IWJJb5cfLkSejwYlEfy8xQKBRdunRBxMePHzs5OZk6nVahFsvMkMvljY2NI0eO7MhWAYlldpjFfRBILLODiTVx4kRTJ9IO1McyJ27duuXt7d21a9fi4mKhsEM3Ch06OaIFbKJh4sSJHdwqILHMC3PpYAHdCs0IpVLp4uJSX19fVFTk6upq6nTagVoss+Hs2bNKpdLHx6fjWwUklhlhLuNBBollNpjFEqEG2o/V0cnNzT1z5oxMJsvNzXVycho+fLipM9IKEqsjUlxcfOHChaSkJLlcfvfuXfZgnz59EhMTLSzM41dmHlm+fCCqEBuFQlvNIyrVo6qqs9XVF6urk+PiRF9+eZk97uLiMmbMmMDAwMDAwFdffdVE+eoMTTeYgLq62w8efGxrO9jRcXxTU1lV1ZmqqtNK5S2AJ7+L4uLxsbHWgYGBQUFBgwcP7vjToc9CYpmAiopEpfJXd/e/qdXKGzc6I9YDgFAotrcfaWfnb2//poNDgEBgaeo0DYLEMgGIqpKSf1ZVnXJ3jy4r22dh4eLgEGhn52fuMjWHxDIZDQ15xcUbevXabupEuECddxNQXX2hvPyQSlXi6rrM1LnwglosE5CdPc7a+pXu3WNEImdT58IL8xtumDv19XcViqSysgSh0MHUuXCExHrRKBQnAMDRcbxAIDJ1LhwhsV40CsVJAHByMo8lP70hsV4oiA1VVWcABI6OJBZhPKqrk5uaqmxth1hadtDDPIwFifVCKSk5Bf8P7oNA81gvmOnTjzY29jt06C1TJ8Idmsd6cRQXF3t4eIjF4tLSUmtra1Onwxcj3AofPnxYUFCQkpJieKiXmxMnTiBiYGDgS28VGCgWIsbHxw8aNGjatGn+/v7jxo27evWqsTJ7+TCj4q3WyG/I1/apqC9ZWVkBAQEsiLe3t6OjIwAIBIKZM2feunVL77AvKyqVysXFBQCys7NNnYtubH24dVHeovD74ffq7829N1fLq/QRq6GhISYmxsbGBgC6deu2Z88eRCwtLZVKpba2tgAgFApDQkJycnL0CP6ykpqaCgB9+vQxdSK6kaHMWJS3CBGVTcp6dT1HsZKTk729vVnjJJFIHj16pFKpNP9aUlIilUpZH8LS0jIiIqKwsFDXl3iZKCoqSkhIiIiIcHV1FYvFY8aMMXVGunGw/OCe0j3s6yZs4iJWRUVFZGQk2ybbr1+/pKQkRDx69Gjfvn2vX7/e/Jn37t2LiIgQiUQAIBaLpVJpWVmZ9i9k7hQX4/fffx8REeHl5dW812FtbS0QCHbt2mXqBHUgpTolujCafc1FrCNHjvTs2ZO1Q1KpVKlUFhQUTJ8+nb1lCxcufPaSW7duhYSECAQCAHBwcJBKpZWVlVq+XEemrg7T0hARGxsxM/PJgwoFyuUolaKvLwoE2KfPk7JSe3v74ODgmJiYq1evbt26lbX0sbGxJsxfVz64/8GqB6sW5y02ch+rsLBw5syZ7G0aOXLkzZs31Wr1nj17OnfuDAB2dnYxMTHN74YtuHTp0pQpU9jlXbp0iYmJUSqVWibXMcnPx86dMSsLKypw/nxcuRKHDkWhEAGe/Gdnhx9+eHz9+vWXL19u8c5s3ryZ9UG/++47U+WvE8crjkcXRl+tuapsUiJinbpOywvbEkutVsfGxrLhnpOT05YtW5qamm7fvh0YGMhEmTJlyv3797V5mVOnTmkqLXv16mV2I6Pm5Ofj4sU4axaWl2NEBNrYIABaWKCvL0qlKJdj3fPefJlMtnbtWkTctGkTAIhEor17977o1HXn3dx3IQ12lOzQ9cJWxcrJydGoMGPGjIKCAjYYZB1zNzc3NhjUCblcPmTIkE6dOq1cuVLXazsO+fm4ejXu2YM7duDChRgXh6dPY9utcElJiZ2dHQAwt/7xj38AwIgRn//wwwvKWT9UapVLugukQU6dzgP8VsXau3evg4ODm5vbwYMHEfH8+fN/+MMfNIPB0tJS/XItLS0FAGdnZ/0u7wgwsdRqnD4dn9e3fD4HDx5kRcyff/45Im7YcNzKCq2s8MgRjqkaSGp1KqRB/5v99bi2VbF69+4NADdv3kTEa9eusT64t7d3cnKy/pki1tfXsxGAIUFMy6NHyBrrjAzU6W4WHx/PxtS7dp1BxL/+FQHQygqPHuWSp+FEF0ZDGkTmR+pxbatisfYpIyODfRsaGrp27dr6+nr9Uty/f3///v2jo6MR0dLSEgAaGhr0C2VyUlJQKMRZs/S5dvfu3aNG7bC0xO3bERFXrUIAtLbGH380bo7GYXjWcEiD4xXH9bi21W0zrE9QU1PDvt23b1+7q0NtUF1dffv27QcPHgCAWCyurKysra3t4CeVt4ZMBmo1dOumz7VhYWEAcPEiLF0KQiHExEBNDezYATNnwrFj8HRQ1CEobyq/UnvFWmA92mG0Hpe3uggtFosBoLa2Vv/UnonGNG3+tTly8iQAwIQJUFEBerw9YWGwdSsAwOLF8PXXsG0bhIdDbS0cPAgPHwIAlJdDRYVRM9aLnw791P+z/nPz5toL7fW4vFWxWrRYBtI8mnEjv2DKyuDqVbCxgYAA+Oc/wcXliSU6sXQpfPEFIEJmJggEsHMn7N0LPj4wfTqoVCCXw9mzxs9cV04cP5H5Q6ZXtlf7T30eL7TFYtGMG/kFc/IkNDXB6NEgFoNMBnV10KePPnE++ghOnYLNmwEAhEKYPRsEAggMhO0do+AeEeVyORhwMiW1WLqhuQ+Wl8OVK2BlpX/HKCio5SPjxkF6OhQVGZShUUhPTy8sLOzevTvbcKAH1GLpACLev19qYQETJoBcDioV+PuDg1Hrmdes6RCNluYgXTbNpAfUYulAenr62bNdvLxGeHtDevptD48mI+4G9fCAzp2hZ0/49FPo3t1oYfXD8M2urU43UIv1LCdOnAAAf/9BABAfP7aw8MGkSZkAxvn7uVevwnvvwfr1sGCBUeLpQ1ZW1pkzZ06fPn3p0iWhUDhq1Ci9Q70gsV6OFkvzOb558+aDBw/c3NwGDx5grOAyGZSVwYv/2wCFhYXJyclJSUkymSwvL489aGFhoVarw8LCEhMT9Sv90HaC1EBYNLNusaqqqlJTU0UiUVBQ0DfffAMAkyZN0rsL0oLycrh8GSwtYcwYo8Rrh+eeygwArq6uAQEB/v7+PXv2XLx48YkTJ95+++3Dhw/r4dYLarEsLCwsLS0bGxsbGhrMtMU6depUQ0ODv79/586djV5vk5QEKhUEBoKjo7FCtuTRo0dnz569ePFicnLytWvX8Gk9qYODg5+fX3BwcHBwsI+Pj+aj4uXlFRQUJJPJQkNDDxw4wBbitOcFtVgAkJKSYmFhYWFhwa/FSk9Pd3R0bGhoGDDAaHcoDayDxWQKDAysrq4eN26csYJrZjF4oFar33jjDbZ9nD3i5OQ0evRodsT3kCFDhEJhSUnJuXPn4uPjk5OTjxw54uHhMXjw4KSkpLFjxyYmJoaGhu7fv1+3I+ZbW0T873//CwBTp05l3xYVFYWEhPzyyy96rEe2YP369QCwaNEiw0NpqKmpkUqlIpHIx8eH1QjduXPHWMFZhYiTk5O9vf2OHTpvedOGnj0RAG/cMH5ktVr92muvsVKO4ODg6OhouVzOdgCUlpYeOnRo6dKl3t7eze/p+/bt01x+/fp1tlU4JCSksbFR+9dtVaykpCQACAoKYt8uX74cAIRC4ezZsw3Z/5mWltavX7+ePXva2NhIpdKKigq9Q2k4fvw42+RjYWExbNgw1mhbW1tHRkY+fPjQkMgFBQWRkZGspo299WKx+OzZs4bn3JyMjMdubg/c3VGtNm5gRMS0tDQAcHd3ZzJVV1fL5XKpVOrr69v8+PhntdOQmprKdhHPnTu3qalJy9dtVay0tDRPT09nZ+fY2NjGxsZHjx5JpVJWS2hpaSmRSO7evavTT1hZWblkyRL2w7APAQB06dJl06ZNeu+CLy4ulkgkLNTrr79++fJlRMzOzp49ezZ7IXt7+08++aS8XOcijuLiYk2ZpEAgmDJlypUrVz788EMebm3cuBEAli79qxFjavjss88AIDw8nH27ePFijUwWFha+vr5SqVQul9c9dz/1U5KTkx0cHAAgLCxMS7fa2vO+YcMGlsHAgQMPHjyoVqvz8vIiIiLYvdbKyioiIqK4uFiblzl69GivXr3YDxMZGVldXZ2SkjLm6RCoR48eW7ZsaftnawEr6OjSpQv7TT9b0JGRkcFqhGxtbQcMeBAdjVqWCN2/jwsX4rBh41kL/c477/z666+aFw0PDwcAR0fHn3/+Wfts24b11fbv32+sgM0ZPXo0APznP/9h3x4+fNjf3/9vf/vb6dOndfo8X7hwwd7eHgAWLFig1qJpbUuspqamhIQETXHcoEGDEhISEDErK0sikWiahLbvaEVFRZpGxcfHJ41VTj1FLpf7+vqyf+3du3dsbGwbBT8asrOzx44dy65666237t2719ozU1NTw8O/YcUzbm64bRu2sVXx3j384AO0skIAHDr0bGhoqGafowaVSvXee++x/i9rIA2kpqbGxsZGJBI9fvzY8GgtUCgUlpaWFhYW5eXlhkeTy+WsCV+2bFm7T26//KuhoSE2Nrb701WGESNGnDlzBhGvXbs2adIkzR0tLi6uxYVaVomp1eojR44MHjyYhXr11VcTEhJa+0w8t7q/XS5cwFGjntRm9eqFsbHYoht67x5GRqK1NQKgUIghIb8XDD6LSqUKDQ0FAGdn56tXr2qTgIasrKyvvvoqJCRELpezR44dOwYAw4cP1ymOlhw6dAgA3nzzTWMFPHnyJHvzV6xY0fYztS1Yra+vj42N7fZ032RwcDB7T1NSUlg1WIvhkq5VYqx17Nu3L7vEz8+PVVo3p0V1v04fcbUaExNx0KAnek2bhq+8gjU1mJODc+agpeWTEq7338fffms/mkqlevfdd9knqt2RckFBAauyZ50BhuYXs3TpUgBgm7aNzgcffABPS4OMxYkTJ9h86ccff9zG03Q7u6GqqiomJoZtKRYIBCEhIVlZWYj4008/abbDG1IlxvR1d3dn776/v//58+exlep+PWhqwoQE9PLCuDiUSPCTTzAnB1evxu7dMSQEs7J0CNXQ0DBt2jQA6Nq1Kys5aU5+fn58fPy8efPYcFWDm5vbrFmzYmNjNUOffv36AUBqaqp+P1Hb9OnTBwCuXLli3LCHDh1iQ+82ym71OW3m8ePHLQ6W0UwaGaVKrKqqat26dc7OziyOv7+/m5sbGy5ERUXp1Md/LioVXruGmzbhsmV45AhGRWFNjT5x6uvrJ0+ezG7KzU9uSkhIaC6Ti4vLjBkztm/frumxaU4K8fT07NSpk1gs1nIMpBOZmZmsTdV+jkB7Nm7c2KlTp40bN7b2BP3Px8rPz4+MjGQtk5WV1bx58xYsWMAaFS8vr9OnT+sdmVFWVhYdHe3g4ODg4CAQCFh1v4ExNTCxysowIACjovSPU1dXxzqaPXr00BzblJeX1/zIBvZ7LS4ufu5JIWwd4vXXX9e7VLM1WDn/nDlzjBWwuro6NTWVdZTZjEFYWFhrT9ZfLEbzg2XYgqBUKjW8UdHA5ve6du1q3I9dRgbu3o2I+N13uHmzQaFqampYb7Jnz565ubnsQfbuKxQKzWxk86nt5toVFRWxv5tqdLfYruL4+HhjBUxMTASASZMmISIblR84cKC1JxsqFiM9PX3NmjVxcXG/adP11QVWOd2pUyfjhmXMnYteXqjd6RNtUVNTww437NWrV0ZGhq5T28XFxQMHDgQAHx8fY533pFQqxWKxQCAw4k2WzQ9/9tln1dXV1tbWIpGojU+CccTih1KpBABra2sewQMCEACfDvwNorKy0s/PjzXbGplsbGwCAwPXrFlz8eLFtgt08/Pz2Yh4xIgRCoXC8HxkMhkA+Pr6Gh5KA8swLS3t6NGjLNU2ntzRxUJEdp/VaQVUS8LDEQCNtazMylq6du2qWSepra3V/vK7d+/27t27e/eRM2ZU6zeYaM6KFSsAYPXq1YYGegobCrA+yZIlSwDg73//exvPNwOx2CoVj0PbNmxAAFy+3DjRgoKCAOCTTz7RO0JOTs6wYXUAOHYs6uLkc2Bj83PnzhkUpRlsKCCRSPDpFEnbi1pmIBablS0qKjJ65MREBMDJk40QijVXzs7OBnbAb99GDw8EwHHj2jkaqQ3YDmO2NY09ktnGSoJ2sKHAv//979zcXNbrbXvxzQzE8pvi5znaMyfP+GcwZ2QgAHp5GSEUO0uMHVFkIL/9hu7uCIATJz7/DLfW0Ezxd+vWrVOnTgMGDGArY19//bVIJPrqq6/0TokNBYRC4cOHD7dv3w4As9o7FMUMxBp0axCkwS+1Rthj2IK6OhSJ0MICDTz5ho3DXV1djdLvRsTMTOzWDQHw7bfbyS0/H/fuTXh2ip9Nj7GFo127dgkEAoFAsHPnTv3yYUOBYcOGIeLUqVMB4F//+lfbl5iBWH5ZfpAGqdWcFj0QAG/f1j9CU1PTa6+9BgDbtm0zXl54/Tp27oxDh2JCwpNHNF2akhJMSMDIyCcH6Q4b9qQK3sHBQTM9JpPJ2GoxOzxxy5YtbJlEv2ktNhT49NNP6+vr7e3tBQJBQUFB25eYgVhBt4MgDU4pTvEIPn48AuCxY/pHiI+PB4DevXsbcVqYkZ6OZWXo7IwnTyIizpqFS5eitzcKBL8fpOvkhEuW/LB58+YbN260mEP+8ccf2brIX/7yFzTs7FM2FLhw4cKpU6fYXG67l5iBWFNypkAaHKngcqbikiUIgF9+qeflDQ0Nr7zyija3Br2ZMwdnzsTaWpw9G3v3RgAUizE4GKOjUS5v50apWS1es2YNPj37VCQSff/999onkJ+frxkKrFq1CgCkUmm7V5nB3yu0E9oBQK2aSx0iW7jLzv6fB8vKwMkJRFr8LfC4uLg7d+7079+f7f7jgUgEK1YA28y7dSt06QJ//CNoWYv15z//ed++faGhoVFRUSKRKCoqSqVSrV279v333xeLxWx3RrtYW1tv2LChrq7O0tKSdba0qnvT3lxTMf/efEiD3Y938wiemophYdjiAzx+PNrY4NCh+N57GBODMllBbm7us3sPlUpljx49oNnGXx68/z4i4pIlOH26nhEOHDjAJpljYmIQcfXq1QBgZWV1RMeDdYuKigQCgZ2dnTY3fTMQa0neEkiDbSXG7BprePvtJ6vREglquigjRvxPP2bUqO8AwN7e/o033ggLCzt8+DB7Glvh9/X11WYPuN588w0i4qNHT44t1Y9vv/1WKBQKBAI2wpBKpcyt48d1OF909+7dAPCnP/1JmyebgVi3am998fCL+NJ4lVq1pnCNcYNLJDh3Lj56hBIJVlb+vmVZocCff8a4OFyxAiWS9R4ev/9tcLZOolAoXF1dAUAmkxk3peYoFBj59MziefMMCrV7927m1o4dO9RqNVuWmT9/frsX3rlzJzY2ViKRODk52draallZ2dHFqmmqGZ89Pr02/cfKH3+r+01yV2Lc+BIJZmfjwoUokWBUFFpaYt++OGUKRkdjQgLevIma6eWysrLz58/v3LmT1VBERUWBUbeTP5fKSlyw4MnX77xjaLTmE1pqtfrbb79tbfb8zp07cXFxc+bM0ezmZezatatGu4XMjt55v1RzaYLjhCG2Q4bYDuH0Ev36QbducOEC2NlBUxPk5kJuLhw79uRfPT1VLi7Dvb29vb29Bw0aNGHCBE9Pz8ePH7OZoXXr1nHKSsOlS/DRRwAACoWhocLDw2tra5cvX75o0SKxWDx37tzm/9ruSSFvvvmmpqSqXTq6WAAgAOOc6PJcunYFAFi1CmQy2LEDtm6F7Gy4dQsyMp78386u/MqVNLbfkME2tSoUismTJ2v+xiw//Pxg0yYAgHffNUK0ZcuWqdXqlStXzp8/XygUjhs37ty5c9qfFKIDhjavnKluqh6fPf523e0btTdKG0uNfitsl8rKmpSUlF27di1btiw4OJjtvgeAxYsXt/grjTxo3sfSojukLWvXrgWAFgfIODk5TZ069blzrXogwKeSdlgeND44UHbAWmg9u9PsS7WXJjlOMm0+paWlGRkZrMLYfFm7dq1Sqdy6devIkSPZbS4gIEDXs4rawAzEIjhRX18vFAqNKFNzSCyCC62emkwQhkBiEVwgsQgukFgEF0gsggskFsEFEovgAolFcIHEIrhAYhFcILEILpBYBBdILIILJBbBBRKL4AKJRXCBxCK4QGIRXCCxCC6QWAQXSCyCCyQWwQUSi+ACiUVwgcQiuEBiEVwgsQgukFgEF0gsggskFsEFEovgAolFcIHEIrhAYhFcILEILpBYBBdILIILJBbBBRKL4AKJRXCBxCK4QGIRXCCxCC6QWAQXSCyCCyQWwQUSi+ACiUVwgcQiuEBiEVwgsQgukFgEF0gsggskFsGF/wOMl+zG6U7NVgAAAht6VFh0cmRraXRQS0wgcmRraXQgMjAyMC4wOS4xAAB4nHu/b+09BiDgAWJGBgiQBWIFIG5gZGNIAIkzQ2gmJgGwOBObgwaQYmZhh9DMcD5DBohmYoQJsDmABZgZsTEgSgTBRmKKwwVglsAtg7oFQjMzwg0gwkpcjoCZzQ0MA0YmBiZmoFgGEwtrAiubAhu7AjtHBhMHZwInVwYTF3cCNw8DN28GEytfBhMffwK/QAaTgGCCoBCDkDCDsAiDsCiDqFgGk5h4grhEBpOEZIKkVAaToHSCtEwGEy97gpRogjRfggxzgggLG7OMNB8rCxsHJxc3LzsrP5+0oACbmLiEpJSoOCwqGGTTmFMcHlXNcwBxzGS8HHxaE8BsHdNb9td3e4DZZ9KW2e+ddsMexL7mK+aQN1EOzPY9+8O+2CB4P4gt3mjvYP/sE5gd7djnEBp8GMyecm69w9oAtQMgdor/PQeLdj4w+4/Ta4d/UR5gNYe3nnSQbppiB9a78ppDOeM9sPmfTWY7OKot3wtiG2n8tlPVnglWzzAtaJ/5PEWwOdtmXd//vUUQzI6o/Lz/v4oXWE3gUb8D+tH7wXrfv+8/kBKfChZ/8qP3gL2zJFi9U8muAzrTffaB/ZK958Az52Vge+e/f3Zgc8J/MLt4H/vBLctmgNlvD7EdTDgwB6y+g/Hxgac+DWAzV1zl2//m4l+wXYsfy+y7xLwSrF4MAFgQmI8cxjUQAAAB/npUWHRNT0wgcmRraXQgMjAyMC4wOS4xAAB4nJ1Vy24bMQy871foByzwIUrkOe6pSA4t0H8IkGP/H6W0Cr0FGqCmsTCGoDUekRzuUebnx/37++8SH7ofRyErTKXAPx8zK78IAI75e67SaUzUqgnJRFA9C+WlfEVxfTYLisLmA8UcC9YBbWw+7lctP59h4XlioW6U1EKVm24FHa1dWN6e0WKN1cENqpJAVosZ8WTBqjZGTkurrYmcLEI9qUVqszbP3qiK6cixdK/LoJOFaCS1jMqCdlZ3KPWsFgbe/SWD5Lx0n12lPcXcrvPy8vFEj1SAzhu5jZI3Au8R7E6j9RyLKyCQsTtNwjkW96CuasxOD87NrrMYLCevTlvPsXAlhu1GMG65G7mPbO266WlL+miy8OqM14Wt/eWj/56Xm/hW6ePUgmaa0+Iseu5sdAeo5VhGJey6t55Jzkc3rU3XfilzdpOeniy0znpdGDplb+RTYuf8AVDSAVBFxt5SSJysrp8V3vuFCVLvI28Jre8ZOOIIHLUIHMnKz8BRj4yjEYEjjcCRxRkrCJ8ZR4ifGUcYChwhX4MWBL1gKHCEocARjsiMgqHA0XwV7MAKhQJHc3U8glDgaDb1ZHNEUQNHFAocUShwRA8FWigUOKKowbzMIzOuf6rrcjuwR+FfS/n2dj/+AEJbhdgzdgePAAABW3pUWHRTTUlMRVMgcmRraXQgMjAyMC4wOS4xAAB4nCVROY7kMAz8yoQ9gCzwPuDQ+ST7BKeLfsE8fopuQ4FZpOqgruvfze/79XPLje91/f++Bed+v1/X9ZQ6jVsBvvnr96XbQ5KX7Xbxdepmz84FnIptnbyTLB0Aa1gMoETEi3e08Dplq5Uv2sFtlDPQppnroF1i7TUz3QL6g3d1BnRsm7nVINBtzPi2VigfslEHiAJEyT2ICOrc6tw6xFkSWjOipGZQlyZyHyRhPGEv0ZBRKicYxS00gr3XSdAiNx557ghdJ9pCDmujLy4gRzPKZgoGUtMeqEFmHw8dY+vQLUrZj0KrqWNLBwJ20TNYjUD5wXTEwKeINqqOHUU8d7k72z9Y1SxYuh4gt3DgDSDePo9y1LayNeZl8kwt8wcaJWT83IKbtslIJOpPRsfrztohJ9oaD8iuwgI6FTJd379/UU942FD+kwcAAAAASUVORK5CYII=\" alt=\"Mol\"/></td>\n",
              "      <td>444.391</td>\n",
              "      <td>6.31540</td>\n",
              "      <td>0</td>\n",
              "    </tr>\n",
              "    <tr>\n",
              "      <th>98</th>\n",
              "      <td>Cc5ccc(n1nc(C(C)(C)C)cc1NC(=O)Nc3ccc(OCCN2CCOC...</td>\n",
              "      <td>167995</td>\n",
              "      <td>CHEMBL103667</td>\n",
              "      <td>Active</td>\n",
              "      <td><img data-content=\"rdkit/molecule\" src=\"data:image/png;base64,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\" alt=\"Mol\"/></td>\n",
              "      <td>527.669</td>\n",
              "      <td>5.98642</td>\n",
              "      <td>0</td>\n",
              "    </tr>\n",
              "    <tr>\n",
              "      <th>99</th>\n",
              "      <td>CN5CCN(Cc4ccc(NC(=O)c3ccc(C)c(C#Cc2cnc1NC(=O)C...</td>\n",
              "      <td>649634</td>\n",
              "      <td>CHEMBL1171247</td>\n",
              "      <td>Active</td>\n",
              "      <td><img data-content=\"rdkit/molecule\" src=\"data:image/png;base64,iVBORw0KGgoAAAANSUhEUgAAAMgAAADICAIAAAAiOjnJAAAABmJLR0QA/wD/AP+gvaeTAAAXfUlEQVR4nO2de1xTV7aAV0II76dKIfgWFYWCdXygo1gpUqdStVoY20rFV1BxwGoxWkbRVhG1Cs6Id6ilU9SO/eF4bdE6FmQEQSuV+qq2aEUFBEQEeQhKSLLuH9vmIgokgc0jrO8vHnvlrJN82eecvdfZR4CIQBBtjbCjEyD0ExKL4AKJRXCBxCK4QGIRXCCxCC6QWAQXSCyCCyQWwQUSi+ACiUVwgcQiuEBiEVwgsQgukFgEF0gsggskFsEFEovgAolFcIHEIrhAYhFcILEILpBYBBdILIILJBbBBRKL4AKJRXCBxCK4QGIRXCCxCC6QWAQXSCyCCyQWwQUSi+ACiUVwgcQiuEBiEVwgsQgukFgEF0gsggskFsEFEovgAolFcIHEIrhAYhFcILEILpBYBBdILIILJBbBBRKL4AKJRXCBxCK4QGIRXCCxCC6QWAQXSCyCCyQWwQVRRyfQZmRWVioRexsZDTIx6ehcCD3qsZLLyx2NjKxE+vNV6dLoj1hFcvmpiooqhaKjEyEA9OlQONTUdLGDQ0dnQTxFf3osY6H+7IseoD8fhpWBwfu//ppZWdnRiRAA+iRWXl3dL7W1ZfX1HZ0IAaBPYhkKBABQj9jRiRAAJBbBCf0Ry0Qu7wcAjx51dCL6Tn09fPYZbN8OhYXNtNIfsQq/+OJ/R426dfBgRyei73z8MUyYAEuXwtq1zbTSn3EsQ0NDAKink3cNuHbt2tdffy0Wi8eOHevj46NRzO3bEB4OMTFQWgrDhwMAODpCRQVYW7+wedcQq0guT6uoAAAfG5uehoYvbCMWi6FZscoViojbt0eYm3tYWrqYmXFKtZNTU1Pz8ccfR0dH19fXCwQCRPTx8dm6deuIESOajJHLYft2iIyE2lqwtARDQ6ipATMzePAALC2bChJgVzjbZRPMoy0ti+TyX2pqFIgAUKNUCu7cKUxLq6ioQMSsrKy0tDQ3N7dRo0ZVV1cDwFA/v7IRIwCgTqWSq1RjLSweqVTTe/YcYGxs0i1HUx8cOzZy2bKCggKhULh48eJ+/fpt27atoqJCIBC8/fbbUVFRAwcObBSSmpo6ac0aUXY2AICfH5iawptvQnY2GBmBhwdMndrUtrqMWMkPH/YxMhIC/E9Rkfrvznl5X82erf7VysqqssEA6VvR0fkTJ6p/9bGxMRQKfWxs3MzNLQwM2ifzzsKtW/CXv8Dx4+tHjTqmVO7Zs8fDwwMAysvLt23btmvXridPnojF4sDAwE2bNvXq1QsAiouLZTLZgQMHvp440b+4GGbMgH374P59GDkSfvqpxQ12GbEMBIJxlpanKypOVVSwkQVTAwOTu3dvf/ONtbW1QCDIyso6cuSIp6fnvHnzLCwsAMB6wACrIUMAQCwUGgmFiHiuqmpBd5tPVCggMhKiouDxY7C2fvTpp6bz5wuf7bALCgo2bdr0+eefq1QqGxsbmUxmZmYWHh5eVVVlamq6VCr9qKjINjERAGDSJNiz5+k5VvNgV+BidfXlR4+abxMfHw8ACxYsaKqBXKUqfPKkrVPrrGRk4IoVuH497tqFkyYhAPr54b17zURkZ2d7eXkxK2xsbADgT3/6U2hoqFgsnjtsGPbqhXFxqFJpuP2uIZYm7N+/HwDmzp3b0Yl0DhYvfirB0qV46RKmp2sYl5KSwk7kJ0yY4ODgAAAGBgbBwcG1Dx9qtf2ucVWoCeyqUC6Xd3QinQOhEAQCAABjY3ByAo2vgr29vbOzs1955ZXMzEyBQDBy5Mg9e/aMHTtW6+1rG9BpIbGeYcQI+Oc/IS0N5HLNrWIYGBg4OjoCQGRk5Pnz53WwCkgsvWXJEqiuhqQkCA/XIZq9mcOHDxfqOi5DYukvX38N0dFw544Ooa1/M/VHLDalQ2L9P2yKQqc3xNFxvZtbhkrlpfPG6eRdfxGLAXQUq7Ly5StXoLZW943rT49FYjWmFWK1IvQpnUusmpqawsLCK1eu6BB76tQpALh161ZWVlZb59UlCZNIhg0cmKxS6RDbiqPoU9pYrMePH69bt27Xrl3Tp0/X1o+jR4+6urq+8cYb7u7uU6ZM0Tz8t99+e/3118PCwkQiUUVFxbhx4/z9/W/evKl9+npFflVVzq1bD3U6njk4gKsr2Ni0YvPajug2w9GjRwcMGAAAJiYmACAUCufNm5efn99iYG5u7htvvMHy6d+/v5mZGQCIRCKpVFpUVNRMYG1tbUREhLGxMQDY2Nhs3bo1MjKSTRQaGhpKpdJ7zU5i6Ddz584FgP3792sbWFKCU6eiQoHx8bh3L16+jIi4fr12L9I2Yt29ezcgIICZ4e7ufvz4cTbHBACmpqYbN5Y0NR/w5Alu3Ije3n8FAGtr69jYWIVCUVpaKpPJ1OEymYwVxjTi5MmTQ4cOBQCBQBAQEFBSUoKI4eHh7733XkBAgIGBAQCYmZnJZLKqqqo22c2uRWBgIAB8/vnn2gYWFuKcORgbizt34o4dePIklpXh4sXavUhrxZLL5TExMebm5uxTjIqKqq+vZ//Ky8uTSqUTJwYCoK0tRkXh48fPxH7/PQ4ejABoZlazdOkHjXqX69ev+/n5CQQCAOjRo0dUVNST36eQCwsL1R67ubllZmayvz98+JD1dlZWVitWrJg1axZrI5FI4uLi1Il1B06ePGlnZ+fg4NC3b9/ExETNA2/dwosXcft2XL0aZTLcsQNlMtyzB729tUugVWKlp6e7uLiwD8/X1/eFR73z5xWvvooACIADB+KqVVhZiQ8eYEDA0z+6uGBaWpObOHfunKenJ9vEkCFDDh48GB0dzQ52ZmZmERERdXV1Ddv/8ssvfn5+rL2jo+PKlSv/8Ic/sF9dXFwuXLjQmv3tEuTl5b311ltsl62srNgPXl5e2dnZzQfK5RgTg+bm+OabuH07lpXhgAG4Ywf++CMiYnCwdmnoKFZxcXFAQADrTpycnE6cONF8+5QUdHdHR0d8910MD8c7d3DlSrSwwIgIfFaMF3P48OEhQ4Y0PDX09/e/e/duU+1TU1PVPrm6uoaHhw8aNEgsFm/evFmhUGi7s10FdvRQf+tWr15dXV0dFxdnZ2fHThj8/Pxu3rz5wtiUFBw6FAFQIMA//xl/+gkR8cwZ/PlnfPAAETErS7tkdBTrww8/ZCdAmzZtqtNEDUSFAm/cwJUrcdcuPHwYd+7EykottiiXy3fs2GFkZGRqapqcnNxie5VKlZiYOGjQIACQyWR1dXXsHP9RS3VdXZT09HRXV1f2XZo6der8+fMtLS1v376NiOXl5TKZjF1RsWsadj7KKCoqCggImDgxBwAHD8bvv2+bfHQRKzU1FQDs7e1Z3lqxciXW1+PMmbhzp9bbrampYTZfvHgxJSWltLS0xZAnT57ExMSUl5cjIiteYz/rE/fu3Wt49Fi9erW9vT27rN63b5+6WUFBgVQqZdc05ubmERERVVVV0dHRlpaWANC7t/u2bUq5vM2y0kWsjIwMAPjjH/+oQ+yXX2J5Oaak4LFjWseyO3BEItH06dMB4Ntvv9Uq/KWXXgIAPRuA2L17t7W1NRviWbFihbe3N+u0Ro0adf78+efbX7hwYcqUKayN5e/32MycOTMvL69tE9NFLDa0PWbMGB1iCwsRACUSHUIREVkVx+zZswHg0KFDWsX26dMHADQZV+sq5OfnT548GX6vITYyMgIAW1vbmJgYpVLZTGBKSoqTk5NEIunRo8cxHb7iGqDLyHtrZuVaOQnFNi0SiXRIQP8mExMSEk6dOuXn53fgwIGvvvpKLpcHBARcv349NDS0mTqqy5cvI+KyZcuKioqmTZs2bdo0HrnpUt1gbGw3caLU3r63DrGtF+vJkyckFoPt0YABA2xtbffu3SuRSMaMGdNi1CeffHL48OHQ0FAAUHBbWVMXsUQiSUZGnJOTLttrkx6LfR1JrIZ7NHPmTK2iGPzeDV3Eao0cRkYwadI5gQAAPHTatBgA2KUNiaXbHllY2Fhb2wiFZn36DDQ2tuWTWruLJRDAmTMTFQqFQlEv0n7pbBKrIbrtEWJsRUWsUgkFBZvLyvhkplvZDBOrrk7HTbbu3F8MALa2tgMHDjTT4OYTRIyPjz979mwrt9s50W2P2MfHboDX+UNsEV3E+u9/4ehROHMGjh7VZZOt+YBZYfv777+fm5sbFBTUfOPLly9PmDBh0aJFQUFB1dXVxcXFAJCZmanDdjsnur2TrIiPicXvW6aLWJmZkJwMw4ZBaqrWsQUFBWycUzexpk2bZm9vP3fu3NOnTzfTrKamZs2aNaNGjTp79qy9vb2vr+/YsWNzcnKsrKzWr18/fvz4M2fO6LD1zoZu94+sXQu5ucDO9Tl239oOfCkUuGoVHjmChw9jaCiWlWkaWF9fr54i3b17t26TwcXFxWxKFQBmzZqVk5PzfJukpCQ2FioUCt97770ZM2aw9i4uLsuXL+/RowcACASCRYvW5ubqkEInIikpCQB8fX11iE1JwS1bcO9e1H5aTiO0EKu+HmNicMgQXL4cEXH5cly4EK2t0c8PW/yEGk6R+vr6tmYC4dGjR1FRUWw6glWZFhcXq/+7dOlStpVx48aFhYWxZqampuoCm+rq6oiICBMTE0/Pa4aGKJVigwnZLsaJEycAwMfHBxF/+OGHvXv3av51fest/OILLCnBzZu55KapWJmZ6Ob2tILq/fcREXNzMTAQjYwQAI2NMSwMXzi9++DBA6lUqp4i/c9//tMmeZeWloaEhLDrSlYmWllZiYgZGRm2trYhISEvv/yy2uM7d+40Cs/Pz58/XykUIgBaW+PGjXjyJCLixYt45QqyeldtC0Xan0OHDgGAq6urQqEYP348ADg7O2tY1rdqFa5ahdeudZxYpaWlMlmiQIAAOGgQfvfdM//Nz0epFNkn5OnpFxUV9fj3OlGlUpmQkMAOPSYmJhEREY8blZC2mpycHHVZX8+ePWNiYkpKSpYtW8ZGUAcNGvRdo3Sf5do19PNDAPT2xqFD8c4djIzE7dvxyhVE7Uvb2hOlUhkXF2dhYcHeXmdn5w8++MDp9zHrcePGZWRkNBV7+jRGROCqVVhSgvPnd4RYKpUqISGBre/m4VEcEoJN1TJlZ2Ng4Fm2V/379z9w4EDDxSRee+21F54MtRXp6enqqQw2BmFsbKy5x8nJmJKCW7fismVPxQoJwc2bcfJkfim3irNnz6qXDPXw8OjXrx/7+dVXX/3oo49YEQfrqn/77beGgSUlOG8eCgQoEOCcOYiIsbHtLtbNmzfVZvj4+Fy/fqPF1zp+/Lj6AMT6jL59+x45cqRNE26SpKSkwYMHL1u2zMvL69dff9UqNjcXd+/GQ4fQ07NT91jl5eUhISHsve3duzer75DL5Q3LRGfOnLlkyRJW1jdy5EgWqFQqExLu2tg8PW/ZsKHx/QdtTpNilZeX9+rVy8HBISEhQfOXUyqViYmJr7zyysKFC2UyWTuXayoUiubLRZoiPx/ZXVL+/viPfyDrXteta9PkWkfDo4ehoWFISEh1dXXDBuqLEtbg3XffnTNnDjsTuHDhgoeHR69erlZWKi8v1PJLpyPNHQrPnTvXfW6c2rcP3d1xy5aOzgMREeVyecOe/tKlS+zcnB3vrl271lRgozJRmUwWFBTEfu3du3dS0s/tkj6iPi0V2UqioxEAQ0M7Og/E06dPszOK7777rrKycuPGjeziVyKRHDx4UJNXuHTp0uuvv86OjKwD+/DDDxv1cLzRn9VmWgmbQevY51rcv38/LCyM3bvs5OR0+fLlJUuWKJVKU1PTwMDATz75xLLpBfsb4u7ufuLEiZSUlB9++EGhUPj7+6sHEduP9rS4M7N3LwLgokUds3U2NNOzZ08AEIvFixcvZjXHADB+/Pgr7GqiS0E91lPMzctffjnHwsISoL2/3CUlJb6+vtnZ2QDg4+Pj7OwcFxdXV1dnY2Mzd+7ckJAQJ92KKjsUEktN8s8/v+PiMgegvZ8f1qtXL5FIJJFI/P39v/322+TkZIFA4O/vb2xsvHv37hs3brCpm64FifWUDqzWEgqFO3fu/Pvf/x4TEwMAbBWn+Pj4hw8fGhsbjxs3TqlUGnS1Z7SQWAAAKpUqJycHOkIsuVz+2WefyWSy2tpaKysrqVR6+vTpTz/9FAC8vLxiY2OdnZ3bOaW2oaNP8joeNn7IrsxHjBih7RCrXC7fvn17cHDw+PHj4+LitApPS0tzcXGxtbW1tbX19fUNDQ1lPVOfPn0OHz6s5X50Lrq1WDUPHwYHB7PP0sHBgQ1CDh8+XPN1f9TlQMxLABg9evSpU6daDCwqKnrnnXdYiLOzc3p6OiImJCSIRKKQkBA9GJfuxmIlJqKDw3wXF5FItGDBgjlz5sDvDycCgClTpjS/5lFZWZm6HIiVURw8eFA9H+zt7X3p0qUXBrLCBLbAECv6UK/7pVKpGk0bd126pVhXrz59IBZAqb//yhUrTE1NAcDS0jI2NjYuLo5NybF1f3KfK2JsOObUsIwiKCho8uTJoaGhTBqhUOjn59eoFCw7O1tdiOHr66vDqipdhe4nlkqF7u4IgHZ2uHYturjsnzgRnl04jq37w5Y9EovFUqn0/v377F/shIyZ0bCMorKykvV2BgYGAQEBwcHBbCUF9VKXjQoTtFplryvSncQ6dQo3bMD16/HIEQwMxLffZp1W/ZgxqampzzfPz89XT+ja2NhERESoT8gkEsnzRR8PHjyQyWRqn6RS6YwZM9ix0tramnVjYrH4o48+qqmpaZcd7ki6jVgKBS5ciIhYVoYrVuCiRQiApqa4eXPzawqqHw/JOhtDQ8PVq1c3Uw50/fr1WbNmMZ/s7OzWrVs3adIkIyMjc3NzT0/PZgoT9IxuI1ZpKf71r09/XrIE793Dd97R/A6Vf//73wBgZGR09epVTdpnZWVNmjQJALZs2YKIbPHfSq2WMOzidJsB0h49ID8f6ushLw969oSXXoJ//UvzaLbWj0AgKCoqOnPmzNSpU/v27dtM+zFjxqSlpSUlJbFVzoyMjB49eqRPN2G3SNd42HjbcOMGHDoE5uYglYKJiVahKpXKwMBAKBROnz79m2++OXLkiOaruwCARCIpLi4uLCyUSCRaJt1V6TY9FgAMGaLbUyEBQCgUikQihUKh283H+rdsRIt0roc0dWZooRutILE0hfVVtJighpBYmtL6Hqu+Ywuf2xcSS1PoUKgVJJamkFhaQWJpCpOjX79+3t7ejo6OLbZnzwQ9evQodEuxus3Ie6th9/q1+AwtxrFjx9gzQfv3719YWMjKaZYuXSpvw4eKdG5ILE3529/+5ujoyB592MwyVA2fCerm5hYWFmZrawsArDJn8ODBhw4dUqlU7Zl5h0Biacq9e/fUS56MHDnyJFtQqwGNnuoWFBSkLrCZPHlyfHy8Onz06NFpzTyjUS8gsbSALXnSv39/5oe3t/fFixfV/2WPygWA2bNnL1y48PkCG1Yh6ODgoA7vineiagiJpTW1tbVRUVHsmVusTJQVgl69enXYsGEbNmzo3bs3ALDq9ecrGhoudSkUCgMCApp/oHoXhcTSkbKyMnVZn1gsDgkJOX/+vPqJbRMmTGi+NyouLg4KCmLj+Obm5pGRke2WeftAYrWKmzdv+vv7s7I+dnpuZ2f35Zdfanh6zpa6FAgEK1eu5J1qO9Odyma48eOPP65Zs8bb27ugoCAyMlJ9q4+GZGZmDhs2jK0mqjeQWAQXaOSd4AKJRXCBxCK4QGIRXCCxCC6QWAQXSCyCCyQWwQUSi+ACiUVwgcQiuEBiEVwgsQgukFgEF0gsggskFsEFEovgAolFcIHEIrhAYhFcILEILpBYBBdILIILJBbBBRKL4AKJRXCBxCK4QGIRXCCxCC6QWAQXSCyCCyQWwQUSi+ACiUVwgcQiuEBiEVwgsQgukFgEF0gsggskFsEFEovgAolFcIHEIrhAYhFcILEILpBYBBdILIILJBbBBRKL4AKJRXCBxCK4QGIRXCCxCC6QWAQXSCyCCyQWwQUSi+DC/wHCoCC0RIHvjgAAAsF6VFh0cmRraXRQS0wgcmRraXQgMjAyMC4wOS4xAAB4nHu/b+09BiDgAWJGBgjQBGJdIG5gZGNIAIkzszMoAGlmCJeJCUajCztogLgsbA4ZIJqZEYkBkWFnAAswAQ2GCHBAaCK0wpyC4INoJgSNbgI7RICZsN1Q5xPjFgxHgQKAhRNMMaJS6IHFDQxfRiYGJmagPgYWVgZWNgY29gwmdo4EDs4MJk4uBS5uBW4eDSZuXgVevgwmPv4EfoEMJgFBBgGhBCFhBWERDWYRUQVRsQwmMfEEcYkMJglJBUkpBSlpDSYpGQYZWQZZOQU5+QwmIQWgaYoJikoZTErKDMoqDMqqDMpqDCzqDOoaDHISCfKiCQq8CUpsCRqMDCKsbIwa6ixAP7NzcCoqsbHx8QsIKfCyiYlLyMmLsklKycjKSYjD0gWD5rkNVgeTbk7YD+I8NlA76MK6ZR+I/UNR8OB76U6wuKTLzwNl/FPB4hJJvw5cWjfLHsR2Srp44HHbPzA7x2X5AdecRRC22rIDgcY5YPU6ghUHBJyKwebUC6od2O6uBxZftnrxfq3jyWDxFcbz9yu9ljgAYjfOVDygfd0LzGa1nmJb+MMNzH6w67btk4rJYDab8Tb7nvpVYLahpK5DR+dEMDtvVYOD/oQVYLbRXS2H7ZLOYPb9OzUO63UFwWy3vOUOPs37wPbK5l1wKAszBbM/d/9yuHl0G5j99KigY/9tVQjbTNDxAmcU2F8Xtqk6/rxzAcy+qK7qeCXdwwHE3rPc0vFucBWY/UxCwFG5tAzM/mr43UG60wXM/uL/w6FN/iRYr2zAeYeXfV5gNrfzWvsMHlGw2+p8NQ7s1FwFFtfqrDmgrcQM1qt5tO5As3QymD2loeFAbtdCMPviabkDTeGpYLZD/PoDLfcTwOzv9kIHC05+A5vzeL/awfiPk8BsMQD51cZMvfFmBgAAAp96VFh0TU9MIHJka2l0IDIwMjAuMDkuMQAAeJydVsuKHDEMvM9X+AfW6GVbPmc3l5AN5JB/yD3/T8rtHm0PJDCroRlKGFeXJbnUt7J+P1+//f5T4ievt1sxLtZKoX8+c87yS4joVsoLc+3dpSxYWbkvDqpYpfKl/I/i+hwsVNX7XCxA7YHl/VmW8jIrDfKthQZLRkt5GXX47FuLTOYsi8vKYSlchbzlTtRrM5XNMv2B5RNaWhUZfGrpPrMsPEXOvCiNHItWH502y2yUrJHUNs03C48sC7IxfGwW9+m5GoHF1Lcq9WnpE0mjnSHuDyw/nmZZO4bYyULJSmMH09DFYrVTsuvQayZqu3NUPHePitRBNraWZk45Fqsk2xlwF/pIudTS0vvRJcgumecqXRR9z7RrjtuYZME5VE7fNc+ywF9414iQ5yzL8rrtmKvmI9l1szLTeae7PbA8fxvLmgHt3OuNcy615lG7O2bXB5bntSwWOWqEmmM2ak4LFJC2s3OYk86AvFDnzeKNkjXCbJTDd8GCWTtzWsDStttyRZpzeUHv2rh705jJaQ8F2rTv2wiXSs5GOIPMcfJJdgagvrZ7V+Avk9IsTmeN4Jg5r4PbErexnQZed3Xvr5/JC7aeN6C5thxLAwvZycLacyzwF6O+azQlN0nWl6oJn73LyXmEZMrxvwIgjQDIIgBqEQD1CIBGBEB+0KwAaMbKLGvO7BWg9Sm7V4A4FACtKygRhAIgbrHSCocCoGWK58ooKyMcQSgAEroHQMLHEVfARUIBkIQCIAkFQBIKgCQUAEnkAEgiBysIBUAaCoA0cgC0vqzlLlT1kioNBUAaCoA0FADpuAZ+DealchYKgOyqQKLA0PKREGj5qMJ6fbzHLr3zvZS399fbX1lmIb4IKvDSAAAB0npUWHRTTUlMRVMgcmRraXQgMjAyMC4wOS4xAAB4nCVSOY7kMBD7ygKbtAFZqEt1oDGRgQl7HuF8XzCPX5YMdOCmKFaR1HXzfd+v6/X1c3xu2d8fva7P6zquS48++j7w+z5uOe6br78Xrvy75bPvXD+4xH9+XzZJKMe5pnj4eMsMMvdx2lyWZOPN00RNm6KSFONNkymkmuOUixsBoJEyTsVhFrCTp5hC85SpWboAyVxiVZvlpfmwIh0b0MysWPnQyloMk4K4+qrODKfVWC0SwR7YiEu4GhMl97UxnPGArGMoAIcRFQNSmVZAYqaYRXMozTcSWcu3UDErbJ8FTxQQZ3wwN40JTnzP08VOLc883XtXnqzs+tBMOKHPFlVbi41cegdEKNtO2coYMsmy/EGQbg7t4FdbQTe8Yqym8BMfPuAXlFR7EkBJui+xum2OS4VilErt+nSp825BMrMrdkfQXQKEDRztSCubg9QM5SFFFeF2ZZldlPcEkOE9KLVb7xwLhTVJojuHT7TPTXKLzA1RrBpod3EwrHeIazfkymEPICLwgAA7+o6U8F6wFrqIrUF4aQASe/bgEGSE/6gIITawCk+NJ5T7afjE+KUYi73wDMfx+x+jNKblwfOp9wAAAABJRU5ErkJggg==\" alt=\"Mol\"/></td>\n",
              "      <td>563.580</td>\n",
              "      <td>4.13922</td>\n",
              "      <td>0</td>\n",
              "    </tr>\n",
              "  </tbody>\n",
              "</table>\n",
              "<p>100 rows × 8 columns</p>\n",
              "</div>"
            ],
            "text/plain": [
              "                                               SMILES      ID  ...     logP charge\n",
              "0   Cc4cc(c1cc(O)ccc1Cl)cc5nnc(Nc3ccc(CCCN2CCCC2)c...  416908  ...  6.13122      0\n",
              "1   CN(CCN1CCCC1)S(=O)(=O)c5ccc(Nc4nnc3cc(c2cc(O)c...  416918  ...  4.81912      0\n",
              "2   CN5CCN(Cc4ccc(NC(=O)c3ccc(C)c(C#Cc1cnc2cccnn12...  649637  ...  4.45602      0\n",
              "3   COc4cc(Nc2c(C#N)cnc3cc(\\C=C\\CCN1CCN(C)CC1)c(OC...  629071  ...  5.82478      0\n",
              "4   COc5cc(Nc3c(C#N)cnc4cc(c2coc(CN1CCN(C)CC1)c2)c...  365326  ...  6.18148      0\n",
              "..                                                ...     ...  ...      ...    ...\n",
              "95  Cc2ccc(C(=O)Nc1cc(C(F)(F)F)ccn1)cc2\\C=C\\n3cnc4...  563166  ...  4.42872      0\n",
              "96  CC(C)COC(=O)Nc5ccc(c4cnc3c(c2ccc(N1CCN(C)CC1)c...  633172  ...  4.60180      0\n",
              "97    CCSc4nc(Nc1cccc(Cl)c1)c3cnn(CC(Cl)c2ccccc2)c3n4  402629  ...  6.31540      0\n",
              "98  Cc5ccc(n1nc(C(C)(C)C)cc1NC(=O)Nc3ccc(OCCN2CCOC...  167995  ...  5.98642      0\n",
              "99  CN5CCN(Cc4ccc(NC(=O)c3ccc(C)c(C#Cc2cnc1NC(=O)C...  649634  ...  4.13922      0\n",
              "\n",
              "[100 rows x 8 columns]"
            ]
          },
          "metadata": {
            "tags": []
          },
          "execution_count": 11
        }
      ]
    },
    {
      "cell_type": "code",
      "metadata": {
        "id": "WuTSx5f7C-s9"
      },
      "source": [
        "#decoy molecules - nonactive molecules from http://dude.docking.org/\n",
        "decoy_molecules = pd.read_csv(\"data/decoys_final.ism\",header=None,sep=\" \")\n",
        "decoy_molecules.columns = [\"SMILES\",\"ID\"]\n",
        "decoy_rows, decoy_cols = decoy_molecules.shape\n",
        "decoy_molecules[\"label\"] = [\"Decoy\"]*decoy_rows\n",
        "PandasTools.AddMoleculeColumnToFrame(decoy_molecules,\"SMILES\",\"Mol\")\n",
        "add_property_columns_in_df(decoy_molecules)"
      ],
      "execution_count": null,
      "outputs": []
    },
    {
      "cell_type": "code",
      "metadata": {
        "colab": {
          "base_uri": "https://localhost:8080/",
          "height": 1000
        },
        "id": "E-n-0QS1FGhK",
        "outputId": "2a9f4adc-deb7-428a-d867-8b5459b11108"
      },
      "source": [
        "decoy_molecules.head()"
      ],
      "execution_count": null,
      "outputs": [
        {
          "output_type": "execute_result",
          "data": {
            "text/html": [
              "<div>\n",
              "<style scoped>\n",
              "    .dataframe tbody tr th:only-of-type {\n",
              "        vertical-align: middle;\n",
              "    }\n",
              "\n",
              "    .dataframe tbody tr th {\n",
              "        vertical-align: top;\n",
              "    }\n",
              "\n",
              "    .dataframe thead th {\n",
              "        text-align: right;\n",
              "    }\n",
              "</style>\n",
              "<table border=\"1\" class=\"dataframe\">\n",
              "  <thead>\n",
              "    <tr style=\"text-align: right;\">\n",
              "      <th></th>\n",
              "      <th>SMILES</th>\n",
              "      <th>ID</th>\n",
              "      <th>label</th>\n",
              "      <th>Mol</th>\n",
              "      <th>mw</th>\n",
              "      <th>logP</th>\n",
              "      <th>charge</th>\n",
              "    </tr>\n",
              "  </thead>\n",
              "  <tbody>\n",
              "    <tr>\n",
              "      <th>0</th>\n",
              "      <td>C[C@@H]1CCCC[C@]12C(=O)N(C(=O)N2)CC(=O)Nc3ccc(...</td>\n",
              "      <td>C02649438</td>\n",
              "      <td>Decoy</td>\n",
              "      <td><img data-content=\"rdkit/molecule\" src=\"data:image/png;base64,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\" alt=\"Mol\"/></td>\n",
              "      <td>358.398</td>\n",
              "      <td>1.22470</td>\n",
              "      <td>0</td>\n",
              "    </tr>\n",
              "    <tr>\n",
              "      <th>1</th>\n",
              "      <td>C=C1[C@H](C(=O)N(N1)c2nc3ccccc3s2)/C=N/C(CO)(C...</td>\n",
              "      <td>C01814196</td>\n",
              "      <td>Decoy</td>\n",
              "      <td><img data-content=\"rdkit/molecule\" src=\"data:image/png;base64,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\" alt=\"Mol\"/></td>\n",
              "      <td>362.411</td>\n",
              "      <td>0.06390</td>\n",
              "      <td>0</td>\n",
              "    </tr>\n",
              "    <tr>\n",
              "      <th>2</th>\n",
              "      <td>CCOC(=O)C1=C(OC(=C([C@@H]1c2ccc(cc2)OCC(=O)N)C...</td>\n",
              "      <td>C00808935</td>\n",
              "      <td>Decoy</td>\n",
              "      <td><img data-content=\"rdkit/molecule\" src=\"data:image/png;base64,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\" alt=\"Mol\"/></td>\n",
              "      <td>357.366</td>\n",
              "      <td>1.19548</td>\n",
              "      <td>0</td>\n",
              "    </tr>\n",
              "    <tr>\n",
              "      <th>3</th>\n",
              "      <td>CCOc1cc(ccc1O)[C@H]2c3c([nH]nc3O)C[C@@]([C@@H]...</td>\n",
              "      <td>C04908604</td>\n",
              "      <td>Decoy</td>\n",
              "      <td><img data-content=\"rdkit/molecule\" src=\"data:image/png;base64,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\" alt=\"Mol\"/></td>\n",
              "      <td>362.382</td>\n",
              "      <td>1.44780</td>\n",
              "      <td>0</td>\n",
              "    </tr>\n",
              "    <tr>\n",
              "      <th>4</th>\n",
              "      <td>CCCCn1c(=O)c(c([nH]c1=S)O)C2=NN[C@@H](C2)c3ccc...</td>\n",
              "      <td>C15834792</td>\n",
              "      <td>Decoy</td>\n",
              "      <td><img data-content=\"rdkit/molecule\" src=\"data:image/png;base64,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\" alt=\"Mol\"/></td>\n",
              "      <td>390.465</td>\n",
              "      <td>2.56449</td>\n",
              "      <td>0</td>\n",
              "    </tr>\n",
              "  </tbody>\n",
              "</table>\n",
              "</div>"
            ],
            "text/plain": [
              "                                              SMILES  ... charge\n",
              "0  C[C@@H]1CCCC[C@]12C(=O)N(C(=O)N2)CC(=O)Nc3ccc(...  ...      0\n",
              "1  C=C1[C@H](C(=O)N(N1)c2nc3ccccc3s2)/C=N/C(CO)(C...  ...      0\n",
              "2  CCOC(=O)C1=C(OC(=C([C@@H]1c2ccc(cc2)OCC(=O)N)C...  ...      0\n",
              "3  CCOc1cc(ccc1O)[C@H]2c3c([nH]nc3O)C[C@@]([C@@H]...  ...      0\n",
              "4  CCCCn1c(=O)c(c([nH]c1=S)O)C2=NN[C@@H](C2)c3ccc...  ...      0\n",
              "\n",
              "[5 rows x 7 columns]"
            ]
          },
          "metadata": {
            "tags": []
          },
          "execution_count": 13
        }
      ]
    },
    {
      "cell_type": "code",
      "metadata": {
        "colab": {
          "base_uri": "https://localhost:8080/",
          "height": 1000
        },
        "id": "TtpCbzyhORY0",
        "outputId": "9f5c4ab2-4723-4b61-b6e0-ad4fedf2d43d"
      },
      "source": [
        "decoy_molecules.head()"
      ],
      "execution_count": null,
      "outputs": [
        {
          "output_type": "execute_result",
          "data": {
            "text/html": [
              "<div>\n",
              "<style scoped>\n",
              "    .dataframe tbody tr th:only-of-type {\n",
              "        vertical-align: middle;\n",
              "    }\n",
              "\n",
              "    .dataframe tbody tr th {\n",
              "        vertical-align: top;\n",
              "    }\n",
              "\n",
              "    .dataframe thead th {\n",
              "        text-align: right;\n",
              "    }\n",
              "</style>\n",
              "<table border=\"1\" class=\"dataframe\">\n",
              "  <thead>\n",
              "    <tr style=\"text-align: right;\">\n",
              "      <th></th>\n",
              "      <th>SMILES</th>\n",
              "      <th>ID</th>\n",
              "      <th>label</th>\n",
              "      <th>Mol</th>\n",
              "      <th>mw</th>\n",
              "      <th>logP</th>\n",
              "      <th>charge</th>\n",
              "    </tr>\n",
              "  </thead>\n",
              "  <tbody>\n",
              "    <tr>\n",
              "      <th>0</th>\n",
              "      <td>C[C@@H]1CCCC[C@]12C(=O)N(C(=O)N2)CC(=O)Nc3ccc(...</td>\n",
              "      <td>C02649438</td>\n",
              "      <td>Decoy</td>\n",
              "      <td><img data-content=\"rdkit/molecule\" src=\"data:image/png;base64,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\" alt=\"Mol\"/></td>\n",
              "      <td>358.398</td>\n",
              "      <td>1.22470</td>\n",
              "      <td>0</td>\n",
              "    </tr>\n",
              "    <tr>\n",
              "      <th>1</th>\n",
              "      <td>C=C1[C@H](C(=O)N(N1)c2nc3ccccc3s2)/C=N/C(CO)(C...</td>\n",
              "      <td>C01814196</td>\n",
              "      <td>Decoy</td>\n",
              "      <td><img data-content=\"rdkit/molecule\" src=\"data:image/png;base64,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\" alt=\"Mol\"/></td>\n",
              "      <td>362.411</td>\n",
              "      <td>0.06390</td>\n",
              "      <td>0</td>\n",
              "    </tr>\n",
              "    <tr>\n",
              "      <th>2</th>\n",
              "      <td>CCOC(=O)C1=C(OC(=C([C@@H]1c2ccc(cc2)OCC(=O)N)C...</td>\n",
              "      <td>C00808935</td>\n",
              "      <td>Decoy</td>\n",
              "      <td><img data-content=\"rdkit/molecule\" src=\"data:image/png;base64,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\" alt=\"Mol\"/></td>\n",
              "      <td>357.366</td>\n",
              "      <td>1.19548</td>\n",
              "      <td>0</td>\n",
              "    </tr>\n",
              "    <tr>\n",
              "      <th>3</th>\n",
              "      <td>CCOc1cc(ccc1O)[C@H]2c3c([nH]nc3O)C[C@@]([C@@H]...</td>\n",
              "      <td>C04908604</td>\n",
              "      <td>Decoy</td>\n",
              "      <td><img data-content=\"rdkit/molecule\" src=\"data:image/png;base64,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\" alt=\"Mol\"/></td>\n",
              "      <td>362.382</td>\n",
              "      <td>1.44780</td>\n",
              "      <td>0</td>\n",
              "    </tr>\n",
              "    <tr>\n",
              "      <th>4</th>\n",
              "      <td>CCCCn1c(=O)c(c([nH]c1=S)O)C2=NN[C@@H](C2)c3ccc...</td>\n",
              "      <td>C15834792</td>\n",
              "      <td>Decoy</td>\n",
              "      <td><img data-content=\"rdkit/molecule\" src=\"data:image/png;base64,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\" alt=\"Mol\"/></td>\n",
              "      <td>390.465</td>\n",
              "      <td>2.56449</td>\n",
              "      <td>0</td>\n",
              "    </tr>\n",
              "  </tbody>\n",
              "</table>\n",
              "</div>"
            ],
            "text/plain": [
              "                                              SMILES  ... charge\n",
              "0  C[C@@H]1CCCC[C@]12C(=O)N(C(=O)N2)CC(=O)Nc3ccc(...  ...      0\n",
              "1  C=C1[C@H](C(=O)N(N1)c2nc3ccccc3s2)/C=N/C(CO)(C...  ...      0\n",
              "2  CCOC(=O)C1=C(OC(=C([C@@H]1c2ccc(cc2)OCC(=O)N)C...  ...      0\n",
              "3  CCOc1cc(ccc1O)[C@H]2c3c([nH]nc3O)C[C@@]([C@@H]...  ...      0\n",
              "4  CCCCn1c(=O)c(c([nH]c1=S)O)C2=NN[C@@H](C2)c3ccc...  ...      0\n",
              "\n",
              "[5 rows x 7 columns]"
            ]
          },
          "metadata": {
            "tags": []
          },
          "execution_count": 14
        }
      ]
    },
    {
      "cell_type": "markdown",
      "metadata": {
        "id": "I_j8PUNV-FWz"
      },
      "source": [
        ""
      ]
    },
    {
      "cell_type": "markdown",
      "metadata": {
        "id": "OYo2HVbBGtCE"
      },
      "source": [
        "**Comparing active molecules data with decoy molecules in molecular weight.**"
      ]
    },
    {
      "cell_type": "code",
      "metadata": {
        "id": "lmHKDaPLORea"
      },
      "source": [
        "new_dataframe = active_molecules.append(decoy_molecules)"
      ],
      "execution_count": null,
      "outputs": []
    },
    {
      "cell_type": "markdown",
      "metadata": {
        "id": "XV2714XZ-ZfJ"
      },
      "source": [
        "**Comparing active molecules data with decoy molecules in molecular weight.**\n",
        "\n"
      ]
    },
    {
      "cell_type": "code",
      "metadata": {
        "id": "gCAAxjdcFzoa"
      },
      "source": [
        "# tmp_df = active_molecules.append(decoy_molecules)"
      ],
      "execution_count": null,
      "outputs": []
    },
    {
      "cell_type": "code",
      "metadata": {
        "id": "r3fUbhOcF3Wg"
      },
      "source": [
        ""
      ],
      "execution_count": null,
      "outputs": []
    },
    {
      "cell_type": "code",
      "metadata": {
        "id": "FuZi6M0IF1lf"
      },
      "source": [
        "# tmp_df.head()"
      ],
      "execution_count": null,
      "outputs": []
    },
    {
      "cell_type": "code",
      "metadata": {
        "colab": {
          "base_uri": "https://localhost:8080/",
          "height": 1000
        },
        "id": "2oZaFFf4ORo3",
        "outputId": "e4bf5931-b2d9-4254-d4dc-26fab2a8f253"
      },
      "source": [
        "new_dataframe.head()"
      ],
      "execution_count": null,
      "outputs": [
        {
          "output_type": "execute_result",
          "data": {
            "text/html": [
              "<div>\n",
              "<style scoped>\n",
              "    .dataframe tbody tr th:only-of-type {\n",
              "        vertical-align: middle;\n",
              "    }\n",
              "\n",
              "    .dataframe tbody tr th {\n",
              "        vertical-align: top;\n",
              "    }\n",
              "\n",
              "    .dataframe thead th {\n",
              "        text-align: right;\n",
              "    }\n",
              "</style>\n",
              "<table border=\"1\" class=\"dataframe\">\n",
              "  <thead>\n",
              "    <tr style=\"text-align: right;\">\n",
              "      <th></th>\n",
              "      <th>SMILES</th>\n",
              "      <th>ID</th>\n",
              "      <th>ChEMBL_ID</th>\n",
              "      <th>label</th>\n",
              "      <th>Mol</th>\n",
              "      <th>mw</th>\n",
              "      <th>logP</th>\n",
              "      <th>charge</th>\n",
              "    </tr>\n",
              "  </thead>\n",
              "  <tbody>\n",
              "    <tr>\n",
              "      <th>0</th>\n",
              "      <td>Cc4cc(c1cc(O)ccc1Cl)cc5nnc(Nc3ccc(CCCN2CCCC2)c...</td>\n",
              "      <td>416908</td>\n",
              "      <td>CHEMBL250213</td>\n",
              "      <td>Active</td>\n",
              "      <td><img data-content=\"rdkit/molecule\" src=\"data:image/png;base64,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\" alt=\"Mol\"/></td>\n",
              "      <td>474.008</td>\n",
              "      <td>6.13122</td>\n",
              "      <td>0</td>\n",
              "    </tr>\n",
              "    <tr>\n",
              "      <th>1</th>\n",
              "      <td>CN(CCN1CCCC1)S(=O)(=O)c5ccc(Nc4nnc3cc(c2cc(O)c...</td>\n",
              "      <td>416918</td>\n",
              "      <td>CHEMBL250019</td>\n",
              "      <td>Active</td>\n",
              "      <td><img data-content=\"rdkit/molecule\" src=\"data:image/png;base64,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\" alt=\"Mol\"/></td>\n",
              "      <td>553.088</td>\n",
              "      <td>4.81912</td>\n",
              "      <td>0</td>\n",
              "    </tr>\n",
              "    <tr>\n",
              "      <th>2</th>\n",
              "      <td>CN5CCN(Cc4ccc(NC(=O)c3ccc(C)c(C#Cc1cnc2cccnn12...</td>\n",
              "      <td>649637</td>\n",
              "      <td>CHEMBL1171837</td>\n",
              "      <td>Active</td>\n",
              "      <td><img data-content=\"rdkit/molecule\" src=\"data:image/png;base64,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\" alt=\"Mol\"/></td>\n",
              "      <td>532.570</td>\n",
              "      <td>4.45602</td>\n",
              "      <td>0</td>\n",
              "    </tr>\n",
              "    <tr>\n",
              "      <th>3</th>\n",
              "      <td>COc4cc(Nc2c(C#N)cnc3cc(\\C=C\\CCN1CCN(C)CC1)c(OC...</td>\n",
              "      <td>629071</td>\n",
              "      <td>CHEMBL1088240</td>\n",
              "      <td>Active</td>\n",
              "      <td><img data-content=\"rdkit/molecule\" src=\"data:image/png;base64,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\" alt=\"Mol\"/></td>\n",
              "      <td>526.468</td>\n",
              "      <td>5.82478</td>\n",
              "      <td>0</td>\n",
              "    </tr>\n",
              "    <tr>\n",
              "      <th>4</th>\n",
              "      <td>COc5cc(Nc3c(C#N)cnc4cc(c2coc(CN1CCN(C)CC1)c2)c...</td>\n",
              "      <td>365326</td>\n",
              "      <td>CHEMBL219557</td>\n",
              "      <td>Active</td>\n",
              "      <td><img data-content=\"rdkit/molecule\" src=\"data:image/png;base64,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\" alt=\"Mol\"/></td>\n",
              "      <td>552.462</td>\n",
              "      <td>6.18148</td>\n",
              "      <td>0</td>\n",
              "    </tr>\n",
              "  </tbody>\n",
              "</table>\n",
              "</div>"
            ],
            "text/plain": [
              "                                              SMILES      ID  ...     logP charge\n",
              "0  Cc4cc(c1cc(O)ccc1Cl)cc5nnc(Nc3ccc(CCCN2CCCC2)c...  416908  ...  6.13122      0\n",
              "1  CN(CCN1CCCC1)S(=O)(=O)c5ccc(Nc4nnc3cc(c2cc(O)c...  416918  ...  4.81912      0\n",
              "2  CN5CCN(Cc4ccc(NC(=O)c3ccc(C)c(C#Cc1cnc2cccnn12...  649637  ...  4.45602      0\n",
              "3  COc4cc(Nc2c(C#N)cnc3cc(\\C=C\\CCN1CCN(C)CC1)c(OC...  629071  ...  5.82478      0\n",
              "4  COc5cc(Nc3c(C#N)cnc4cc(c2coc(CN1CCN(C)CC1)c2)c...  365326  ...  6.18148      0\n",
              "\n",
              "[5 rows x 8 columns]"
            ]
          },
          "metadata": {
            "tags": []
          },
          "execution_count": 18
        }
      ]
    },
    {
      "cell_type": "markdown",
      "metadata": {
        "id": "K9_jmO6aDcVl"
      },
      "source": [
        "**Comparing active molecules data with decoy molecules in molecular weight.**\n"
      ]
    },
    {
      "cell_type": "code",
      "metadata": {
        "colab": {
          "base_uri": "https://localhost:8080/",
          "height": 296
        },
        "id": "-pAKLKgJDiJs",
        "outputId": "4f2dd57b-b4ad-4987-ccc8-2736e08f717d"
      },
      "source": [
        "sns.violinplot(new_dataframe[\"label\"],new_dataframe[\"mw\"])"
      ],
      "execution_count": null,
      "outputs": [
        {
          "output_type": "execute_result",
          "data": {
            "text/plain": [
              "<matplotlib.axes._subplots.AxesSubplot at 0x7fb6f32afc18>"
            ]
          },
          "metadata": {
            "tags": []
          },
          "execution_count": 19
        },
        {
          "output_type": "display_data",
          "data": {
            "image/png": "[encoded data removed]",
            "text/plain": [
              "<Figure size 432x288 with 1 Axes>"
            ]
          },
          "metadata": {
            "tags": [],
            "needs_background": "light"
          }
        }
      ]
    },
    {
      "cell_type": "code",
      "metadata": {
        "colab": {
          "base_uri": "https://localhost:8080/",
          "height": 296
        },
        "id": "F98Xil0RUkEs",
        "outputId": "80b06412-900f-4132-afbc-94c1b37c64a0"
      },
      "source": [
        "sns.boxplot(new_dataframe[\"label\"],new_dataframe[\"mw\"])"
      ],
      "execution_count": null,
      "outputs": [
        {
          "output_type": "execute_result",
          "data": {
            "text/plain": [
              "<matplotlib.axes._subplots.AxesSubplot at 0x7fb6eee7f390>"
            ]
          },
          "metadata": {
            "tags": []
          },
          "execution_count": 20
        },
        {
          "output_type": "display_data",
          "data": {
            "image/png": "[encoded data removed]",
            "text/plain": [
              "<Figure size 432x288 with 1 Axes>"
            ]
          },
          "metadata": {
            "tags": [],
            "needs_background": "light"
          }
        }
      ]
    },
    {
      "cell_type": "markdown",
      "metadata": {
        "id": "fOev3yfyZsua"
      },
      "source": [
        "**Comparing active molecules data with decoy molecules in logP.**\n"
      ]
    },
    {
      "cell_type": "code",
      "metadata": {
        "colab": {
          "base_uri": "https://localhost:8080/",
          "height": 296
        },
        "id": "V0Mtk_RhbYHV",
        "outputId": "a6c574c9-330e-4345-b35c-f6d39d84ee29"
      },
      "source": [
        "sns.violinplot(new_dataframe[\"label\"],new_dataframe[\"logP\"])\n",
        "# sns.boxplot(new_dataframe[\"label\"],new_dataframe[\"logP\"])"
      ],
      "execution_count": null,
      "outputs": [
        {
          "output_type": "execute_result",
          "data": {
            "text/plain": [
              "<matplotlib.axes._subplots.AxesSubplot at 0x7fb6ee9bcba8>"
            ]
          },
          "metadata": {
            "tags": []
          },
          "execution_count": 21
        },
        {
          "output_type": "display_data",
          "data": {
            "image/png": "[encoded data removed]",
            "text/plain": [
              "<Figure size 432x288 with 1 Axes>"
            ]
          },
          "metadata": {
            "tags": [],
            "needs_background": "light"
          }
        }
      ]
    },
    {
      "cell_type": "code",
      "metadata": {
        "colab": {
          "base_uri": "https://localhost:8080/",
          "height": 296
        },
        "id": "6UaK8lBTUun5",
        "outputId": "ab3061fe-0c1b-4079-e169-c6cefa69beff"
      },
      "source": [
        "sns.boxplot(new_dataframe[\"label\"],new_dataframe[\"logP\"])"
      ],
      "execution_count": null,
      "outputs": [
        {
          "output_type": "execute_result",
          "data": {
            "text/plain": [
              "<matplotlib.axes._subplots.AxesSubplot at 0x7fb6ee934358>"
            ]
          },
          "metadata": {
            "tags": []
          },
          "execution_count": 22
        },
        {
          "output_type": "display_data",
          "data": {
            "image/png": "[encoded data removed]",
            "text/plain": [
              "<Figure size 432x288 with 1 Axes>"
            ]
          },
          "metadata": {
            "tags": [],
            "needs_background": "light"
          }
        }
      ]
    },
    {
      "cell_type": "markdown",
      "metadata": {
        "id": "6htpfmkLbi3Z"
      },
      "source": [
        "The decoy set has more low molecular weight molecules, but the center of the distribution, shown as a box in the middle of each violin plot, is in a similar location in both plots."
      ]
    },
    {
      "cell_type": "markdown",
      "metadata": {
        "id": "n9owW1NfdP87"
      },
      "source": [
        "**Comparing active molecules data with decoy molecules in Charges.**"
      ]
    },
    {
      "cell_type": "code",
      "metadata": {
        "colab": {
          "base_uri": "https://localhost:8080/",
          "height": 296
        },
        "id": "GzBY7-JZbYwC",
        "outputId": "9f3a1f17-f5a6-4e24-bbfd-372d69daee84"
      },
      "source": [
        "sns.violinplot(new_dataframe[\"label\"],new_dataframe[\"charge\"])"
      ],
      "execution_count": null,
      "outputs": [
        {
          "output_type": "execute_result",
          "data": {
            "text/plain": [
              "<matplotlib.axes._subplots.AxesSubplot at 0x7fb6ee91e0b8>"
            ]
          },
          "metadata": {
            "tags": []
          },
          "execution_count": 23
        },
        {
          "output_type": "display_data",
          "data": {
            "image/png": "[encoded data removed]",
            "text/plain": [
              "<Figure size 432x288 with 1 Axes>"
            ]
          },
          "metadata": {
            "tags": [],
            "needs_background": "light"
          }
        }
      ]
    },
    {
      "cell_type": "code",
      "metadata": {
        "colab": {
          "base_uri": "https://localhost:8080/",
          "height": 296
        },
        "id": "V1TXeBYsbY2g",
        "outputId": "27bd84ff-1b0d-4cd8-cf5a-1f0d572721da"
      },
      "source": [
        "sns.boxplot(new_dataframe[\"label\"],new_dataframe[\"charge\"])"
      ],
      "execution_count": null,
      "outputs": [
        {
          "output_type": "execute_result",
          "data": {
            "text/plain": [
              "<matplotlib.axes._subplots.AxesSubplot at 0x7fb6ee8816d8>"
            ]
          },
          "metadata": {
            "tags": []
          },
          "execution_count": 24
        },
        {
          "output_type": "display_data",
          "data": {
            "image/png": "[encoded data removed]",
            "text/plain": [
              "<Figure size 432x288 with 1 Axes>"
            ]
          },
          "metadata": {
            "tags": [],
            "needs_background": "light"
          }
        }
      ]
    },
    {
      "cell_type": "code",
      "metadata": {
        "id": "_LBSWsL_bY5K"
      },
      "source": [
        "charged = decoy_molecules[decoy_molecules[\"charge\"] != 0] # just removed netural charge molecule"
      ],
      "execution_count": null,
      "outputs": []
    },
    {
      "cell_type": "markdown",
      "metadata": {
        "id": "GE9U6e7YkMHK"
      },
      "source": [
        "**How much % of decoy molecule have charge**"
      ]
    },
    {
      "cell_type": "code",
      "metadata": {
        "colab": {
          "base_uri": "https://localhost:8080/"
        },
        "id": "aiteh7R4bY72",
        "outputId": "6acd8e1c-40d7-4eb9-ee63-bd08885b01fe"
      },
      "source": [
        "charged.shape[0]/decoy_molecules.shape[0]"
      ],
      "execution_count": null,
      "outputs": [
        {
          "output_type": "execute_result",
          "data": {
            "text/plain": [
              "0.4908837209302326"
            ]
          },
          "metadata": {
            "tags": []
          },
          "execution_count": 26
        }
      ]
    },
    {
      "cell_type": "code",
      "metadata": {
        "id": "WjkWPIuFbY-s"
      },
      "source": [
        "new_decoy_molecules = decoy_molecules[[\"SMILES\",\"ID\",\"label\"]].copy()"
      ],
      "execution_count": null,
      "outputs": []
    },
    {
      "cell_type": "code",
      "metadata": {
        "id": "XEeM0WQlbZBq"
      },
      "source": [
        "from rdkit import Chem\n",
        "from rdkit.Chem import AllChem\n",
        "from neutralization import MolNeutraliseCharges"
      ],
      "execution_count": null,
      "outputs": []
    },
    {
      "cell_type": "markdown",
      "metadata": {
        "id": "6tKX1xLUlkUi"
      },
      "source": [
        "# **Normalize decoy molecules**\n"
      ]
    },
    {
      "cell_type": "code",
      "metadata": {
        "id": "A1Ly1RV0bZE9"
      },
      "source": [
        "new_decoy_molecules[\"SMILES\"] = [MolNeutraliseCharges(x)[0] for x in new_decoy_molecules[\"SMILES\"]]"
      ],
      "execution_count": null,
      "outputs": []
    },
    {
      "cell_type": "code",
      "metadata": {
        "colab": {
          "base_uri": "https://localhost:8080/",
          "height": 204
        },
        "id": "gJejnd33ld_a",
        "outputId": "0bddf056-dada-4fbb-d04f-01af3b5ebb1a"
      },
      "source": [
        "# active molecule means : 1\n",
        "active_molecules[\"is_active\"] = [1] * active_molecules.shape[0]\n",
        "# decoy molecule means : 0\n",
        "new_decoy_molecules[\"is_active\"] = [0] * new_decoy_molecules.shape[0]\n",
        "combined_df = active_molecules.append(new_decoy_molecules)[[\"SMILES\",\"ID\",\"is_active\"]]\n",
        "combined_df.head()"
      ],
      "execution_count": null,
      "outputs": [
        {
          "output_type": "execute_result",
          "data": {
            "text/html": [
              "<div>\n",
              "<style scoped>\n",
              "    .dataframe tbody tr th:only-of-type {\n",
              "        vertical-align: middle;\n",
              "    }\n",
              "\n",
              "    .dataframe tbody tr th {\n",
              "        vertical-align: top;\n",
              "    }\n",
              "\n",
              "    .dataframe thead th {\n",
              "        text-align: right;\n",
              "    }\n",
              "</style>\n",
              "<table border=\"1\" class=\"dataframe\">\n",
              "  <thead>\n",
              "    <tr style=\"text-align: right;\">\n",
              "      <th></th>\n",
              "      <th>SMILES</th>\n",
              "      <th>ID</th>\n",
              "      <th>is_active</th>\n",
              "    </tr>\n",
              "  </thead>\n",
              "  <tbody>\n",
              "    <tr>\n",
              "      <th>0</th>\n",
              "      <td>Cc4cc(c1cc(O)ccc1Cl)cc5nnc(Nc3ccc(CCCN2CCCC2)c...</td>\n",
              "      <td>416908</td>\n",
              "      <td>1</td>\n",
              "    </tr>\n",
              "    <tr>\n",
              "      <th>1</th>\n",
              "      <td>CN(CCN1CCCC1)S(=O)(=O)c5ccc(Nc4nnc3cc(c2cc(O)c...</td>\n",
              "      <td>416918</td>\n",
              "      <td>1</td>\n",
              "    </tr>\n",
              "    <tr>\n",
              "      <th>2</th>\n",
              "      <td>CN5CCN(Cc4ccc(NC(=O)c3ccc(C)c(C#Cc1cnc2cccnn12...</td>\n",
              "      <td>649637</td>\n",
              "      <td>1</td>\n",
              "    </tr>\n",
              "    <tr>\n",
              "      <th>3</th>\n",
              "      <td>COc4cc(Nc2c(C#N)cnc3cc(\\C=C\\CCN1CCN(C)CC1)c(OC...</td>\n",
              "      <td>629071</td>\n",
              "      <td>1</td>\n",
              "    </tr>\n",
              "    <tr>\n",
              "      <th>4</th>\n",
              "      <td>COc5cc(Nc3c(C#N)cnc4cc(c2coc(CN1CCN(C)CC1)c2)c...</td>\n",
              "      <td>365326</td>\n",
              "      <td>1</td>\n",
              "    </tr>\n",
              "  </tbody>\n",
              "</table>\n",
              "</div>"
            ],
            "text/plain": [
              "                                              SMILES      ID  is_active\n",
              "0  Cc4cc(c1cc(O)ccc1Cl)cc5nnc(Nc3ccc(CCCN2CCCC2)c...  416908          1\n",
              "1  CN(CCN1CCCC1)S(=O)(=O)c5ccc(Nc4nnc3cc(c2cc(O)c...  416918          1\n",
              "2  CN5CCN(Cc4ccc(NC(=O)c3ccc(C)c(C#Cc1cnc2cccnn12...  649637          1\n",
              "3  COc4cc(Nc2c(C#N)cnc3cc(\\C=C\\CCN1CCN(C)CC1)c(OC...  629071          1\n",
              "4  COc5cc(Nc3c(C#N)cnc4cc(c2coc(CN1CCN(C)CC1)c2)c...  365326          1"
            ]
          },
          "metadata": {
            "tags": []
          },
          "execution_count": 30
        }
      ]
    },
    {
      "cell_type": "code",
      "metadata": {
        "id": "7gKESPDGlgzv"
      },
      "source": [
        "combined_df.to_csv(\"data/combined_dataset.csv\")"
      ],
      "execution_count": null,
      "outputs": []
    },
    {
      "cell_type": "code",
      "metadata": {
        "id": "GFx1I6zWleRw"
      },
      "source": [
        "import deepchem as dch # DeepChem libraries\n",
        "from deepchem.models import GraphConvModel # Graph convolutions\n",
        "import numpy as np # NumPy for numeric operations\n",
        "import sys # Error handling\n",
        "import pandas as pd # Data table manipulation\n",
        "import seaborn as sns # Seaborn library for plotting\n",
        "from rdkit.Chem import PandasTools # Chemical structures in Pandas"
      ],
      "execution_count": null,
      "outputs": []
    },
    {
      "cell_type": "markdown",
      "metadata": {
        "id": "ScHjRw-FmV3x"
      },
      "source": [
        "# **Create Graph convolution neural network**"
      ]
    },
    {
      "cell_type": "code",
      "metadata": {
        "id": "7cY4ZZnymSNs"
      },
      "source": [
        "def generate_graph_convmodel():\n",
        "  batch_size = 128\n",
        "  model = GraphConvModel(1, batch_size=batch_size,\n",
        "  mode='classification',\n",
        "  model_dir=\"data/model_dir\"\n",
        "  #model_dir=\"\"\n",
        "  )\n",
        "  return model"
      ],
      "execution_count": null,
      "outputs": []
    },
    {
      "cell_type": "code",
      "metadata": {
        "colab": {
          "base_uri": "https://localhost:8080/"
        },
        "id": "jFWLZvQrmgu2",
        "outputId": "2fb52275-c3f9-4b0b-99cc-bcd1080cfcba"
      },
      "source": [
        "dataset_file = \"data/combined_dataset.csv\"\n",
        "tasks = [\"is_active\"]\n",
        "featurizer = dch.feat.ConvMolFeaturizer()\n",
        "loader = dch.data.CSVLoader(tasks=tasks, smiles_field=\"SMILES\", featurizer=featurizer)\n",
        "dataset = loader.featurize(dataset_file, shard_size=8192)"
      ],
      "execution_count": null,
      "outputs": [
        {
          "output_type": "stream",
          "text": [
            "smiles_field is deprecated and will be removed in a future version of DeepChem.Use feature_field instead.\n"
          ],
          "name": "stderr"
        }
      ]
    },
    {
      "cell_type": "code",
      "metadata": {
        "id": "nN2K_dXEm46R"
      },
      "source": [
        "splitter = dch.splits.RandomSplitter()"
      ],
      "execution_count": null,
      "outputs": []
    },
    {
      "cell_type": "code",
      "metadata": {
        "id": "GCilfb5tnBpp"
      },
      "source": [
        "metrics = [dch.metrics.Metric(dch.metrics.matthews_corrcoef)]"
      ],
      "execution_count": null,
      "outputs": []
    },
    {
      "cell_type": "code",
      "metadata": {
        "id": "A-rcsmtJnBuL"
      },
      "source": [
        "data=pd.read_csv('data/combined_dataset.csv')"
      ],
      "execution_count": null,
      "outputs": []
    },
    {
      "cell_type": "code",
      "metadata": {
        "colab": {
          "base_uri": "https://localhost:8080/",
          "height": 204
        },
        "id": "Yfe9l4WRnBzh",
        "outputId": "7156af21-1928-42ec-bc0e-dac05342c75e"
      },
      "source": [
        "data.head()"
      ],
      "execution_count": null,
      "outputs": [
        {
          "output_type": "execute_result",
          "data": {
            "text/html": [
              "<div>\n",
              "<style scoped>\n",
              "    .dataframe tbody tr th:only-of-type {\n",
              "        vertical-align: middle;\n",
              "    }\n",
              "\n",
              "    .dataframe tbody tr th {\n",
              "        vertical-align: top;\n",
              "    }\n",
              "\n",
              "    .dataframe thead th {\n",
              "        text-align: right;\n",
              "    }\n",
              "</style>\n",
              "<table border=\"1\" class=\"dataframe\">\n",
              "  <thead>\n",
              "    <tr style=\"text-align: right;\">\n",
              "      <th></th>\n",
              "      <th>Unnamed: 0</th>\n",
              "      <th>SMILES</th>\n",
              "      <th>ID</th>\n",
              "      <th>is_active</th>\n",
              "    </tr>\n",
              "  </thead>\n",
              "  <tbody>\n",
              "    <tr>\n",
              "      <th>0</th>\n",
              "      <td>0</td>\n",
              "      <td>Cc4cc(c1cc(O)ccc1Cl)cc5nnc(Nc3ccc(CCCN2CCCC2)c...</td>\n",
              "      <td>416908</td>\n",
              "      <td>1</td>\n",
              "    </tr>\n",
              "    <tr>\n",
              "      <th>1</th>\n",
              "      <td>1</td>\n",
              "      <td>CN(CCN1CCCC1)S(=O)(=O)c5ccc(Nc4nnc3cc(c2cc(O)c...</td>\n",
              "      <td>416918</td>\n",
              "      <td>1</td>\n",
              "    </tr>\n",
              "    <tr>\n",
              "      <th>2</th>\n",
              "      <td>2</td>\n",
              "      <td>CN5CCN(Cc4ccc(NC(=O)c3ccc(C)c(C#Cc1cnc2cccnn12...</td>\n",
              "      <td>649637</td>\n",
              "      <td>1</td>\n",
              "    </tr>\n",
              "    <tr>\n",
              "      <th>3</th>\n",
              "      <td>3</td>\n",
              "      <td>COc4cc(Nc2c(C#N)cnc3cc(\\C=C\\CCN1CCN(C)CC1)c(OC...</td>\n",
              "      <td>629071</td>\n",
              "      <td>1</td>\n",
              "    </tr>\n",
              "    <tr>\n",
              "      <th>4</th>\n",
              "      <td>4</td>\n",
              "      <td>COc5cc(Nc3c(C#N)cnc4cc(c2coc(CN1CCN(C)CC1)c2)c...</td>\n",
              "      <td>365326</td>\n",
              "      <td>1</td>\n",
              "    </tr>\n",
              "  </tbody>\n",
              "</table>\n",
              "</div>"
            ],
            "text/plain": [
              "   Unnamed: 0  ... is_active\n",
              "0           0  ...         1\n",
              "1           1  ...         1\n",
              "2           2  ...         1\n",
              "3           3  ...         1\n",
              "4           4  ...         1\n",
              "\n",
              "[5 rows x 4 columns]"
            ]
          },
          "metadata": {
            "tags": []
          },
          "execution_count": 38
        }
      ]
    },
    {
      "cell_type": "code",
      "metadata": {
        "colab": {
          "base_uri": "https://localhost:8080/"
        },
        "id": "h6ISiX3XnB3s",
        "outputId": "eb859675-d884-4e79-fb78-002471349526"
      },
      "source": [
        "data['is_active'].unique()"
      ],
      "execution_count": null,
      "outputs": [
        {
          "output_type": "execute_result",
          "data": {
            "text/plain": [
              "array([1, 0])"
            ]
          },
          "metadata": {
            "tags": []
          },
          "execution_count": 39
        }
      ]
    },
    {
      "cell_type": "code",
      "metadata": {
        "colab": {
          "base_uri": "https://localhost:8080/"
        },
        "id": "t8ZQwZwv-0nM",
        "outputId": "839c2a16-d4cc-4d0c-e1d6-50ce823d2763"
      },
      "source": [
        "data['is_active'].value_counts()"
      ],
      "execution_count": null,
      "outputs": [
        {
          "output_type": "execute_result",
          "data": {
            "text/plain": [
              "0    10750\n",
              "1      182\n",
              "Name: is_active, dtype: int64"
            ]
          },
          "metadata": {
            "tags": []
          },
          "execution_count": 40
        }
      ]
    },
    {
      "cell_type": "markdown",
      "metadata": {
        "id": "k93wHNsA9gA0"
      },
      "source": [
        "# **Cross validation = 3**"
      ]
    },
    {
      "cell_type": "code",
      "metadata": {
        "id": "WogN78A19lmV"
      },
      "source": [
        ""
      ],
      "execution_count": null,
      "outputs": []
    },
    {
      "cell_type": "code",
      "metadata": {
        "colab": {
          "base_uri": "https://localhost:8080/"
        },
        "id": "O-fdyMgCnXHW",
        "outputId": "6bb6e403-d1a1-4958-8ffd-6d4aa4699d37"
      },
      "source": [
        "training_score_list = []\n",
        "validation_score_list = []\n",
        "transformers = []\n",
        "model_list=[]\n",
        "cv_folds = 3\n",
        "score=0\n",
        "model_final=0\n",
        "for i in range(0,cv_folds):\n",
        "    \n",
        "    model = generate_graph_convmodel()\n",
        "    train_dataset, valid_dataset, test_dataset = splitter.train_valid_test_split(dataset)\n",
        "    model.fit(train_dataset)\n",
        "    model_list.append(model)\n",
        "    train_scores = model.evaluate(train_dataset, metrics, transformers)\n",
        "    # matthews_corrcoef correlation coefficient\n",
        "    training_score_list.append(train_scores[\"matthews_corrcoef\"])\n",
        "    validation_scores = model.evaluate(valid_dataset, metrics, transformers)\n",
        "    validation_score_list.append(validation_scores[\"matthews_corrcoef\"])\n",
        "    if(score < validation_scores[\"matthews_corrcoef\"]):\n",
        "      model_final=model\n",
        "      score=validation_scores[\"matthews_corrcoef\"]\n",
        "      print(score)\n",
        "print(training_score_list)\n",
        "print(validation_score_list)"
      ],
      "execution_count": null,
      "outputs": [
        {
          "output_type": "stream",
          "text": [
            "0.8478670891260287\n",
            "0.9696920044163068\n",
            "[0.9929640474033168, 1.0, 0.9889774085630726]\n",
            "[0.8478670891260287, 0.9696920044163068, 0.9148036246330635]\n"
          ],
          "name": "stdout"
        }
      ]
    },
    {
      "cell_type": "code",
      "metadata": {
        "colab": {
          "base_uri": "https://localhost:8080/"
        },
        "id": "fAksjfev6GTD",
        "outputId": "94a856de-c09b-4dce-9964-4f6e6744fae1"
      },
      "source": [
        "score"
      ],
      "execution_count": null,
      "outputs": [
        {
          "output_type": "execute_result",
          "data": {
            "text/plain": [
              "0.9696920044163068"
            ]
          },
          "metadata": {
            "tags": []
          },
          "execution_count": 42
        }
      ]
    },
    {
      "cell_type": "markdown",
      "metadata": {
        "id": "G48Yos2E96CN"
      },
      "source": [
        "# **Cross validation = 5**"
      ]
    },
    {
      "cell_type": "code",
      "metadata": {
        "colab": {
          "base_uri": "https://localhost:8080/"
        },
        "id": "btSinYKk94cx",
        "outputId": "988f3208-063a-4deb-a32f-583208d76d3a"
      },
      "source": [
        "training_score_list = []\r\n",
        "validation_score_list = []\r\n",
        "transformers = []\r\n",
        "model_list=[]\r\n",
        "cv_folds = 5\r\n",
        "score=0\r\n",
        "model_final=0\r\n",
        "for i in range(0,cv_folds):\r\n",
        "    \r\n",
        "    model = generate_graph_convmodel()\r\n",
        "    train_dataset, valid_dataset, test_dataset = splitter.train_valid_test_split(dataset)\r\n",
        "    model.fit(train_dataset)\r\n",
        "    model_list.append(model)\r\n",
        "    train_scores = model.evaluate(train_dataset, metrics, transformers)\r\n",
        "    training_score_list.append(train_scores[\"matthews_corrcoef\"])\r\n",
        "    validation_scores = model.evaluate(valid_dataset, metrics, transformers)\r\n",
        "    validation_score_list.append(validation_scores[\"matthews_corrcoef\"])\r\n",
        "    if(score < validation_scores[\"matthews_corrcoef\"]):\r\n",
        "      model_final=model\r\n",
        "      score=validation_scores[\"matthews_corrcoef\"]\r\n",
        "      print(score)\r\n",
        "print(training_score_list)\r\n",
        "print(validation_score_list)"
      ],
      "execution_count": null,
      "outputs": [
        {
          "output_type": "stream",
          "text": [
            "0.9450257998981283\n",
            "0.9631778860686327\n",
            "[1.0, 0.9419333334710477, 0.9966686706764608, 1.0, 1.0]\n",
            "[0.9450257998981283, 0.7961807347137532, 0.9631778860686327, 0.783876317494506, 0.8802808924390242]\n"
          ],
          "name": "stdout"
        }
      ]
    },
    {
      "cell_type": "code",
      "metadata": {
        "colab": {
          "base_uri": "https://localhost:8080/"
        },
        "id": "WOeiHjmiBM-o",
        "outputId": "f6d8f1b3-2d6c-4e97-9b98-24b6fe573360"
      },
      "source": [
        "score"
      ],
      "execution_count": null,
      "outputs": [
        {
          "output_type": "execute_result",
          "data": {
            "text/plain": [
              "0.9631778860686327"
            ]
          },
          "metadata": {
            "tags": []
          },
          "execution_count": 44
        }
      ]
    },
    {
      "cell_type": "markdown",
      "metadata": {
        "id": "TGoQ2VoRBSPt"
      },
      "source": [
        "# **Cross validation = 10**"
      ]
    },
    {
      "cell_type": "code",
      "metadata": {
        "colab": {
          "base_uri": "https://localhost:8080/"
        },
        "id": "ggkI7tvoBf-j",
        "outputId": "7e682bbc-5ad9-451a-d9ee-dee036fa9fb7"
      },
      "source": [
        "training_score_list = []\r\n",
        "validation_score_list = []\r\n",
        "transformers = []\r\n",
        "model_list=[]\r\n",
        "cv_folds = 10\r\n",
        "score=0\r\n",
        "model_final=0\r\n",
        "for i in range(0,cv_folds):\r\n",
        "    \r\n",
        "    model = generate_graph_convmodel()\r\n",
        "    train_dataset, valid_dataset, test_dataset = splitter.train_valid_test_split(dataset)\r\n",
        "    model.fit(train_dataset)\r\n",
        "    model_list.append(model)\r\n",
        "    train_scores = model.evaluate(train_dataset, metrics, transformers)\r\n",
        "    training_score_list.append(train_scores[\"matthews_corrcoef\"])\r\n",
        "    validation_scores = model.evaluate(valid_dataset, metrics, transformers)\r\n",
        "    validation_score_list.append(validation_scores[\"matthews_corrcoef\"])\r\n",
        "    if(score < validation_scores[\"matthews_corrcoef\"]):\r\n",
        "      model_final=model\r\n",
        "      score=validation_scores[\"matthews_corrcoef\"]\r\n",
        "      print(score)\r\n",
        "print(training_score_list)\r\n",
        "print(validation_score_list)"
      ],
      "execution_count": null,
      "outputs": [
        {
          "output_type": "stream",
          "text": [
            "0.8586348007330405\n",
            "0.9603244310543245\n",
            "0.9696920044163068\n",
            "[1.0, 0.9904663569351807, 0.9965579375920338, 0.9819737005487377, 0.9964878245903095, 0.9500736835629192, 1.0, 1.0, 0.971764855114841, 0.9002782885269016]\n",
            "[0.8586348007330405, 0.9603244310543245, 0.9384646624848106, 0.9696920044163068, 0.9249632554429669, 0.7620023862081161, 0.9081287283459639, 0.87285373250289, 0.9001350207360869, 0.6701386077510155]\n"
          ],
          "name": "stdout"
        }
      ]
    },
    {
      "cell_type": "code",
      "metadata": {
        "colab": {
          "base_uri": "https://localhost:8080/"
        },
        "id": "Nbv0JtvkEUb3",
        "outputId": "6d29c32d-61ee-456a-c85e-dba1ae23c647"
      },
      "source": [
        "score"
      ],
      "execution_count": null,
      "outputs": [
        {
          "output_type": "execute_result",
          "data": {
            "text/plain": [
              "0.9696920044163068"
            ]
          },
          "metadata": {
            "tags": []
          },
          "execution_count": 46
        }
      ]
    },
    {
      "cell_type": "markdown",
      "metadata": {
        "id": "ApC9jz8nXMvP"
      },
      "source": [
        "# **Comparison in Training and Validation Results**"
      ]
    },
    {
      "cell_type": "code",
      "metadata": {
        "colab": {
          "base_uri": "https://localhost:8080/",
          "height": 282
        },
        "id": "ATlNwYk86MTr",
        "outputId": "e77a8d9b-0ac2-4bc2-fdc3-3054af4f530c"
      },
      "source": [
        "sns.boxplot([\"training\"]*cv_folds+[\"validation\"]*cv_folds,training_score_list+validation_score_list)"
      ],
      "execution_count": null,
      "outputs": [
        {
          "output_type": "execute_result",
          "data": {
            "text/plain": [
              "<matplotlib.axes._subplots.AxesSubplot at 0x7fb6ee928748>"
            ]
          },
          "metadata": {
            "tags": []
          },
          "execution_count": 47
        },
        {
          "output_type": "display_data",
          "data": {
            "image/png": "[encoded data removed]",
            "text/plain": [
              "<Figure size 432x288 with 1 Axes>"
            ]
          },
          "metadata": {
            "tags": [],
            "needs_background": "light"
          }
        }
      ]
    },
    {
      "cell_type": "code",
      "metadata": {
        "id": "if7l3DsyAnWj"
      },
      "source": [
        "pred = [x.flatten() for x in model_final.predict(valid_dataset)]"
      ],
      "execution_count": null,
      "outputs": []
    },
    {
      "cell_type": "code",
      "metadata": {
        "colab": {
          "base_uri": "https://localhost:8080/"
        },
        "id": "pfmJPp0lAnpF",
        "outputId": "bc69dcd3-0509-43f3-a255-2c58896f61c4"
      },
      "source": [
        "pred"
      ],
      "execution_count": null,
      "outputs": [
        {
          "output_type": "execute_result",
          "data": {
            "text/plain": [
              "[array([9.9989855e-01, 1.0149310e-04], dtype=float32),\n",
              " array([9.9990594e-01, 9.3991875e-05], dtype=float32),\n",
              " array([9.993636e-01, 6.364630e-04], dtype=float32),\n",
              " array([9.9943024e-01, 5.6977756e-04], dtype=float32),\n",
              " array([9.999950e-01, 5.059781e-06], dtype=float32),\n",
              " array([9.9998581e-01, 1.4129838e-05], dtype=float32),\n",
              " array([9.9999690e-01, 3.1496363e-06], dtype=float32),\n",
              " array([9.993930e-01, 6.070351e-04], dtype=float32),\n",
              " array([9.9999940e-01, 5.8194144e-07], dtype=float32),\n",
              " array([9.9995470e-01, 4.5338988e-05], dtype=float32),\n",
              " array([0.99216276, 0.00783725], dtype=float32),\n",
              " array([9.9936098e-01, 6.3907914e-04], dtype=float32),\n",
              " array([9.9987733e-01, 1.2266722e-04], dtype=float32),\n",
              " array([9.999813e-01, 1.870936e-05], dtype=float32),\n",
              " array([0.9989058 , 0.00109424], dtype=float32),\n",
              " array([0.9787636 , 0.02123637], dtype=float32),\n",
              " array([9.9930906e-01, 6.9089164e-04], dtype=float32),\n",
              " array([9.995154e-01, 4.846285e-04], dtype=float32),\n",
              " array([9.9968290e-01, 3.1708227e-04], dtype=float32),\n",
              " array([0.9989518 , 0.00104816], dtype=float32),\n",
              " array([9.9996245e-01, 3.7589820e-05], dtype=float32),\n",
              " array([9.999826e-01, 1.735417e-05], dtype=float32),\n",
              " array([9.991892e-01, 8.107461e-04], dtype=float32),\n",
              " array([9.997079e-01, 2.920935e-04], dtype=float32),\n",
              " array([9.9998665e-01, 1.3315199e-05], dtype=float32),\n",
              " array([9.9937087e-01, 6.2918087e-04], dtype=float32),\n",
              " array([0.99681073, 0.00318926], dtype=float32),\n",
              " array([9.9912542e-01, 8.7463314e-04], dtype=float32),\n",
              " array([0.99829465, 0.00170538], dtype=float32),\n",
              " array([9.9998271e-01, 1.7271585e-05], dtype=float32),\n",
              " array([9.9999428e-01, 5.6691306e-06], dtype=float32),\n",
              " array([9.999970e-01, 2.990848e-06], dtype=float32),\n",
              " array([9.9981791e-01, 1.8208618e-04], dtype=float32),\n",
              " array([9.9997246e-01, 2.7565593e-05], dtype=float32),\n",
              " array([9.992681e-01, 7.319242e-04], dtype=float32),\n",
              " array([9.9924302e-01, 7.5704843e-04], dtype=float32),\n",
              " array([9.9973220e-01, 2.6776321e-04], dtype=float32),\n",
              " array([9.99986887e-01, 1.31633005e-05], dtype=float32),\n",
              " array([0.00438118, 0.99561876], dtype=float32),\n",
              " array([9.994956e-01, 5.043494e-04], dtype=float32),\n",
              " array([9.999908e-01, 9.124190e-06], dtype=float32),\n",
              " array([9.9999106e-01, 8.9517089e-06], dtype=float32),\n",
              " array([9.9997592e-01, 2.4028435e-05], dtype=float32),\n",
              " array([9.9998844e-01, 1.1606081e-05], dtype=float32),\n",
              " array([9.9994624e-01, 5.3755142e-05], dtype=float32),\n",
              " array([9.9994993e-01, 5.0047653e-05], dtype=float32),\n",
              " array([9.9963057e-01, 3.6935415e-04], dtype=float32),\n",
              " array([9.9999976e-01, 2.7481508e-07], dtype=float32),\n",
              " array([9.9997151e-01, 2.8433053e-05], dtype=float32),\n",
              " array([0.01336528, 0.98663473], dtype=float32),\n",
              " array([9.999653e-01, 3.467345e-05], dtype=float32),\n",
              " array([9.9997067e-01, 2.9339142e-05], dtype=float32),\n",
              " array([9.9997413e-01, 2.5865680e-05], dtype=float32),\n",
              " array([9.9986625e-01, 1.3377672e-04], dtype=float32),\n",
              " array([9.9998069e-01, 1.9338202e-05], dtype=float32),\n",
              " array([0.98738885, 0.01261111], dtype=float32),\n",
              " array([9.9998033e-01, 1.9666193e-05], dtype=float32),\n",
              " array([0.99793255, 0.00206742], dtype=float32),\n",
              " array([0.9904322, 0.0095678], dtype=float32),\n",
              " array([9.9973744e-01, 2.6259010e-04], dtype=float32),\n",
              " array([9.999014e-01, 9.858630e-05], dtype=float32),\n",
              " array([9.9931931e-01, 6.8073213e-04], dtype=float32),\n",
              " array([9.9999940e-01, 5.5944054e-07], dtype=float32),\n",
              " array([9.999361e-01, 6.387651e-05], dtype=float32),\n",
              " array([9.9993396e-01, 6.6051012e-05], dtype=float32),\n",
              " array([9.999957e-01, 4.294298e-06], dtype=float32),\n",
              " array([9.9999475e-01, 5.1946986e-06], dtype=float32),\n",
              " array([0.998489  , 0.00151101], dtype=float32),\n",
              " array([9.990159e-01, 9.840605e-04], dtype=float32),\n",
              " array([9.9955660e-01, 4.4337267e-04], dtype=float32),\n",
              " array([9.9953520e-01, 4.6479443e-04], dtype=float32),\n",
              " array([9.9999261e-01, 7.4433674e-06], dtype=float32),\n",
              " array([9.999554e-01, 4.459360e-05], dtype=float32),\n",
              " array([9.9982256e-01, 1.7750515e-04], dtype=float32),\n",
              " array([9.99987483e-01, 1.24741255e-05], dtype=float32),\n",
              " array([9.9985051e-01, 1.4949091e-04], dtype=float32),\n",
              " array([0.9972568 , 0.00274316], dtype=float32),\n",
              " array([0.99143463, 0.00856538], dtype=float32),\n",
              " array([9.9999797e-01, 1.9834183e-06], dtype=float32),\n",
              " array([9.9996650e-01, 3.3444376e-05], dtype=float32),\n",
              " array([9.9911755e-01, 8.8243478e-04], dtype=float32),\n",
              " array([0.9987    , 0.00129994], dtype=float32),\n",
              " array([0.99148166, 0.00851841], dtype=float32),\n",
              " array([9.9999869e-01, 1.2718253e-06], dtype=float32),\n",
              " array([9.9934691e-01, 6.5308943e-04], dtype=float32),\n",
              " array([9.9996591e-01, 3.4052053e-05], dtype=float32),\n",
              " array([9.9999917e-01, 8.9010740e-07], dtype=float32),\n",
              " array([9.9991071e-01, 8.9303256e-05], dtype=float32),\n",
              " array([9.9997115e-01, 2.8854973e-05], dtype=float32),\n",
              " array([9.9973053e-01, 2.6951308e-04], dtype=float32),\n",
              " array([9.9947292e-01, 5.2707235e-04], dtype=float32),\n",
              " array([9.9980551e-01, 1.9447147e-04], dtype=float32),\n",
              " array([9.9991834e-01, 8.1649254e-05], dtype=float32),\n",
              " array([9.996729e-01, 3.271780e-04], dtype=float32),\n",
              " array([0.00319652, 0.9968035 ], dtype=float32),\n",
              " array([9.9977940e-01, 2.2056323e-04], dtype=float32),\n",
              " array([9.9998212e-01, 1.7881901e-05], dtype=float32),\n",
              " array([9.9998355e-01, 1.6493033e-05], dtype=float32),\n",
              " array([9.9986672e-01, 1.3320099e-04], dtype=float32),\n",
              " array([0.99322987, 0.00677007], dtype=float32),\n",
              " array([9.9951375e-01, 4.8629622e-04], dtype=float32),\n",
              " array([9.9990916e-01, 9.0817288e-05], dtype=float32),\n",
              " array([0.99822134, 0.00177864], dtype=float32),\n",
              " array([9.9994886e-01, 5.1150764e-05], dtype=float32),\n",
              " array([9.9997187e-01, 2.8119366e-05], dtype=float32),\n",
              " array([0.9931492 , 0.00685079], dtype=float32),\n",
              " array([9.9991775e-01, 8.2211853e-05], dtype=float32),\n",
              " array([9.9991369e-01, 8.6304375e-05], dtype=float32),\n",
              " array([9.999628e-01, 3.718841e-05], dtype=float32),\n",
              " array([9.999908e-01, 9.121110e-06], dtype=float32),\n",
              " array([0.99621165, 0.00378841], dtype=float32),\n",
              " array([0.9978879 , 0.00211214], dtype=float32),\n",
              " array([9.9998677e-01, 1.3278882e-05], dtype=float32),\n",
              " array([9.9983919e-01, 1.6083632e-04], dtype=float32),\n",
              " array([0.9134833 , 0.08651662], dtype=float32),\n",
              " array([9.9952304e-01, 4.7693690e-04], dtype=float32),\n",
              " array([9.9993443e-01, 6.5595181e-05], dtype=float32),\n",
              " array([9.9964321e-01, 3.5678828e-04], dtype=float32),\n",
              " array([9.9979633e-01, 2.0372824e-04], dtype=float32),\n",
              " array([0.9930698 , 0.00693012], dtype=float32),\n",
              " array([9.991352e-01, 8.648629e-04], dtype=float32),\n",
              " array([9.9972194e-01, 2.7808690e-04], dtype=float32),\n",
              " array([9.9993384e-01, 6.6145432e-05], dtype=float32),\n",
              " array([9.9974388e-01, 2.5614855e-04], dtype=float32),\n",
              " array([9.9984360e-01, 1.5632706e-04], dtype=float32),\n",
              " array([9.9999666e-01, 3.3600998e-06], dtype=float32),\n",
              " array([9.9911445e-01, 8.8557915e-04], dtype=float32),\n",
              " array([9.9995399e-01, 4.5982197e-05], dtype=float32),\n",
              " array([9.991341e-01, 8.658873e-04], dtype=float32),\n",
              " array([9.9973172e-01, 2.6824465e-04], dtype=float32),\n",
              " array([9.9969542e-01, 3.0463975e-04], dtype=float32),\n",
              " array([9.9956566e-01, 4.3427473e-04], dtype=float32),\n",
              " array([0.96169007, 0.03830988], dtype=float32),\n",
              " array([9.9999368e-01, 6.2707186e-06], dtype=float32),\n",
              " array([9.9998426e-01, 1.5752054e-05], dtype=float32),\n",
              " array([0.998862  , 0.00113797], dtype=float32),\n",
              " array([9.9981803e-01, 1.8197787e-04], dtype=float32),\n",
              " array([9.9999595e-01, 4.0309478e-06], dtype=float32),\n",
              " array([9.99985337e-01, 1.46774055e-05], dtype=float32),\n",
              " array([9.991352e-01, 8.648010e-04], dtype=float32),\n",
              " array([9.9995291e-01, 4.7132282e-05], dtype=float32),\n",
              " array([0.99792457, 0.00207542], dtype=float32),\n",
              " array([9.9992478e-01, 7.5254604e-05], dtype=float32),\n",
              " array([9.9984014e-01, 1.5986635e-04], dtype=float32),\n",
              " array([9.9996364e-01, 3.6368780e-05], dtype=float32),\n",
              " array([9.9999893e-01, 1.0361043e-06], dtype=float32),\n",
              " array([9.999907e-01, 9.333965e-06], dtype=float32),\n",
              " array([9.997528e-01, 2.472159e-04], dtype=float32),\n",
              " array([9.9999392e-01, 6.0555217e-06], dtype=float32),\n",
              " array([9.9978906e-01, 2.1092549e-04], dtype=float32),\n",
              " array([0.99511635, 0.0048837 ], dtype=float32),\n",
              " array([9.9999893e-01, 1.1046695e-06], dtype=float32),\n",
              " array([9.9977976e-01, 2.2021777e-04], dtype=float32),\n",
              " array([9.999163e-01, 8.371904e-05], dtype=float32),\n",
              " array([0.99322754, 0.00677252], dtype=float32),\n",
              " array([0.9861492 , 0.01385084], dtype=float32),\n",
              " array([9.99986887e-01, 1.31227525e-05], dtype=float32),\n",
              " array([9.9991703e-01, 8.2914521e-05], dtype=float32),\n",
              " array([9.9993384e-01, 6.6186389e-05], dtype=float32),\n",
              " array([9.9990845e-01, 9.1506648e-05], dtype=float32),\n",
              " array([9.9989808e-01, 1.0193615e-04], dtype=float32),\n",
              " array([9.9997437e-01, 2.5600864e-05], dtype=float32),\n",
              " array([9.9987626e-01, 1.2368460e-04], dtype=float32),\n",
              " array([9.9972075e-01, 2.7927166e-04], dtype=float32),\n",
              " array([9.9985111e-01, 1.4890775e-04], dtype=float32),\n",
              " array([9.99896765e-01, 1.03201564e-04], dtype=float32),\n",
              " array([9.9981374e-01, 1.8626003e-04], dtype=float32),\n",
              " array([9.9998271e-01, 1.7326967e-05], dtype=float32),\n",
              " array([9.996952e-01, 3.048207e-04], dtype=float32),\n",
              " array([0.98054576, 0.01945425], dtype=float32),\n",
              " array([9.9999154e-01, 8.5066904e-06], dtype=float32),\n",
              " array([9.9960810e-01, 3.9187344e-04], dtype=float32),\n",
              " array([9.9956459e-01, 4.3535946e-04], dtype=float32),\n",
              " array([9.9995422e-01, 4.5802197e-05], dtype=float32),\n",
              " array([9.9997246e-01, 2.7507451e-05], dtype=float32),\n",
              " array([9.997868e-01, 2.131892e-04], dtype=float32),\n",
              " array([0.9989518 , 0.00104816], dtype=float32),\n",
              " array([0.99883   , 0.00116997], dtype=float32),\n",
              " array([9.9993372e-01, 6.6294146e-05], dtype=float32),\n",
              " array([9.9995553e-01, 4.4447126e-05], dtype=float32),\n",
              " array([0.99367946, 0.00632058], dtype=float32),\n",
              " array([9.9968386e-01, 3.1619266e-04], dtype=float32),\n",
              " array([9.99888420e-01, 1.11533795e-04], dtype=float32),\n",
              " array([9.9987507e-01, 1.2485810e-04], dtype=float32),\n",
              " array([9.9931586e-01, 6.8411499e-04], dtype=float32),\n",
              " array([9.9999046e-01, 9.5191381e-06], dtype=float32),\n",
              " array([9.9998188e-01, 1.8070285e-05], dtype=float32),\n",
              " array([9.9960619e-01, 3.9379214e-04], dtype=float32),\n",
              " array([0.9985885 , 0.00141148], dtype=float32),\n",
              " array([9.999033e-01, 9.665477e-05], dtype=float32),\n",
              " array([9.9997842e-01, 2.1585416e-05], dtype=float32),\n",
              " array([0.9950481 , 0.00495184], dtype=float32),\n",
              " array([0.01954843, 0.9804515 ], dtype=float32),\n",
              " array([9.9996328e-01, 3.6758323e-05], dtype=float32),\n",
              " array([9.9983859e-01, 1.6144279e-04], dtype=float32),\n",
              " array([0.99777204, 0.00222798], dtype=float32),\n",
              " array([9.991968e-01, 8.032352e-04], dtype=float32),\n",
              " array([9.9974602e-01, 2.5400767e-04], dtype=float32),\n",
              " array([9.9975055e-01, 2.4939893e-04], dtype=float32),\n",
              " array([9.999311e-01, 6.884082e-05], dtype=float32),\n",
              " array([9.9998057e-01, 1.9472500e-05], dtype=float32),\n",
              " array([9.9998546e-01, 1.4572106e-05], dtype=float32),\n",
              " array([0.9988576, 0.0011424], dtype=float32),\n",
              " array([0.9879309 , 0.01206915], dtype=float32),\n",
              " array([9.9998188e-01, 1.8132394e-05], dtype=float32),\n",
              " array([9.9998462e-01, 1.5326881e-05], dtype=float32),\n",
              " array([9.9999785e-01, 2.1878441e-06], dtype=float32),\n",
              " array([9.9999917e-01, 8.2547342e-07], dtype=float32),\n",
              " array([9.999913e-01, 8.665372e-06], dtype=float32),\n",
              " array([9.999993e-01, 7.551853e-07], dtype=float32),\n",
              " array([9.993352e-01, 6.647894e-04], dtype=float32),\n",
              " array([0.9973869 , 0.00261312], dtype=float32),\n",
              " array([0.03283554, 0.96716446], dtype=float32),\n",
              " array([9.9997890e-01, 2.1045362e-05], dtype=float32),\n",
              " array([0.99897885, 0.00102113], dtype=float32),\n",
              " array([9.9998462e-01, 1.5405121e-05], dtype=float32),\n",
              " array([9.9999118e-01, 8.7926865e-06], dtype=float32),\n",
              " array([9.9994862e-01, 5.1387153e-05], dtype=float32),\n",
              " array([9.9971265e-01, 2.8737064e-04], dtype=float32),\n",
              " array([9.9999475e-01, 5.2273244e-06], dtype=float32),\n",
              " array([9.9967897e-01, 3.2103047e-04], dtype=float32),\n",
              " array([9.993261e-01, 6.739403e-04], dtype=float32),\n",
              " array([9.9969995e-01, 3.0012956e-04], dtype=float32),\n",
              " array([9.9995065e-01, 4.9331673e-05], dtype=float32),\n",
              " array([9.9953985e-01, 4.6017431e-04], dtype=float32),\n",
              " array([9.997397e-01, 2.602425e-04], dtype=float32),\n",
              " array([9.9991214e-01, 8.7883243e-05], dtype=float32),\n",
              " array([9.9997294e-01, 2.7021406e-05], dtype=float32),\n",
              " array([0.9989502 , 0.00104983], dtype=float32),\n",
              " array([9.999993e-01, 7.122850e-07], dtype=float32),\n",
              " array([9.9999547e-01, 4.5395805e-06], dtype=float32),\n",
              " array([9.990049e-01, 9.951134e-04], dtype=float32),\n",
              " array([9.9998701e-01, 1.3042194e-05], dtype=float32),\n",
              " array([9.9958378e-01, 4.1626248e-04], dtype=float32),\n",
              " array([9.9998999e-01, 1.0037232e-05], dtype=float32),\n",
              " array([9.9999857e-01, 1.4094951e-06], dtype=float32),\n",
              " array([9.9998164e-01, 1.8306544e-05], dtype=float32),\n",
              " array([9.9973303e-01, 2.6695317e-04], dtype=float32),\n",
              " array([9.9975985e-01, 2.4010772e-04], dtype=float32),\n",
              " array([9.9924505e-01, 7.5496128e-04], dtype=float32),\n",
              " array([9.999217e-01, 7.830845e-05], dtype=float32),\n",
              " array([9.9999821e-01, 1.7724079e-06], dtype=float32),\n",
              " array([9.9999392e-01, 6.0873676e-06], dtype=float32),\n",
              " array([9.9975342e-01, 2.4656457e-04], dtype=float32),\n",
              " array([9.9964321e-01, 3.5678997e-04], dtype=float32),\n",
              " array([9.999964e-01, 3.606531e-06], dtype=float32),\n",
              " array([0.9947019 , 0.00529811], dtype=float32),\n",
              " array([9.9990296e-01, 9.6990829e-05], dtype=float32),\n",
              " array([0.99709773, 0.0029023 ], dtype=float32),\n",
              " array([9.9999905e-01, 9.9140243e-07], dtype=float32),\n",
              " array([9.9997532e-01, 2.4675091e-05], dtype=float32),\n",
              " array([9.9997330e-01, 2.6731579e-05], dtype=float32),\n",
              " array([0.9914493 , 0.00855066], dtype=float32),\n",
              " array([9.9986625e-01, 1.3372340e-04], dtype=float32),\n",
              " array([9.999938e-01, 6.246785e-06], dtype=float32),\n",
              " array([9.999236e-01, 7.645520e-05], dtype=float32),\n",
              " array([9.999387e-01, 6.127724e-05], dtype=float32),\n",
              " array([9.9999297e-01, 7.0156702e-06], dtype=float32),\n",
              " array([9.999974e-01, 2.623287e-06], dtype=float32),\n",
              " array([0.9986268 , 0.00137313], dtype=float32),\n",
              " array([0.5510519 , 0.44894806], dtype=float32),\n",
              " array([9.9994075e-01, 5.9272668e-05], dtype=float32),\n",
              " array([0.9948201 , 0.00517981], dtype=float32),\n",
              " array([9.9975866e-01, 2.4134069e-04], dtype=float32),\n",
              " array([9.999943e-01, 5.769191e-06], dtype=float32),\n",
              " array([9.9988186e-01, 1.1811907e-04], dtype=float32),\n",
              " array([9.999473e-01, 5.270387e-05], dtype=float32),\n",
              " array([9.9999595e-01, 4.0185655e-06], dtype=float32),\n",
              " array([9.9998415e-01, 1.5893243e-05], dtype=float32),\n",
              " array([9.9998975e-01, 1.0292154e-05], dtype=float32),\n",
              " array([9.9964988e-01, 3.5012705e-04], dtype=float32),\n",
              " array([0.996031  , 0.00396895], dtype=float32),\n",
              " array([9.9946314e-01, 5.3690368e-04], dtype=float32),\n",
              " array([9.9994123e-01, 5.8731392e-05], dtype=float32),\n",
              " array([9.9989963e-01, 1.0037958e-04], dtype=float32),\n",
              " array([9.9981242e-01, 1.8765335e-04], dtype=float32),\n",
              " array([9.9991179e-01, 8.8158115e-05], dtype=float32),\n",
              " array([9.999418e-01, 5.818214e-05], dtype=float32),\n",
              " array([9.9999464e-01, 5.3469853e-06], dtype=float32),\n",
              " array([9.99989867e-01, 1.01662645e-05], dtype=float32),\n",
              " array([9.9997532e-01, 2.4695055e-05], dtype=float32),\n",
              " array([9.9995792e-01, 4.2105075e-05], dtype=float32),\n",
              " array([9.9981707e-01, 1.8293018e-04], dtype=float32),\n",
              " array([9.9995959e-01, 4.0417854e-05], dtype=float32),\n",
              " array([0.99851865, 0.00148139], dtype=float32),\n",
              " array([9.9984491e-01, 1.5508082e-04], dtype=float32),\n",
              " array([9.9989665e-01, 1.0330041e-04], dtype=float32),\n",
              " array([0.01581974, 0.9841802 ], dtype=float32),\n",
              " array([9.9998355e-01, 1.6457430e-05], dtype=float32),\n",
              " array([0.99702615, 0.0029739 ], dtype=float32),\n",
              " array([9.9996114e-01, 3.8875540e-05], dtype=float32),\n",
              " array([9.9972302e-01, 2.7691195e-04], dtype=float32),\n",
              " array([9.999914e-01, 8.608629e-06], dtype=float32),\n",
              " array([9.999962e-01, 3.864109e-06], dtype=float32),\n",
              " array([9.9998367e-01, 1.6368198e-05], dtype=float32),\n",
              " array([9.9994791e-01, 5.2052936e-05], dtype=float32),\n",
              " array([9.9950087e-01, 4.9911573e-04], dtype=float32),\n",
              " array([9.9996126e-01, 3.8739458e-05], dtype=float32),\n",
              " array([0.99228716, 0.00771291], dtype=float32),\n",
              " array([9.999938e-01, 6.163465e-06], dtype=float32),\n",
              " array([9.999931e-01, 6.960371e-06], dtype=float32),\n",
              " array([9.9984694e-01, 1.5308231e-04], dtype=float32),\n",
              " array([9.9999702e-01, 2.9577404e-06], dtype=float32),\n",
              " array([9.9999630e-01, 3.6366998e-06], dtype=float32),\n",
              " array([9.9998832e-01, 1.1679318e-05], dtype=float32),\n",
              " array([9.999372e-01, 6.287547e-05], dtype=float32),\n",
              " array([9.9989974e-01, 1.0028888e-04], dtype=float32),\n",
              " array([9.9998474e-01, 1.5311938e-05], dtype=float32),\n",
              " array([9.9991405e-01, 8.5992702e-05], dtype=float32),\n",
              " array([9.9995041e-01, 4.9569724e-05], dtype=float32),\n",
              " array([0.99120694, 0.00879311], dtype=float32),\n",
              " array([9.9999869e-01, 1.3301188e-06], dtype=float32),\n",
              " array([0.99630994, 0.00369011], dtype=float32),\n",
              " array([9.9986947e-01, 1.3056696e-04], dtype=float32),\n",
              " array([9.999732e-01, 2.678657e-05], dtype=float32),\n",
              " array([9.999522e-01, 4.775596e-05], dtype=float32),\n",
              " array([9.999927e-01, 7.219288e-06], dtype=float32),\n",
              " array([0.9797276 , 0.02027237], dtype=float32),\n",
              " array([0.9988111 , 0.00118889], dtype=float32),\n",
              " array([9.9999464e-01, 5.3903718e-06], dtype=float32),\n",
              " array([9.999976e-01, 2.384038e-06], dtype=float32),\n",
              " array([9.997135e-01, 2.864586e-04], dtype=float32),\n",
              " array([9.999981e-01, 1.947768e-06], dtype=float32),\n",
              " array([9.9998474e-01, 1.5231513e-05], dtype=float32),\n",
              " array([9.9992526e-01, 7.4771902e-05], dtype=float32),\n",
              " array([9.9992406e-01, 7.5879143e-05], dtype=float32),\n",
              " array([9.9988902e-01, 1.1101197e-04], dtype=float32),\n",
              " array([9.9998319e-01, 1.6831576e-05], dtype=float32),\n",
              " array([0.9968725 , 0.00312757], dtype=float32),\n",
              " array([9.990362e-01, 9.638091e-04], dtype=float32),\n",
              " array([9.9924469e-01, 7.5537834e-04], dtype=float32),\n",
              " array([9.9964809e-01, 3.5193382e-04], dtype=float32),\n",
              " array([9.9996781e-01, 3.2141474e-05], dtype=float32),\n",
              " array([9.9999225e-01, 7.6996921e-06], dtype=float32),\n",
              " array([9.9997902e-01, 2.0966074e-05], dtype=float32),\n",
              " array([9.999950e-01, 4.964505e-06], dtype=float32),\n",
              " array([0.99871874, 0.00128134], dtype=float32),\n",
              " array([9.9968100e-01, 3.1905697e-04], dtype=float32),\n",
              " array([9.9967611e-01, 3.2391388e-04], dtype=float32),\n",
              " array([9.9981827e-01, 1.8181780e-04], dtype=float32),\n",
              " array([0.9965115 , 0.00348848], dtype=float32),\n",
              " array([9.9934858e-01, 6.5147004e-04], dtype=float32),\n",
              " array([9.9991477e-01, 8.5207932e-05], dtype=float32),\n",
              " array([9.9972075e-01, 2.7924342e-04], dtype=float32),\n",
              " array([0.99886787, 0.00113212], dtype=float32),\n",
              " array([9.9996758e-01, 3.2395965e-05], dtype=float32),\n",
              " array([9.9939430e-01, 6.0573476e-04], dtype=float32),\n",
              " array([9.9999845e-01, 1.5151510e-06], dtype=float32),\n",
              " array([9.9993968e-01, 6.0295875e-05], dtype=float32),\n",
              " array([0.9989477 , 0.00105236], dtype=float32),\n",
              " array([0.99708813, 0.00291187], dtype=float32),\n",
              " array([9.9938595e-01, 6.1402150e-04], dtype=float32),\n",
              " array([9.999119e-01, 8.813981e-05], dtype=float32),\n",
              " array([9.9995863e-01, 4.1401636e-05], dtype=float32),\n",
              " array([9.9958485e-01, 4.1518972e-04], dtype=float32),\n",
              " array([9.9967921e-01, 3.2082517e-04], dtype=float32),\n",
              " array([9.999311e-01, 6.885618e-05], dtype=float32),\n",
              " array([9.9999952e-01, 4.9375876e-07], dtype=float32),\n",
              " array([9.999213e-01, 7.870358e-05], dtype=float32),\n",
              " array([9.999423e-01, 5.764115e-05], dtype=float32),\n",
              " array([9.994838e-01, 5.161052e-04], dtype=float32),\n",
              " array([9.9999833e-01, 1.7235482e-06], dtype=float32),\n",
              " array([9.9995673e-01, 4.3318298e-05], dtype=float32),\n",
              " array([9.9999583e-01, 4.1757066e-06], dtype=float32),\n",
              " array([9.9996603e-01, 3.4017292e-05], dtype=float32),\n",
              " array([9.9986088e-01, 1.3904336e-04], dtype=float32),\n",
              " array([9.993963e-01, 6.036982e-04], dtype=float32),\n",
              " array([9.9994230e-01, 5.7671612e-05], dtype=float32),\n",
              " array([0.9886559, 0.0113441], dtype=float32),\n",
              " array([9.999900e-01, 9.964348e-06], dtype=float32),\n",
              " array([0.9987232 , 0.00127683], dtype=float32),\n",
              " array([9.9980766e-01, 1.9231148e-04], dtype=float32),\n",
              " array([9.9999988e-01, 1.7605552e-07], dtype=float32),\n",
              " array([9.9997389e-01, 2.6159467e-05], dtype=float32),\n",
              " array([9.9961179e-01, 3.8823966e-04], dtype=float32),\n",
              " array([9.9997306e-01, 2.6947244e-05], dtype=float32),\n",
              " array([9.9971098e-01, 2.8894038e-04], dtype=float32),\n",
              " array([0.9917264 , 0.00827366], dtype=float32),\n",
              " array([0.99516475, 0.00483525], dtype=float32),\n",
              " array([9.9982232e-01, 1.7767277e-04], dtype=float32),\n",
              " array([9.999877e-01, 1.227158e-05], dtype=float32),\n",
              " array([9.9998593e-01, 1.4009067e-05], dtype=float32),\n",
              " array([9.9998915e-01, 1.0833573e-05], dtype=float32),\n",
              " array([9.9967527e-01, 3.2476234e-04], dtype=float32),\n",
              " array([9.9996495e-01, 3.4988701e-05], dtype=float32),\n",
              " array([9.9994063e-01, 5.9383725e-05], dtype=float32),\n",
              " array([9.9935764e-01, 6.4237101e-04], dtype=float32),\n",
              " array([9.9999857e-01, 1.4124405e-06], dtype=float32),\n",
              " array([9.9998021e-01, 1.9738118e-05], dtype=float32),\n",
              " array([9.998512e-01, 1.486928e-04], dtype=float32),\n",
              " array([9.9969041e-01, 3.0962183e-04], dtype=float32),\n",
              " array([9.99893785e-01, 1.06180305e-04], dtype=float32),\n",
              " array([9.9995530e-01, 4.4690492e-05], dtype=float32),\n",
              " array([9.9985528e-01, 1.4474792e-04], dtype=float32),\n",
              " array([0.99731356, 0.00268642], dtype=float32),\n",
              " array([0.99891925, 0.00108073], dtype=float32),\n",
              " array([9.9985933e-01, 1.4062780e-04], dtype=float32),\n",
              " array([0.98859894, 0.01140101], dtype=float32),\n",
              " array([0.98803234, 0.01196769], dtype=float32),\n",
              " array([9.9999344e-01, 6.5558679e-06], dtype=float32),\n",
              " array([0.99578035, 0.0042196 ], dtype=float32),\n",
              " array([9.999002e-01, 9.981433e-05], dtype=float32),\n",
              " array([9.9930179e-01, 6.9817045e-04], dtype=float32),\n",
              " array([9.9992704e-01, 7.2927462e-05], dtype=float32),\n",
              " array([9.993531e-01, 6.468546e-04], dtype=float32),\n",
              " array([9.9973458e-01, 2.6541093e-04], dtype=float32),\n",
              " array([0.99682164, 0.00317836], dtype=float32),\n",
              " array([0.9984883 , 0.00151173], dtype=float32),\n",
              " array([9.999585e-01, 4.143651e-05], dtype=float32),\n",
              " array([9.999739e-01, 2.611064e-05], dtype=float32),\n",
              " array([9.9993789e-01, 6.2086954e-05], dtype=float32),\n",
              " array([9.9998987e-01, 1.0089036e-05], dtype=float32),\n",
              " array([9.999783e-01, 2.171487e-05], dtype=float32),\n",
              " array([9.9997067e-01, 2.9370747e-05], dtype=float32),\n",
              " array([9.9998569e-01, 1.4266281e-05], dtype=float32),\n",
              " array([9.993655e-01, 6.345339e-04], dtype=float32),\n",
              " array([9.9928111e-01, 7.1895693e-04], dtype=float32),\n",
              " array([9.9982685e-01, 1.7321517e-04], dtype=float32),\n",
              " array([9.9974817e-01, 2.5179464e-04], dtype=float32),\n",
              " array([9.9989355e-01, 1.0641679e-04], dtype=float32),\n",
              " array([0.99769515, 0.00230489], dtype=float32),\n",
              " array([9.9962401e-01, 3.7592027e-04], dtype=float32),\n",
              " array([9.9944085e-01, 5.5918755e-04], dtype=float32),\n",
              " array([0.99739754, 0.00260242], dtype=float32),\n",
              " array([9.9999356e-01, 6.4923379e-06], dtype=float32),\n",
              " array([9.9999797e-01, 1.9753145e-06], dtype=float32),\n",
              " array([0.9902816 , 0.00971845], dtype=float32),\n",
              " array([9.9969280e-01, 3.0727874e-04], dtype=float32),\n",
              " array([0.9979417 , 0.00205834], dtype=float32),\n",
              " array([9.9998391e-01, 1.6068414e-05], dtype=float32),\n",
              " array([9.9936086e-01, 6.3911953e-04], dtype=float32),\n",
              " array([9.9915886e-01, 8.4112532e-04], dtype=float32),\n",
              " array([0.99813074, 0.00186922], dtype=float32),\n",
              " array([9.9953103e-01, 4.6893448e-04], dtype=float32),\n",
              " array([9.9961674e-01, 3.8328834e-04], dtype=float32),\n",
              " array([9.9999464e-01, 5.3305653e-06], dtype=float32),\n",
              " array([9.9994123e-01, 5.8710728e-05], dtype=float32),\n",
              " array([9.9998212e-01, 1.7842587e-05], dtype=float32),\n",
              " array([9.9917847e-01, 8.2145236e-04], dtype=float32),\n",
              " array([9.9998605e-01, 1.3908205e-05], dtype=float32),\n",
              " array([9.999976e-01, 2.405327e-06], dtype=float32),\n",
              " array([9.997973e-01, 2.027419e-04], dtype=float32),\n",
              " array([9.9950516e-01, 4.9488980e-04], dtype=float32),\n",
              " array([0.9987816 , 0.00121832], dtype=float32),\n",
              " array([9.9999774e-01, 2.2884060e-06], dtype=float32),\n",
              " array([0.9919343 , 0.00806573], dtype=float32),\n",
              " array([9.9999654e-01, 3.3990814e-06], dtype=float32),\n",
              " array([9.9996805e-01, 3.1984222e-05], dtype=float32),\n",
              " array([9.9983978e-01, 1.6013623e-04], dtype=float32),\n",
              " array([0.99842834, 0.00157163], dtype=float32),\n",
              " array([9.9976474e-01, 2.3530427e-04], dtype=float32),\n",
              " array([9.9973887e-01, 2.6113653e-04], dtype=float32),\n",
              " array([9.9979311e-01, 2.0686875e-04], dtype=float32),\n",
              " array([0.9945977 , 0.00540234], dtype=float32),\n",
              " array([9.99895453e-01, 1.04479295e-04], dtype=float32),\n",
              " array([0.98250556, 0.01749439], dtype=float32),\n",
              " array([9.998840e-01, 1.159587e-04], dtype=float32),\n",
              " array([0.9963084 , 0.00369158], dtype=float32),\n",
              " array([9.9994421e-01, 5.5773176e-05], dtype=float32),\n",
              " array([9.9978524e-01, 2.1479576e-04], dtype=float32),\n",
              " array([9.9912506e-01, 8.7492273e-04], dtype=float32),\n",
              " array([0.99315625, 0.00684374], dtype=float32),\n",
              " array([9.9926275e-01, 7.3724764e-04], dtype=float32),\n",
              " array([9.999913e-01, 8.732977e-06], dtype=float32),\n",
              " array([9.9996793e-01, 3.2121130e-05], dtype=float32),\n",
              " array([9.9999869e-01, 1.3128447e-06], dtype=float32),\n",
              " array([0.99831104, 0.00168897], dtype=float32),\n",
              " array([9.9999583e-01, 4.1359745e-06], dtype=float32),\n",
              " array([9.9975020e-01, 2.4983112e-04], dtype=float32),\n",
              " array([9.9931836e-01, 6.8164163e-04], dtype=float32),\n",
              " array([9.9915791e-01, 8.4214064e-04], dtype=float32),\n",
              " array([9.990740e-01, 9.260358e-04], dtype=float32),\n",
              " array([0.99740297, 0.00259699], dtype=float32),\n",
              " array([0.998185  , 0.00181502], dtype=float32),\n",
              " array([0.9931988 , 0.00680112], dtype=float32),\n",
              " array([9.9981660e-01, 1.8344494e-04], dtype=float32),\n",
              " array([0.9980033 , 0.00199664], dtype=float32),\n",
              " array([9.9942315e-01, 5.7688117e-04], dtype=float32),\n",
              " array([0.99799937, 0.00200065], dtype=float32),\n",
              " array([9.9990046e-01, 9.9557576e-05], dtype=float32),\n",
              " array([9.9957162e-01, 4.2842954e-04], dtype=float32),\n",
              " array([9.9998426e-01, 1.5773476e-05], dtype=float32),\n",
              " array([9.9996924e-01, 3.0792922e-05], dtype=float32),\n",
              " array([9.9997723e-01, 2.2818444e-05], dtype=float32),\n",
              " array([0.99877137, 0.00122864], dtype=float32),\n",
              " array([0.9989153 , 0.00108473], dtype=float32),\n",
              " array([9.9999964e-01, 3.6418433e-07], dtype=float32),\n",
              " array([0.9965659 , 0.00343414], dtype=float32),\n",
              " array([9.9959713e-01, 4.0294329e-04], dtype=float32),\n",
              " array([9.9998677e-01, 1.3230771e-05], dtype=float32),\n",
              " array([9.999931e-01, 6.864856e-06], dtype=float32),\n",
              " array([0.99743456, 0.00256541], dtype=float32),\n",
              " array([9.9998105e-01, 1.8959741e-05], dtype=float32),\n",
              " array([9.9994874e-01, 5.1243918e-05], dtype=float32),\n",
              " array([9.9998450e-01, 1.5452306e-05], dtype=float32),\n",
              " array([9.99985933e-01, 1.40845805e-05], dtype=float32),\n",
              " array([9.9992824e-01, 7.1707960e-05], dtype=float32),\n",
              " array([9.9997008e-01, 2.9899333e-05], dtype=float32),\n",
              " array([9.999478e-01, 5.215270e-05], dtype=float32),\n",
              " array([9.9991369e-01, 8.6257314e-05], dtype=float32),\n",
              " array([9.999294e-01, 7.061570e-05], dtype=float32),\n",
              " array([9.9997938e-01, 2.0602369e-05], dtype=float32),\n",
              " array([9.9993861e-01, 6.1381106e-05], dtype=float32),\n",
              " array([9.9951291e-01, 4.8714943e-04], dtype=float32),\n",
              " array([9.999950e-01, 5.017433e-06], dtype=float32),\n",
              " array([0.9983144 , 0.00168559], dtype=float32),\n",
              " array([9.9999380e-01, 6.2203894e-06], dtype=float32),\n",
              " array([0.997389  , 0.00261094], dtype=float32),\n",
              " array([9.9998724e-01, 1.2771107e-05], dtype=float32),\n",
              " array([9.9998355e-01, 1.6450997e-05], dtype=float32),\n",
              " array([0.9827069 , 0.01729315], dtype=float32),\n",
              " array([9.9997818e-01, 2.1781112e-05], dtype=float32),\n",
              " array([0.9946635 , 0.00533655], dtype=float32),\n",
              " array([9.9943835e-01, 5.6163879e-04], dtype=float32),\n",
              " array([0.0290161, 0.9709839], dtype=float32),\n",
              " array([0.9969432 , 0.00305685], dtype=float32),\n",
              " array([9.9959248e-01, 4.0758873e-04], dtype=float32),\n",
              " array([9.999163e-01, 8.366820e-05], dtype=float32),\n",
              " array([9.9978513e-01, 2.1486357e-04], dtype=float32),\n",
              " array([9.9994457e-01, 5.5374217e-05], dtype=float32),\n",
              " array([9.9995756e-01, 4.2472464e-05], dtype=float32),\n",
              " array([9.999107e-01, 8.926357e-05], dtype=float32),\n",
              " array([9.9997807e-01, 2.1936348e-05], dtype=float32),\n",
              " array([9.9992967e-01, 7.0336522e-05], dtype=float32),\n",
              " array([9.997253e-01, 2.746884e-04], dtype=float32),\n",
              " array([9.993436e-01, 6.564692e-04], dtype=float32),\n",
              " array([9.9977964e-01, 2.2032783e-04], dtype=float32),\n",
              " array([9.9932003e-01, 6.7997508e-04], dtype=float32),\n",
              " array([0.9984415 , 0.00155846], dtype=float32),\n",
              " array([9.9973172e-01, 2.6822288e-04], dtype=float32),\n",
              " array([9.9999893e-01, 1.1264291e-06], dtype=float32),\n",
              " array([0.9981895, 0.0018105], dtype=float32),\n",
              " array([9.9998116e-01, 1.8804181e-05], dtype=float32),\n",
              " array([9.9989045e-01, 1.0952571e-04], dtype=float32),\n",
              " array([9.999434e-01, 5.661551e-05], dtype=float32),\n",
              " array([9.9998903e-01, 1.0988266e-05], dtype=float32),\n",
              " array([9.9999964e-01, 3.2176385e-07], dtype=float32),\n",
              " array([0.9892755 , 0.01072446], dtype=float32),\n",
              " array([9.9999678e-01, 3.1844418e-06], dtype=float32),\n",
              " array([9.9982280e-01, 1.7720801e-04], dtype=float32),\n",
              " array([9.9996984e-01, 3.0117109e-05], dtype=float32),\n",
              " array([9.9998808e-01, 1.1899553e-05], dtype=float32),\n",
              " array([9.9998581e-01, 1.4241691e-05], dtype=float32),\n",
              " array([9.998821e-01, 1.179219e-04], dtype=float32),\n",
              " array([9.9999964e-01, 3.3559866e-07], dtype=float32),\n",
              " array([9.9998808e-01, 1.1879834e-05], dtype=float32),\n",
              " array([9.9997568e-01, 2.4346169e-05], dtype=float32),\n",
              " array([9.9904972e-01, 9.5027854e-04], dtype=float32),\n",
              " array([9.9991393e-01, 8.6017950e-05], dtype=float32),\n",
              " array([9.9998307e-01, 1.6883405e-05], dtype=float32),\n",
              " array([9.9999917e-01, 7.9810627e-07], dtype=float32),\n",
              " array([0.99856204, 0.00143801], dtype=float32),\n",
              " array([9.9998105e-01, 1.8976836e-05], dtype=float32),\n",
              " array([9.9994671e-01, 5.3310043e-05], dtype=float32),\n",
              " array([9.9928230e-01, 7.1770034e-04], dtype=float32),\n",
              " array([9.9996984e-01, 3.0177140e-05], dtype=float32),\n",
              " array([9.9999094e-01, 9.0956773e-06], dtype=float32),\n",
              " array([9.997873e-01, 2.127378e-04], dtype=float32),\n",
              " array([9.995388e-01, 4.612850e-04], dtype=float32),\n",
              " array([9.9971002e-01, 2.8993547e-04], dtype=float32),\n",
              " array([0.99556136, 0.00443864], dtype=float32),\n",
              " array([9.9938226e-01, 6.1775505e-04], dtype=float32),\n",
              " array([9.9998260e-01, 1.7435656e-05], dtype=float32),\n",
              " array([9.9991953e-01, 8.0516598e-05], dtype=float32),\n",
              " array([9.991629e-01, 8.371155e-04], dtype=float32),\n",
              " array([9.999995e-01, 4.934208e-07], dtype=float32),\n",
              " array([9.992748e-01, 7.252466e-04], dtype=float32),\n",
              " array([9.9952936e-01, 4.7069858e-04], dtype=float32),\n",
              " array([9.9997842e-01, 2.1565538e-05], dtype=float32),\n",
              " array([9.9987686e-01, 1.2318167e-04], dtype=float32),\n",
              " array([9.9975342e-01, 2.4658124e-04], dtype=float32),\n",
              " array([9.9994421e-01, 5.5796314e-05], dtype=float32),\n",
              " array([9.999664e-01, 3.361570e-05], dtype=float32),\n",
              " array([9.9992657e-01, 7.3451338e-05], dtype=float32),\n",
              " array([9.9989116e-01, 1.0885415e-04], dtype=float32),\n",
              " array([9.9997830e-01, 2.1664173e-05], dtype=float32),\n",
              " array([9.9994576e-01, 5.4232190e-05], dtype=float32),\n",
              " array([9.9968266e-01, 3.1730937e-04], dtype=float32),\n",
              " array([9.9991095e-01, 8.9012145e-05], dtype=float32),\n",
              " array([9.9951994e-01, 4.8011279e-04], dtype=float32),\n",
              " array([9.995988e-01, 4.011660e-04], dtype=float32),\n",
              " array([9.9972421e-01, 2.7571592e-04], dtype=float32),\n",
              " array([9.9992716e-01, 7.2851632e-05], dtype=float32),\n",
              " array([0.12021311, 0.8797869 ], dtype=float32),\n",
              " array([9.9964106e-01, 3.5890372e-04], dtype=float32),\n",
              " array([9.9997532e-01, 2.4642944e-05], dtype=float32),\n",
              " array([0.9983589 , 0.00164104], dtype=float32),\n",
              " array([9.9955529e-01, 4.4469946e-04], dtype=float32),\n",
              " array([9.9948883e-01, 5.1115657e-04], dtype=float32),\n",
              " array([0.9877751 , 0.01222495], dtype=float32),\n",
              " array([9.9999893e-01, 1.1104853e-06], dtype=float32),\n",
              " array([0.9987924 , 0.00120752], dtype=float32),\n",
              " array([9.998012e-01, 1.987830e-04], dtype=float32),\n",
              " array([0.997624  , 0.00237608], dtype=float32),\n",
              " array([9.999956e-01, 4.451833e-06], dtype=float32),\n",
              " array([9.999591e-01, 4.088635e-05], dtype=float32),\n",
              " array([9.9948102e-01, 5.1898224e-04], dtype=float32),\n",
              " array([9.9998963e-01, 1.0328524e-05], dtype=float32),\n",
              " array([9.999151e-01, 8.484138e-05], dtype=float32),\n",
              " array([9.9994886e-01, 5.1147934e-05], dtype=float32),\n",
              " array([9.9995482e-01, 4.5127577e-05], dtype=float32),\n",
              " array([9.9999046e-01, 9.5411870e-06], dtype=float32),\n",
              " array([9.9911445e-01, 8.8552129e-04], dtype=float32),\n",
              " array([9.9927753e-01, 7.2244351e-04], dtype=float32),\n",
              " array([9.9996305e-01, 3.6917529e-05], dtype=float32),\n",
              " array([9.99985337e-01, 1.46612065e-05], dtype=float32),\n",
              " array([9.9987090e-01, 1.2907111e-04], dtype=float32),\n",
              " array([0.9713109 , 0.02868914], dtype=float32),\n",
              " array([9.9997211e-01, 2.7845734e-05], dtype=float32),\n",
              " array([9.9965346e-01, 3.4649763e-04], dtype=float32),\n",
              " array([9.999261e-01, 7.391332e-05], dtype=float32),\n",
              " array([9.9916327e-01, 8.3671790e-04], dtype=float32),\n",
              " array([9.9974996e-01, 2.5001433e-04], dtype=float32),\n",
              " array([9.9946290e-01, 5.3707726e-04], dtype=float32),\n",
              " array([9.9999762e-01, 2.3583584e-06], dtype=float32),\n",
              " array([9.9984896e-01, 1.5098578e-04], dtype=float32),\n",
              " array([9.9995852e-01, 4.1466476e-05], dtype=float32),\n",
              " array([9.9999237e-01, 7.6030246e-06], dtype=float32),\n",
              " array([0.04627794, 0.953722  ], dtype=float32),\n",
              " array([9.998704e-01, 1.295872e-04], dtype=float32),\n",
              " array([0.9962767 , 0.00372334], dtype=float32),\n",
              " array([9.9999964e-01, 3.0818504e-07], dtype=float32),\n",
              " array([9.9995923e-01, 4.0800744e-05], dtype=float32),\n",
              " array([0.9833392 , 0.01666077], dtype=float32),\n",
              " array([9.9992514e-01, 7.4886564e-05], dtype=float32),\n",
              " array([9.9996173e-01, 3.8238373e-05], dtype=float32),\n",
              " array([9.9999893e-01, 1.0328506e-06], dtype=float32),\n",
              " array([0.9952852 , 0.00471478], dtype=float32),\n",
              " array([9.9993277e-01, 6.7194815e-05], dtype=float32),\n",
              " array([0.99883145, 0.00116858], dtype=float32),\n",
              " array([9.9994361e-01, 5.6324712e-05], dtype=float32),\n",
              " array([9.9992967e-01, 7.0273767e-05], dtype=float32),\n",
              " array([9.993711e-01, 6.288979e-04], dtype=float32),\n",
              " array([0.9714317 , 0.02856829], dtype=float32),\n",
              " array([9.9996364e-01, 3.6405629e-05], dtype=float32),\n",
              " array([9.9999297e-01, 7.0795140e-06], dtype=float32),\n",
              " array([0.9985305, 0.0014695], dtype=float32),\n",
              " array([9.9947697e-01, 5.2301912e-04], dtype=float32),\n",
              " array([9.9993491e-01, 6.5134176e-05], dtype=float32),\n",
              " array([9.9999404e-01, 5.9251943e-06], dtype=float32),\n",
              " array([0.9956626 , 0.00433732], dtype=float32),\n",
              " array([9.9999344e-01, 6.5147397e-06], dtype=float32),\n",
              " array([9.9989867e-01, 1.0137422e-04], dtype=float32),\n",
              " array([9.99987006e-01, 1.30144745e-05], dtype=float32),\n",
              " array([9.9919146e-01, 8.0856698e-04], dtype=float32),\n",
              " array([9.999064e-01, 9.352134e-05], dtype=float32),\n",
              " array([9.999852e-01, 1.476215e-05], dtype=float32),\n",
              " array([9.9964035e-01, 3.5962125e-04], dtype=float32),\n",
              " array([9.9999130e-01, 8.7101125e-06], dtype=float32),\n",
              " array([9.9997437e-01, 2.5677668e-05], dtype=float32),\n",
              " array([9.9998510e-01, 1.4959696e-05], dtype=float32),\n",
              " array([9.9994457e-01, 5.5463006e-05], dtype=float32),\n",
              " array([9.9999285e-01, 7.1685608e-06], dtype=float32),\n",
              " array([9.9982482e-01, 1.7518712e-04], dtype=float32),\n",
              " array([9.9986172e-01, 1.3820807e-04], dtype=float32),\n",
              " array([9.9977976e-01, 2.2024845e-04], dtype=float32),\n",
              " array([9.999919e-01, 8.158306e-06], dtype=float32),\n",
              " array([9.9930537e-01, 6.9461850e-04], dtype=float32),\n",
              " array([9.9998319e-01, 1.6795035e-05], dtype=float32),\n",
              " array([0.9927448 , 0.00725527], dtype=float32),\n",
              " array([9.996251e-01, 3.749193e-04], dtype=float32),\n",
              " array([0.8536814 , 0.14631863], dtype=float32),\n",
              " array([9.9999750e-01, 2.5154702e-06], dtype=float32),\n",
              " array([0.9881484 , 0.01185161], dtype=float32),\n",
              " array([9.9991643e-01, 8.3501211e-05], dtype=float32),\n",
              " array([9.9992526e-01, 7.4734256e-05], dtype=float32),\n",
              " array([9.9996686e-01, 3.3141834e-05], dtype=float32),\n",
              " array([9.9999785e-01, 2.1759895e-06], dtype=float32),\n",
              " array([0.9744436 , 0.02555639], dtype=float32),\n",
              " array([9.999969e-01, 3.125826e-06], dtype=float32),\n",
              " array([9.999471e-01, 5.296521e-05], dtype=float32),\n",
              " array([9.9913663e-01, 8.6342276e-04], dtype=float32),\n",
              " array([9.9994683e-01, 5.3127187e-05], dtype=float32),\n",
              " array([0.99328035, 0.00671968], dtype=float32),\n",
              " array([0.98711383, 0.01288621], dtype=float32),\n",
              " array([0.9943963 , 0.00560374], dtype=float32),\n",
              " array([9.9932504e-01, 6.7496649e-04], dtype=float32),\n",
              " array([9.9980658e-01, 1.9345098e-04], dtype=float32),\n",
              " array([9.9998653e-01, 1.3486832e-05], dtype=float32),\n",
              " array([9.9999237e-01, 7.5887324e-06], dtype=float32),\n",
              " array([9.9996376e-01, 3.6207199e-05], dtype=float32),\n",
              " array([9.9999416e-01, 5.8409992e-06], dtype=float32),\n",
              " array([9.9999440e-01, 5.6034364e-06], dtype=float32),\n",
              " array([9.993629e-01, 6.370795e-04], dtype=float32),\n",
              " array([9.9908876e-01, 9.1121008e-04], dtype=float32),\n",
              " array([0.997951  , 0.00204904], dtype=float32),\n",
              " array([9.9961483e-01, 3.8511888e-04], dtype=float32),\n",
              " array([9.9959463e-01, 4.0544008e-04], dtype=float32),\n",
              " array([9.9999642e-01, 3.5866374e-06], dtype=float32),\n",
              " array([9.9988592e-01, 1.1404994e-04], dtype=float32),\n",
              " array([9.9993873e-01, 6.1307874e-05], dtype=float32),\n",
              " array([9.999943e-01, 5.729341e-06], dtype=float32),\n",
              " array([9.9986565e-01, 1.3435043e-04], dtype=float32),\n",
              " array([9.999362e-01, 6.373960e-05], dtype=float32),\n",
              " array([9.9997091e-01, 2.9078838e-05], dtype=float32),\n",
              " array([9.9997687e-01, 2.3092984e-05], dtype=float32),\n",
              " array([9.9980634e-01, 1.9369443e-04], dtype=float32),\n",
              " array([9.9999988e-01, 1.7022131e-07], dtype=float32),\n",
              " array([9.9960274e-01, 3.9734325e-04], dtype=float32),\n",
              " array([9.9999940e-01, 6.0596653e-07], dtype=float32),\n",
              " array([9.9999666e-01, 3.3972347e-06], dtype=float32),\n",
              " array([9.9999666e-01, 3.3578383e-06], dtype=float32),\n",
              " array([9.9994683e-01, 5.3163425e-05], dtype=float32),\n",
              " array([9.9999046e-01, 9.5111254e-06], dtype=float32),\n",
              " array([9.9996376e-01, 3.6291654e-05], dtype=float32),\n",
              " array([9.9954575e-01, 4.5425748e-04], dtype=float32),\n",
              " array([0.9725443 , 0.02745571], dtype=float32),\n",
              " array([9.999429e-01, 5.714077e-05], dtype=float32),\n",
              " array([9.999919e-01, 8.144958e-06], dtype=float32),\n",
              " array([9.9957436e-01, 4.2568918e-04], dtype=float32),\n",
              " array([9.9994981e-01, 5.0178598e-05], dtype=float32),\n",
              " array([9.999058e-01, 9.413109e-05], dtype=float32),\n",
              " array([9.9944335e-01, 5.5668550e-04], dtype=float32),\n",
              " array([9.9990404e-01, 9.5915464e-05], dtype=float32),\n",
              " array([9.9998367e-01, 1.6375287e-05], dtype=float32),\n",
              " array([0.98041385, 0.01958616], dtype=float32),\n",
              " array([9.9944764e-01, 5.5237941e-04], dtype=float32),\n",
              " array([0.99891376, 0.0010863 ], dtype=float32),\n",
              " array([9.9996865e-01, 3.1410629e-05], dtype=float32),\n",
              " array([9.9997842e-01, 2.1629636e-05], dtype=float32),\n",
              " array([0.9986093 , 0.00139067], dtype=float32),\n",
              " array([9.999902e-01, 9.795835e-06], dtype=float32),\n",
              " array([9.9995804e-01, 4.1982828e-05], dtype=float32),\n",
              " array([9.9998224e-01, 1.7710861e-05], dtype=float32),\n",
              " array([9.99884367e-01, 1.15561306e-04], dtype=float32),\n",
              " array([9.9998868e-01, 1.1366232e-05], dtype=float32),\n",
              " array([9.9999869e-01, 1.2999202e-06], dtype=float32),\n",
              " array([0.99721295, 0.00278709], dtype=float32),\n",
              " array([9.9990535e-01, 9.4692419e-05], dtype=float32),\n",
              " array([9.9971551e-01, 2.8448948e-04], dtype=float32),\n",
              " array([9.9961925e-01, 3.8076052e-04], dtype=float32),\n",
              " array([9.9999392e-01, 6.1130695e-06], dtype=float32),\n",
              " array([0.99702543, 0.00297453], dtype=float32),\n",
              " array([9.99899030e-01, 1.00935904e-04], dtype=float32),\n",
              " array([0.0049923 , 0.99500763], dtype=float32),\n",
              " array([9.9992657e-01, 7.3426818e-05], dtype=float32),\n",
              " array([9.9986732e-01, 1.3269606e-04], dtype=float32),\n",
              " array([0.9983084 , 0.00169155], dtype=float32),\n",
              " array([9.99987006e-01, 1.29527125e-05], dtype=float32),\n",
              " array([9.9923646e-01, 7.6351967e-04], dtype=float32),\n",
              " array([9.9991989e-01, 8.0100224e-05], dtype=float32),\n",
              " array([9.9997103e-01, 2.8973211e-05], dtype=float32),\n",
              " array([9.9984515e-01, 1.5478078e-04], dtype=float32),\n",
              " array([9.9996746e-01, 3.2601380e-05], dtype=float32),\n",
              " array([9.9984884e-01, 1.5118474e-04], dtype=float32),\n",
              " array([9.9999893e-01, 1.0164431e-06], dtype=float32),\n",
              " array([9.9999976e-01, 2.7686141e-07], dtype=float32),\n",
              " array([9.994442e-01, 5.557667e-04], dtype=float32),\n",
              " array([9.9997044e-01, 2.9532242e-05], dtype=float32),\n",
              " array([9.999571e-01, 4.293962e-05], dtype=float32),\n",
              " array([0.99468994, 0.00531011], dtype=float32),\n",
              " array([9.9930203e-01, 6.9794763e-04], dtype=float32),\n",
              " array([9.990283e-01, 9.717090e-04], dtype=float32),\n",
              " array([9.9999702e-01, 2.9667212e-06], dtype=float32),\n",
              " array([9.9991775e-01, 8.2254985e-05], dtype=float32),\n",
              " array([9.9995363e-01, 4.6315563e-05], dtype=float32),\n",
              " array([0.9973564 , 0.00264366], dtype=float32),\n",
              " array([9.996798e-01, 3.202143e-04], dtype=float32),\n",
              " array([9.9916673e-01, 8.3331054e-04], dtype=float32),\n",
              " array([9.9999154e-01, 8.4946514e-06], dtype=float32),\n",
              " array([0.06779768, 0.93220234], dtype=float32),\n",
              " array([9.9999058e-01, 9.3885465e-06], dtype=float32),\n",
              " array([9.999583e-01, 4.167643e-05], dtype=float32),\n",
              " array([9.999187e-01, 8.130412e-05], dtype=float32),\n",
              " array([9.9998295e-01, 1.7085971e-05], dtype=float32),\n",
              " array([0.978687, 0.021313], dtype=float32),\n",
              " array([9.999294e-01, 7.062473e-05], dtype=float32),\n",
              " array([9.9999213e-01, 7.8472567e-06], dtype=float32),\n",
              " array([9.9998820e-01, 1.1809406e-05], dtype=float32),\n",
              " array([0.9862001 , 0.01379987], dtype=float32),\n",
              " array([0.08997744, 0.91002256], dtype=float32),\n",
              " array([9.9999595e-01, 4.0584196e-06], dtype=float32),\n",
              " array([9.999199e-01, 8.008265e-05], dtype=float32),\n",
              " array([0.05755618, 0.94244385], dtype=float32),\n",
              " array([9.995920e-01, 4.080496e-04], dtype=float32),\n",
              " array([9.9943691e-01, 5.6305435e-04], dtype=float32),\n",
              " array([9.9995565e-01, 4.4370812e-05], dtype=float32),\n",
              " array([9.9999166e-01, 8.3803998e-06], dtype=float32),\n",
              " array([9.9945396e-01, 5.4609583e-04], dtype=float32),\n",
              " array([0.9423562 , 0.05764377], dtype=float32),\n",
              " array([9.998037e-01, 1.963436e-04], dtype=float32),\n",
              " array([9.9996555e-01, 3.4436220e-05], dtype=float32),\n",
              " array([9.9986053e-01, 1.3948517e-04], dtype=float32),\n",
              " array([0.9972018 , 0.00279825], dtype=float32),\n",
              " array([9.9997878e-01, 2.1250711e-05], dtype=float32),\n",
              " array([9.999734e-01, 2.663237e-05], dtype=float32),\n",
              " array([9.9983954e-01, 1.6046991e-04], dtype=float32),\n",
              " array([9.9999309e-01, 6.8593786e-06], dtype=float32),\n",
              " array([9.9999714e-01, 2.8573922e-06], dtype=float32),\n",
              " array([0.99596465, 0.00403534], dtype=float32),\n",
              " array([9.9998701e-01, 1.2998846e-05], dtype=float32),\n",
              " array([9.999964e-01, 3.575995e-06], dtype=float32),\n",
              " array([9.9990976e-01, 9.0241403e-05], dtype=float32),\n",
              " array([0.997778  , 0.00222196], dtype=float32),\n",
              " array([9.999908e-01, 9.188949e-06], dtype=float32),\n",
              " array([9.9988329e-01, 1.1673732e-04], dtype=float32),\n",
              " array([9.9997449e-01, 2.5458003e-05], dtype=float32),\n",
              " array([0.9988701 , 0.00112992], dtype=float32),\n",
              " array([9.9955148e-01, 4.4847565e-04], dtype=float32),\n",
              " array([9.9996781e-01, 3.2191598e-05], dtype=float32),\n",
              " array([9.9998045e-01, 1.9517991e-05], dtype=float32),\n",
              " array([0.9989034 , 0.00109661], dtype=float32),\n",
              " array([9.999920e-01, 8.013905e-06], dtype=float32),\n",
              " array([9.996055e-01, 3.945847e-04], dtype=float32),\n",
              " array([9.99878526e-01, 1.21498786e-04], dtype=float32),\n",
              " array([9.9926823e-01, 7.3172955e-04], dtype=float32),\n",
              " array([9.994573e-01, 5.426772e-04], dtype=float32),\n",
              " array([9.9987435e-01, 1.2567309e-04], dtype=float32),\n",
              " array([9.9996090e-01, 3.9143157e-05], dtype=float32),\n",
              " array([9.9993122e-01, 6.8815876e-05], dtype=float32),\n",
              " array([9.9991405e-01, 8.5991393e-05], dtype=float32),\n",
              " array([9.9996984e-01, 3.0213192e-05], dtype=float32),\n",
              " array([9.999778e-01, 2.211356e-05], dtype=float32),\n",
              " array([0.98471284, 0.01528721], dtype=float32),\n",
              " array([9.9994016e-01, 5.9818580e-05], dtype=float32),\n",
              " array([9.9995375e-01, 4.6292604e-05], dtype=float32),\n",
              " array([9.9981457e-01, 1.8541588e-04], dtype=float32),\n",
              " array([9.999131e-01, 8.690104e-05], dtype=float32),\n",
              " array([9.999949e-01, 5.164996e-06], dtype=float32),\n",
              " array([9.9970502e-01, 2.9491915e-04], dtype=float32),\n",
              " array([9.9997270e-01, 2.7268547e-05], dtype=float32),\n",
              " array([9.999937e-01, 6.285262e-06], dtype=float32),\n",
              " array([0.04374401, 0.956256  ], dtype=float32),\n",
              " array([9.9996591e-01, 3.4079538e-05], dtype=float32),\n",
              " array([0.9984743 , 0.00152569], dtype=float32),\n",
              " array([9.9938059e-01, 6.1935856e-04], dtype=float32),\n",
              " array([9.9990976e-01, 9.0289861e-05], dtype=float32),\n",
              " array([0.99831945, 0.00168056], dtype=float32),\n",
              " array([9.9999166e-01, 8.3616624e-06], dtype=float32),\n",
              " array([9.9996412e-01, 3.5904555e-05], dtype=float32),\n",
              " array([9.9995852e-01, 4.1510793e-05], dtype=float32),\n",
              " array([9.9999595e-01, 4.1008384e-06], dtype=float32),\n",
              " array([9.992372e-01, 7.628211e-04], dtype=float32),\n",
              " array([9.9998927e-01, 1.0729417e-05], dtype=float32),\n",
              " array([9.9914551e-01, 8.5443875e-04], dtype=float32),\n",
              " array([9.9959725e-01, 4.0273819e-04], dtype=float32),\n",
              " array([9.9999571e-01, 4.3031737e-06], dtype=float32),\n",
              " array([9.9985993e-01, 1.4003101e-04], dtype=float32),\n",
              " array([9.99985337e-01, 1.47213395e-05], dtype=float32),\n",
              " array([9.9999833e-01, 1.7057148e-06], dtype=float32),\n",
              " array([0.99826366, 0.00173638], dtype=float32),\n",
              " array([0.9975827 , 0.00241735], dtype=float32),\n",
              " array([9.9974865e-01, 2.5131807e-04], dtype=float32),\n",
              " array([0.9977022 , 0.00229787], dtype=float32),\n",
              " array([9.9990344e-01, 9.6503813e-05], dtype=float32),\n",
              " array([9.9999774e-01, 2.2565187e-06], dtype=float32),\n",
              " array([0.9963141 , 0.00368589], dtype=float32),\n",
              " array([9.9999559e-01, 4.4157773e-06], dtype=float32),\n",
              " array([0.9929174 , 0.00708265], dtype=float32),\n",
              " array([9.9993229e-01, 6.7671055e-05], dtype=float32),\n",
              " array([0.62588555, 0.37411448], dtype=float32),\n",
              " array([9.9998641e-01, 1.3633855e-05], dtype=float32),\n",
              " array([9.9989367e-01, 1.0631881e-04], dtype=float32),\n",
              " array([9.9963760e-01, 3.6238309e-04], dtype=float32),\n",
              " array([9.9999368e-01, 6.2923505e-06], dtype=float32),\n",
              " array([0.98272425, 0.01727575], dtype=float32),\n",
              " array([9.999924e-01, 7.646603e-06], dtype=float32),\n",
              " array([0.9942273 , 0.00577273], dtype=float32),\n",
              " array([9.99887109e-01, 1.12890135e-04], dtype=float32),\n",
              " array([9.9991751e-01, 8.2483944e-05], dtype=float32),\n",
              " array([9.9981660e-01, 1.8345543e-04], dtype=float32),\n",
              " array([9.9998116e-01, 1.8833687e-05], dtype=float32),\n",
              " array([9.9991214e-01, 8.7851389e-05], dtype=float32),\n",
              " array([9.9943095e-01, 5.6907820e-04], dtype=float32),\n",
              " array([9.9991727e-01, 8.2684528e-05], dtype=float32),\n",
              " array([9.9997735e-01, 2.2652428e-05], dtype=float32),\n",
              " array([9.9973947e-01, 2.6053868e-04], dtype=float32),\n",
              " array([9.995763e-01, 4.236973e-04], dtype=float32),\n",
              " array([0.9988808 , 0.00111914], dtype=float32),\n",
              " array([9.9997437e-01, 2.5617692e-05], dtype=float32),\n",
              " array([9.999968e-01, 3.232144e-06], dtype=float32),\n",
              " array([0.9982017 , 0.00179824], dtype=float32),\n",
              " array([9.9999046e-01, 9.5627584e-06], dtype=float32),\n",
              " array([9.9992061e-01, 7.9342666e-05], dtype=float32),\n",
              " array([0.99244046, 0.00755953], dtype=float32),\n",
              " array([9.9933463e-01, 6.6534110e-04], dtype=float32),\n",
              " array([9.99988317e-01, 1.16715455e-05], dtype=float32),\n",
              " array([9.9998498e-01, 1.5008881e-05], dtype=float32),\n",
              " array([9.999447e-01, 5.527846e-05], dtype=float32),\n",
              " array([9.9997401e-01, 2.5991962e-05], dtype=float32),\n",
              " array([9.99961e-01, 3.90313e-05], dtype=float32),\n",
              " array([9.9996722e-01, 3.2829317e-05], dtype=float32),\n",
              " array([0.9829626 , 0.01703736], dtype=float32),\n",
              " array([9.9980861e-01, 1.9135741e-04], dtype=float32),\n",
              " array([9.9997342e-01, 2.6587932e-05], dtype=float32),\n",
              " array([9.9998903e-01, 1.0995908e-05], dtype=float32),\n",
              " array([9.999908e-01, 9.195252e-06], dtype=float32),\n",
              " array([9.9960881e-01, 3.9122606e-04], dtype=float32),\n",
              " array([0.99812406, 0.00187588], dtype=float32),\n",
              " array([9.9986053e-01, 1.3942266e-04], dtype=float32),\n",
              " array([0.9963909 , 0.00360907], dtype=float32),\n",
              " array([9.996394e-01, 3.606167e-04], dtype=float32),\n",
              " array([9.9997580e-01, 2.4203751e-05], dtype=float32),\n",
              " array([0.34080097, 0.659199  ], dtype=float32),\n",
              " array([9.9924505e-01, 7.5496669e-04], dtype=float32),\n",
              " array([9.9999762e-01, 2.4352728e-06], dtype=float32),\n",
              " array([0.99352276, 0.00647717], dtype=float32),\n",
              " array([9.9977332e-01, 2.2668431e-04], dtype=float32),\n",
              " array([9.9995983e-01, 4.0153962e-05], dtype=float32),\n",
              " array([9.9996877e-01, 3.1213487e-05], dtype=float32),\n",
              " array([9.999919e-01, 8.126035e-06], dtype=float32),\n",
              " array([0.92507255, 0.07492746], dtype=float32),\n",
              " array([9.9985576e-01, 1.4424103e-04], dtype=float32),\n",
              " array([9.9986625e-01, 1.3370274e-04], dtype=float32),\n",
              " array([9.9985862e-01, 1.4135837e-04], dtype=float32),\n",
              " array([9.9999297e-01, 6.9804728e-06], dtype=float32),\n",
              " array([0.9988167 , 0.00118325], dtype=float32),\n",
              " array([9.9999952e-01, 5.2468204e-07], dtype=float32),\n",
              " array([9.9965703e-01, 3.4295031e-04], dtype=float32),\n",
              " array([0.9986305 , 0.00136956], dtype=float32),\n",
              " array([9.994425e-01, 5.574431e-04], dtype=float32),\n",
              " array([9.9978954e-01, 2.1048069e-04], dtype=float32),\n",
              " array([9.9977189e-01, 2.2810246e-04], dtype=float32),\n",
              " array([9.9961424e-01, 3.8570201e-04], dtype=float32),\n",
              " array([9.9993265e-01, 6.7330802e-05], dtype=float32),\n",
              " array([9.9991703e-01, 8.2994906e-05], dtype=float32),\n",
              " array([9.9999785e-01, 2.1521323e-06], dtype=float32),\n",
              " array([9.9953258e-01, 4.6748316e-04], dtype=float32),\n",
              " array([0.9882555 , 0.01174454], dtype=float32),\n",
              " array([9.9964273e-01, 3.5722184e-04], dtype=float32),\n",
              " array([9.999927e-01, 7.279227e-06], dtype=float32),\n",
              " array([9.9995255e-01, 4.7416295e-05], dtype=float32),\n",
              " array([0.9980482 , 0.00195186], dtype=float32),\n",
              " array([9.9976879e-01, 2.3118529e-04], dtype=float32),\n",
              " array([9.9957186e-01, 4.2809395e-04], dtype=float32),\n",
              " array([9.9999106e-01, 8.9523146e-06], dtype=float32),\n",
              " array([9.999558e-01, 4.419935e-05], dtype=float32),\n",
              " array([9.9980730e-01, 1.9270851e-04], dtype=float32),\n",
              " array([9.99946e-01, 5.40150e-05], dtype=float32),\n",
              " array([9.9999344e-01, 6.5411923e-06], dtype=float32),\n",
              " array([9.9916470e-01, 8.3536806e-04], dtype=float32),\n",
              " array([9.9997723e-01, 2.2761869e-05], dtype=float32),\n",
              " array([9.999745e-01, 2.553591e-05], dtype=float32),\n",
              " array([9.9989843e-01, 1.0157190e-04], dtype=float32),\n",
              " array([9.9999166e-01, 8.3682444e-06], dtype=float32),\n",
              " array([9.9997938e-01, 2.0602369e-05], dtype=float32),\n",
              " array([9.9996805e-01, 3.1935731e-05], dtype=float32),\n",
              " array([9.9998438e-01, 1.5661508e-05], dtype=float32),\n",
              " array([9.9967325e-01, 3.2676023e-04], dtype=float32),\n",
              " array([9.9998856e-01, 1.1384934e-05], dtype=float32),\n",
              " array([9.9945706e-01, 5.4294185e-04], dtype=float32),\n",
              " array([9.9997067e-01, 2.9362067e-05], dtype=float32),\n",
              " array([9.999410e-01, 5.898577e-05], dtype=float32),\n",
              " array([9.999311e-01, 6.889520e-05], dtype=float32),\n",
              " array([0.9989435 , 0.00105651], dtype=float32),\n",
              " array([9.9967980e-01, 3.2024825e-04], dtype=float32),\n",
              " array([9.9998665e-01, 1.3312355e-05], dtype=float32),\n",
              " array([9.9983692e-01, 1.6309245e-04], dtype=float32),\n",
              " array([9.9999416e-01, 5.8082310e-06], dtype=float32),\n",
              " array([9.9999249e-01, 7.4691934e-06], dtype=float32),\n",
              " array([9.993944e-01, 6.055985e-04], dtype=float32),\n",
              " array([0.9789853, 0.0210147], dtype=float32),\n",
              " array([9.991652e-01, 8.348138e-04], dtype=float32),\n",
              " array([0.99850625, 0.00149378], dtype=float32),\n",
              " array([9.999057e-01, 9.433192e-05], dtype=float32),\n",
              " array([9.9985647e-01, 1.4355496e-04], dtype=float32),\n",
              " array([9.990269e-01, 9.731084e-04], dtype=float32),\n",
              " array([0.01007374, 0.9899262 ], dtype=float32),\n",
              " array([0.987588  , 0.01241201], dtype=float32),\n",
              " array([0.00443842, 0.9955616 ], dtype=float32),\n",
              " array([9.9997473e-01, 2.5317266e-05], dtype=float32),\n",
              " array([0.97998023, 0.02001978], dtype=float32),\n",
              " array([9.9997497e-01, 2.5007932e-05], dtype=float32),\n",
              " array([9.9979097e-01, 2.0906879e-04], dtype=float32),\n",
              " array([9.9998283e-01, 1.7106791e-05], dtype=float32),\n",
              " array([9.9998081e-01, 1.9176152e-05], dtype=float32),\n",
              " array([9.9997675e-01, 2.3304818e-05], dtype=float32),\n",
              " array([9.9980146e-01, 1.9851707e-04], dtype=float32),\n",
              " array([9.9998593e-01, 1.4096675e-05], dtype=float32),\n",
              " array([9.9999619e-01, 3.8599105e-06], dtype=float32),\n",
              " array([9.9955696e-01, 4.4306257e-04], dtype=float32),\n",
              " array([9.9979550e-01, 2.0448606e-04], dtype=float32),\n",
              " array([9.9995852e-01, 4.1510793e-05], dtype=float32),\n",
              " array([9.999901e-01, 9.880283e-06], dtype=float32),\n",
              " array([9.9972981e-01, 2.7022994e-04], dtype=float32),\n",
              " array([9.9949539e-01, 5.0458644e-04], dtype=float32),\n",
              " array([9.99986887e-01, 1.31387815e-05], dtype=float32),\n",
              " array([0.9897077 , 0.01029227], dtype=float32),\n",
              " array([9.9998987e-01, 1.0111807e-05], dtype=float32),\n",
              " array([9.9932075e-01, 6.7926524e-04], dtype=float32),\n",
              " array([9.999299e-01, 7.003974e-05], dtype=float32),\n",
              " array([9.999652e-01, 3.482858e-05], dtype=float32),\n",
              " array([9.9938917e-01, 6.1079575e-04], dtype=float32),\n",
              " array([0.99758255, 0.00241742], dtype=float32),\n",
              " array([9.9998271e-01, 1.7331033e-05], dtype=float32),\n",
              " array([9.9954116e-01, 4.5891976e-04], dtype=float32),\n",
              " array([9.999112e-01, 8.879164e-05], dtype=float32),\n",
              " array([9.999175e-01, 8.243810e-05], dtype=float32),\n",
              " array([9.9966609e-01, 3.3389448e-04], dtype=float32),\n",
              " array([9.997445e-01, 2.555102e-04], dtype=float32),\n",
              " array([9.9982649e-01, 1.7355589e-04], dtype=float32),\n",
              " array([9.9999821e-01, 1.7505946e-06], dtype=float32),\n",
              " array([9.9974591e-01, 2.5413002e-04], dtype=float32),\n",
              " array([9.999113e-01, 8.862441e-05], dtype=float32),\n",
              " array([9.9997234e-01, 2.7633392e-05], dtype=float32),\n",
              " array([9.9999738e-01, 2.6656548e-06], dtype=float32),\n",
              " array([9.999664e-01, 3.360833e-05], dtype=float32),\n",
              " array([9.9904066e-01, 9.5936802e-04], dtype=float32),\n",
              " array([9.9969172e-01, 3.0832633e-04], dtype=float32),\n",
              " array([9.9998951e-01, 1.0449714e-05], dtype=float32),\n",
              " ...]"
            ]
          },
          "metadata": {
            "tags": []
          },
          "execution_count": 49
        }
      ]
    },
    {
      "cell_type": "code",
      "metadata": {
        "id": "8OFhqUVPAny9"
      },
      "source": [
        "pred_df = pd.DataFrame(pred,columns=[\"neg\",\"pos\"])"
      ],
      "execution_count": null,
      "outputs": []
    },
    {
      "cell_type": "code",
      "metadata": {
        "id": "2LShDqCKAn75"
      },
      "source": [
        "pred_df[\"active\"] = [int(x) for x in valid_dataset.y]\n",
        "pred_df[\"SMILES\"] = valid_dataset.ids"
      ],
      "execution_count": null,
      "outputs": []
    },
    {
      "cell_type": "code",
      "metadata": {
        "colab": {
          "base_uri": "https://localhost:8080/",
          "height": 204
        },
        "id": "tYDzF0vaAoDI",
        "outputId": "8441e966-b2b0-4176-9185-5f7ca1a5dbaf"
      },
      "source": [
        "pred_df.head()"
      ],
      "execution_count": null,
      "outputs": [
        {
          "output_type": "execute_result",
          "data": {
            "text/html": [
              "<div>\n",
              "<style scoped>\n",
              "    .dataframe tbody tr th:only-of-type {\n",
              "        vertical-align: middle;\n",
              "    }\n",
              "\n",
              "    .dataframe tbody tr th {\n",
              "        vertical-align: top;\n",
              "    }\n",
              "\n",
              "    .dataframe thead th {\n",
              "        text-align: right;\n",
              "    }\n",
              "</style>\n",
              "<table border=\"1\" class=\"dataframe\">\n",
              "  <thead>\n",
              "    <tr style=\"text-align: right;\">\n",
              "      <th></th>\n",
              "      <th>neg</th>\n",
              "      <th>pos</th>\n",
              "      <th>active</th>\n",
              "      <th>SMILES</th>\n",
              "    </tr>\n",
              "  </thead>\n",
              "  <tbody>\n",
              "    <tr>\n",
              "      <th>0</th>\n",
              "      <td>0.999899</td>\n",
              "      <td>0.000101</td>\n",
              "      <td>0</td>\n",
              "      <td>Cc1ccc(cc1)c2c3ccccc3c(=O)n(n2)CC(=O)NCc4cc(cc...</td>\n",
              "    </tr>\n",
              "    <tr>\n",
              "      <th>1</th>\n",
              "      <td>0.999906</td>\n",
              "      <td>0.000094</td>\n",
              "      <td>0</td>\n",
              "      <td>Cc1ccccc1n2c(=O)c3ccccc3n4c2nnc4S[C@H](C)C(=O)...</td>\n",
              "    </tr>\n",
              "    <tr>\n",
              "      <th>2</th>\n",
              "      <td>0.999364</td>\n",
              "      <td>0.000636</td>\n",
              "      <td>0</td>\n",
              "      <td>O=C(O)c1ccc([C@@H]2NCc3ccccc3-n3cccc32)cc1</td>\n",
              "    </tr>\n",
              "    <tr>\n",
              "      <th>3</th>\n",
              "      <td>0.999430</td>\n",
              "      <td>0.000570</td>\n",
              "      <td>0</td>\n",
              "      <td>COc1cccc(c1)N2C(=O)[C@@H]3[C@@H](N[C@]4([C@@H]...</td>\n",
              "    </tr>\n",
              "    <tr>\n",
              "      <th>4</th>\n",
              "      <td>0.999995</td>\n",
              "      <td>0.000005</td>\n",
              "      <td>0</td>\n",
              "      <td>CC(C)[C@H](C(=O)OCC(=O)NC12CC3CC(C1)CC(C3)C2)N...</td>\n",
              "    </tr>\n",
              "  </tbody>\n",
              "</table>\n",
              "</div>"
            ],
            "text/plain": [
              "        neg  ...                                             SMILES\n",
              "0  0.999899  ...  Cc1ccc(cc1)c2c3ccccc3c(=O)n(n2)CC(=O)NCc4cc(cc...\n",
              "1  0.999906  ...  Cc1ccccc1n2c(=O)c3ccccc3n4c2nnc4S[C@H](C)C(=O)...\n",
              "2  0.999364  ...         O=C(O)c1ccc([C@@H]2NCc3ccccc3-n3cccc32)cc1\n",
              "3  0.999430  ...  COc1cccc(c1)N2C(=O)[C@@H]3[C@@H](N[C@]4([C@@H]...\n",
              "4  0.999995  ...  CC(C)[C@H](C(=O)OCC(=O)NC12CC3CC(C1)CC(C3)C2)N...\n",
              "\n",
              "[5 rows x 4 columns]"
            ]
          },
          "metadata": {
            "tags": []
          },
          "execution_count": 52
        }
      ]
    },
    {
      "cell_type": "code",
      "metadata": {
        "id": "yfT3jvOwGXuf"
      },
      "source": [
        ""
      ],
      "execution_count": null,
      "outputs": []
    },
    {
      "cell_type": "code",
      "metadata": {
        "colab": {
          "base_uri": "https://localhost:8080/",
          "height": 204
        },
        "id": "rbwKEBv1A_yk",
        "outputId": "109ed64b-058c-476d-ec9f-ad445cbe8275"
      },
      "source": [
        "pred_df.sort_values(\"pos\",ascending=False).head(5)"
      ],
      "execution_count": null,
      "outputs": [
        {
          "output_type": "execute_result",
          "data": {
            "text/html": [
              "<div>\n",
              "<style scoped>\n",
              "    .dataframe tbody tr th:only-of-type {\n",
              "        vertical-align: middle;\n",
              "    }\n",
              "\n",
              "    .dataframe tbody tr th {\n",
              "        vertical-align: top;\n",
              "    }\n",
              "\n",
              "    .dataframe thead th {\n",
              "        text-align: right;\n",
              "    }\n",
              "</style>\n",
              "<table border=\"1\" class=\"dataframe\">\n",
              "  <thead>\n",
              "    <tr style=\"text-align: right;\">\n",
              "      <th></th>\n",
              "      <th>neg</th>\n",
              "      <th>pos</th>\n",
              "      <th>active</th>\n",
              "      <th>SMILES</th>\n",
              "    </tr>\n",
              "  </thead>\n",
              "  <tbody>\n",
              "    <tr>\n",
              "      <th>94</th>\n",
              "      <td>0.003197</td>\n",
              "      <td>0.996804</td>\n",
              "      <td>1</td>\n",
              "      <td>Oc4ccc(Nc2[nH]nc3ncnc(Nc1cccc(Cl)c1)c23)cc4</td>\n",
              "    </tr>\n",
              "    <tr>\n",
              "      <th>38</th>\n",
              "      <td>0.004381</td>\n",
              "      <td>0.995619</td>\n",
              "      <td>1</td>\n",
              "      <td>CN5CCN(Cc4ccc(NC(=O)c3ccc(C)c(C#Cc1cnc2cnccn12...</td>\n",
              "    </tr>\n",
              "    <tr>\n",
              "      <th>959</th>\n",
              "      <td>0.004438</td>\n",
              "      <td>0.995562</td>\n",
              "      <td>1</td>\n",
              "      <td>C7CCN(C6CCN(c5ccc4[nH]c(c2n[nH]c3ccc(NCc1nccs1...</td>\n",
              "    </tr>\n",
              "    <tr>\n",
              "      <th>734</th>\n",
              "      <td>0.004992</td>\n",
              "      <td>0.995008</td>\n",
              "      <td>1</td>\n",
              "      <td>O=C(Nc3cccc(Nc2nccc(c1cccnc1)n2)c3)c4ccncc4</td>\n",
              "    </tr>\n",
              "    <tr>\n",
              "      <th>1044</th>\n",
              "      <td>0.006287</td>\n",
              "      <td>0.993713</td>\n",
              "      <td>1</td>\n",
              "      <td>CP(C)(=O)c5ccc(Nc3ncnc4n(/C=C/c1cccc2[nH]ccc12...</td>\n",
              "    </tr>\n",
              "  </tbody>\n",
              "</table>\n",
              "</div>"
            ],
            "text/plain": [
              "           neg  ...                                             SMILES\n",
              "94    0.003197  ...        Oc4ccc(Nc2[nH]nc3ncnc(Nc1cccc(Cl)c1)c23)cc4\n",
              "38    0.004381  ...  CN5CCN(Cc4ccc(NC(=O)c3ccc(C)c(C#Cc1cnc2cnccn12...\n",
              "959   0.004438  ...  C7CCN(C6CCN(c5ccc4[nH]c(c2n[nH]c3ccc(NCc1nccs1...\n",
              "734   0.004992  ...        O=C(Nc3cccc(Nc2nccc(c1cccnc1)n2)c3)c4ccncc4\n",
              "1044  0.006287  ...  CP(C)(=O)c5ccc(Nc3ncnc4n(/C=C/c1cccc2[nH]ccc12...\n",
              "\n",
              "[5 rows x 4 columns]"
            ]
          },
          "metadata": {
            "tags": []
          },
          "execution_count": 53
        }
      ]
    },
    {
      "cell_type": "code",
      "metadata": {
        "colab": {
          "base_uri": "https://localhost:8080/",
          "height": 296
        },
        "id": "LchiMUcXA_8y",
        "outputId": "d040cc07-d97b-41f0-b279-6828109fd77a"
      },
      "source": [
        "sns.boxplot(pred_df.active,pred_df.pos)"
      ],
      "execution_count": null,
      "outputs": [
        {
          "output_type": "execute_result",
          "data": {
            "text/plain": [
              "<matplotlib.axes._subplots.AxesSubplot at 0x7fb6d34a1780>"
            ]
          },
          "metadata": {
            "tags": []
          },
          "execution_count": 54
        },
        {
          "output_type": "display_data",
          "data": {
            "image/png": "[encoded data removed]",
            "text/plain": [
              "<Figure size 432x288 with 1 Axes>"
            ]
          },
          "metadata": {
            "tags": [],
            "needs_background": "light"
          }
        }
      ]
    },
    {
      "cell_type": "code",
      "metadata": {
        "id": "44fgF42yBAGh"
      },
      "source": [
        "import deepchem as dch \n",
        "import pandas as pd \n",
        "from rdkit.Chem import PandasTools, Draw \n",
        "from rdkit import DataStructs \n",
        "from rdkit.ML.Cluster import Butina \n",
        "from rdkit.Chem import rdMolDescriptors as rdmd \n",
        "import seaborn as sns"
      ],
      "execution_count": null,
      "outputs": []
    },
    {
      "cell_type": "code",
      "metadata": {
        "colab": {
          "base_uri": "https://localhost:8080/"
        },
        "id": "K8OmNe1kBaId",
        "outputId": "83c8e2ee-1c63-471b-c3b6-ccd66da58802"
      },
      "source": [
        "featurizer= dch.feat.ConvMolFeaturizer()\n",
        "# load zinc database in smi format\n",
        "df= pd.read_csv(\"zinc100k.smi\", sep=\" \", header=None)\n",
        "df.columns=[\"SMILES\", \"Name\"]\n",
        "rows, cols= df.shape\n",
        "df[\"Val\"]= [0]*rows\n",
        "print(df.head(5))"
      ],
      "execution_count": null,
      "outputs": [
        {
          "output_type": "stream",
          "text": [
            "                                              SMILES              Name  Val\n",
            "0        CN(CCO)C[C@@H](O)Cn1cnc2c1c(=O)n(C)c(=O)n2C  ZINC000000000843    0\n",
            "1  O=c1[nH]c(=O)n([C@@H]2C[C@@H](O)[C@H](CO)O2)cc1Br  ZINC000000001063    0\n",
            "2            Cn1c2ncn(CC(=O)N3CCOCC3)c2c(=O)n(C)c1=O  ZINC000000003942    0\n",
            "3        CN1C(=O)C[C@H](N2CCN(C(=O)CN3CCCC3)CC2)C1=O  ZINC000000036436    0\n",
            "4  CC(=O)NC[C@H](O)[C@H]1O[C@H]2OC(C)(C)O[C@H]2[C...  ZINC000000041101    0\n"
          ],
          "name": "stdout"
        }
      ]
    },
    {
      "cell_type": "code",
      "metadata": {
        "colab": {
          "base_uri": "https://localhost:8080/"
        },
        "id": "xnvaUGtsBaVy",
        "outputId": "c8d662ec-0361-4a6d-91a9-5c49b1fa4362"
      },
      "source": [
        "# creating zinc database in csv format\n",
        "file_name= \"zinc_data.csv\"\n",
        "df.to_csv(file_name, index=False)\n",
        "loader= dch.data.CSVLoader(tasks=[\"Val\"], smiles_field= \"SMILES\",  featurizer= featurizer)\n",
        "# 8192 is any randome size\n",
        "dataset= loader.featurize(file_name, shard_size=8192)"
      ],
      "execution_count": null,
      "outputs": [
        {
          "output_type": "stream",
          "text": [
            "smiles_field is deprecated and will be removed in a future version of DeepChem.Use feature_field instead.\n"
          ],
          "name": "stderr"
        }
      ]
    },
    {
      "cell_type": "code",
      "metadata": {
        "id": "_EC6NqZeBaZ-"
      },
      "source": [
        "###As we can see, most of the work is focused on data preparation, prediction of our model takes only \n",
        "### one line of code\n",
        "pred= model_final.predict(dataset)"
      ],
      "execution_count": null,
      "outputs": []
    },
    {
      "cell_type": "code",
      "metadata": {
        "colab": {
          "base_uri": "https://localhost:8080/",
          "height": 1000
        },
        "id": "zaV9jGyQBada",
        "outputId": "3040cc32-c000-43c8-c8e4-163d2f4c5ead"
      },
      "source": [
        "#Making our prediction a dataframe\n",
        "prediction_df= pd.DataFrame([x.flatten() for x in pred], columns= [\"Neg\", \"Pos\"])\n",
        "combination_df= df.join(prediction_df, how=\"outer\")\n",
        "combination_df.sort_values(\"Pos\", inplace= True, ascending= False)\n",
        "PandasTools.AddMoleculeColumnToFrame(combination_df, \"SMILES\", \"Mol\")\n",
        "combination_df.head(5)"
      ],
      "execution_count": null,
      "outputs": [
        {
          "output_type": "execute_result",
          "data": {
            "text/html": [
              "<div>\n",
              "<style scoped>\n",
              "    .dataframe tbody tr th:only-of-type {\n",
              "        vertical-align: middle;\n",
              "    }\n",
              "\n",
              "    .dataframe tbody tr th {\n",
              "        vertical-align: top;\n",
              "    }\n",
              "\n",
              "    .dataframe thead th {\n",
              "        text-align: right;\n",
              "    }\n",
              "</style>\n",
              "<table border=\"1\" class=\"dataframe\">\n",
              "  <thead>\n",
              "    <tr style=\"text-align: right;\">\n",
              "      <th></th>\n",
              "      <th>SMILES</th>\n",
              "      <th>Name</th>\n",
              "      <th>Val</th>\n",
              "      <th>Neg</th>\n",
              "      <th>Pos</th>\n",
              "      <th>Mol</th>\n",
              "    </tr>\n",
              "  </thead>\n",
              "  <tbody>\n",
              "    <tr>\n",
              "      <th>71760</th>\n",
              "      <td>CN(C)c1nc(NC(=O)c2ccc(-n3cnnn3)cn2)n[nH]1</td>\n",
              "      <td>ZINC000622595378</td>\n",
              "      <td>0</td>\n",
              "      <td>0.169535</td>\n",
              "      <td>0.830464</td>\n",
              "      <td><img data-content=\"rdkit/molecule\" src=\"data:image/png;base64,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\" alt=\"Mol\"/></td>\n",
              "    </tr>\n",
              "    <tr>\n",
              "      <th>54971</th>\n",
              "      <td>O=C(Cn1ccc(NC(=O)c2nc[nH]n2)n1)N1CCOCC1</td>\n",
              "      <td>ZINC000542832769</td>\n",
              "      <td>0</td>\n",
              "      <td>0.226387</td>\n",
              "      <td>0.773613</td>\n",
              "      <td><img data-content=\"rdkit/molecule\" src=\"data:image/png;base64,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\" alt=\"Mol\"/></td>\n",
              "    </tr>\n",
              "    <tr>\n",
              "      <th>68412</th>\n",
              "      <td>O=C(c1ccn2nnnc2c1)N(CCO)CCN1CCOCC1</td>\n",
              "      <td>ZINC000612672635</td>\n",
              "      <td>0</td>\n",
              "      <td>0.326844</td>\n",
              "      <td>0.673156</td>\n",
              "      <td><img data-content=\"rdkit/molecule\" src=\"data:image/png;base64,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\" alt=\"Mol\"/></td>\n",
              "    </tr>\n",
              "    <tr>\n",
              "      <th>47910</th>\n",
              "      <td>Cn1nnnc1CN1CCN(c2cncc3ncnn32)CC1</td>\n",
              "      <td>ZINC000434861486</td>\n",
              "      <td>0</td>\n",
              "      <td>0.330326</td>\n",
              "      <td>0.669674</td>\n",
              "      <td><img data-content=\"rdkit/molecule\" src=\"data:image/png;base64,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\" alt=\"Mol\"/></td>\n",
              "    </tr>\n",
              "    <tr>\n",
              "      <th>55783</th>\n",
              "      <td>O=C(N[C@H](CO)CN1CCOCC1)c1ccc2nnc(O)n2c1</td>\n",
              "      <td>ZINC000551955037</td>\n",
              "      <td>0</td>\n",
              "      <td>0.366199</td>\n",
              "      <td>0.633801</td>\n",
              "      <td><img data-content=\"rdkit/molecule\" src=\"data:image/png;base64,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\" alt=\"Mol\"/></td>\n",
              "    </tr>\n",
              "  </tbody>\n",
              "</table>\n",
              "</div>"
            ],
            "text/plain": [
              "                                          SMILES  ...                                                Mol\n",
              "71760  CN(C)c1nc(NC(=O)c2ccc(-n3cnnn3)cn2)n[nH]1  ...  <img data-content=\"rdkit/molecule\" src=\"data:i...\n",
              "54971    O=C(Cn1ccc(NC(=O)c2nc[nH]n2)n1)N1CCOCC1  ...  <img data-content=\"rdkit/molecule\" src=\"data:i...\n",
              "68412         O=C(c1ccn2nnnc2c1)N(CCO)CCN1CCOCC1  ...  <img data-content=\"rdkit/molecule\" src=\"data:i...\n",
              "47910           Cn1nnnc1CN1CCN(c2cncc3ncnn32)CC1  ...  <img data-content=\"rdkit/molecule\" src=\"data:i...\n",
              "55783   O=C(N[C@H](CO)CN1CCOCC1)c1ccc2nnc(O)n2c1  ...  <img data-content=\"rdkit/molecule\" src=\"data:i...\n",
              "\n",
              "[5 rows x 6 columns]"
            ]
          },
          "metadata": {
            "tags": []
          },
          "execution_count": 59
        }
      ]
    },
    {
      "cell_type": "markdown",
      "metadata": {
        "id": "MeC22yrbk0z5"
      },
      "source": [
        "# **Top 10 potential chemical compounds**"
      ]
    },
    {
      "cell_type": "code",
      "metadata": {
        "colab": {
          "base_uri": "https://localhost:8080/",
          "height": 417
        },
        "id": "vNNC54lwBagx",
        "outputId": "f64e7ff7-d40f-4bab-c412-a824e8b84fad"
      },
      "source": [
        "Draw.MolsToGridImage(combination_df.Mol[:10], molsPerRow=5, legends=[\"%.2f\" % x for x in combination_df.Pos[:10]])"
      ],
      "execution_count": null,
      "outputs": [
        {
          "output_type": "execute_result",
          "data": {
            "image/png": "[encoded data removed]",
            "text/plain": [
              "<IPython.core.display.Image object>"
            ]
          },
          "metadata": {
            "tags": []
          },
          "execution_count": 60
        }
      ]
    },
    {
      "cell_type": "code",
      "metadata": {
        "id": "3mgszaUGBalA"
      },
      "source": [
        ""
      ],
      "execution_count": null,
      "outputs": []
    },
    {
      "cell_type": "code",
      "metadata": {
        "id": "S1VRlR64BaoX"
      },
      "source": [
        ""
      ],
      "execution_count": null,
      "outputs": []
    }
  ]
}